{
  "cells": [
    {
      "cell_type": "markdown",
      "source": [
        "# Topic Modelling using Latent Dirichlet Allocation #\n",
        "\n",
        "LDA is used to classify text in a document to a particular topic. It builds a topic per document model and words per topic model, modeled as Dirichlet distributions.\n",
        "\n",
        "* Each document is modeled as a multinomial distribution of topics and each topic is modeled as a multinomial distribution of words.\n",
        "* LDA assumes that the every chunk of text we feed into it will contain words that are somehow related. Therefore choosing the right corpus of data is crucial.\n",
        "* It also assumes documents are produced from a mixture of topics. Those topics then generate words based on their probability distribution."
      ],
      "metadata": {
        "id": "2MbZtmxjEDeF"
      },
      "id": "2MbZtmxjEDeF"
    },
    {
      "cell_type": "markdown",
      "source": [
        "## Imports & Web Scraping ##"
      ],
      "metadata": {
        "id": "XjKT1qTtFeTG"
      },
      "id": "XjKT1qTtFeTG"
    },
    {
      "cell_type": "code",
      "execution_count": 78,
      "id": "65ec1a6f-b771-4b80-aeab-37bad8a03fc7",
      "metadata": {
        "id": "65ec1a6f-b771-4b80-aeab-37bad8a03fc7"
      },
      "outputs": [],
      "source": [
        "# Standard imports\n",
        "import pandas as pd\n",
        "\n",
        "# For web scraping\n",
        "import requests\n",
        "#import urllib.request\n",
        "from bs4 import BeautifulSoup\n",
        "\n",
        "import warnings\n",
        "warnings.filterwarnings(\"ignore\", category=DeprecationWarning)\n"
      ]
    },
    {
      "cell_type": "code",
      "execution_count": 79,
      "id": "f9df84d8-2bd3-4662-b0be-4275284a6fec",
      "metadata": {
        "colab": {
          "base_uri": "https://localhost:8080/"
        },
        "id": "f9df84d8-2bd3-4662-b0be-4275284a6fec",
        "outputId": "fa8cc42d-2646-4e22-8775-61e1df75cda0"
      },
      "outputs": [
        {
          "output_type": "execute_result",
          "data": {
            "text/plain": [
              "<Response [200]>"
            ]
          },
          "metadata": {},
          "execution_count": 79
        }
      ],
      "source": [
        "r = requests.get(\"https://bleacherreport.com/nba\")\n",
        "r\n",
        "r2 = requests.get(\"https://www.thescore.com/nba/news\")\n",
        "r2"
      ]
    },
    {
      "cell_type": "code",
      "execution_count": 80,
      "id": "63188063-85b6-41dd-ba29-54fefb0c0ef4",
      "metadata": {
        "id": "63188063-85b6-41dd-ba29-54fefb0c0ef4"
      },
      "outputs": [],
      "source": [
        "# soup = BeautifulSoup(r2.content)"
      ]
    },
    {
      "cell_type": "code",
      "execution_count": 81,
      "id": "5005000e-5527-49ac-b695-2c2eb3d0d1ce",
      "metadata": {
        "collapsed": true,
        "id": "5005000e-5527-49ac-b695-2c2eb3d0d1ce"
      },
      "outputs": [],
      "source": [
        "\n",
        "# Print out the prettified HTML content to understand its structure\n",
        "# print(soup.prettify())"
      ]
    },
    {
      "cell_type": "markdown",
      "source": [
        "### Sports News Headlines Data"
      ],
      "metadata": {
        "id": "YNtKtmowJVG9"
      },
      "id": "YNtKtmowJVG9"
    },
    {
      "cell_type": "code",
      "execution_count": 82,
      "id": "1e5411da-8703-490d-ab07-5171971eed29",
      "metadata": {
        "colab": {
          "base_uri": "https://localhost:8080/"
        },
        "id": "1e5411da-8703-490d-ab07-5171971eed29",
        "outputId": "5b755af3-224c-46c3-9834-767bdf187e12"
      },
      "outputs": [
        {
          "output_type": "stream",
          "name": "stdout",
          "text": [
            "                                   Headline\n",
            "0                                       NBA\n",
            "1         Dame's Game-Winner vs. Rockets ⌚️\n",
            "2                      76ers Fall to 2-11 📉\n",
            "3                     Bam Mixes Up Embiid 🌀\n",
            "4               Jericho Sims Dunks on Kuz 😦\n",
            "..                                      ...\n",
            "71      Bron Extends Triple-Double Streak 📈\n",
            "72                  D-Book Shoves Lu Dort 😳\n",
            "73              Jimmy's New Look on Bench 😂\n",
            "74                 AD Scores 40 vs. Spurs 💪\n",
            "75  76ers Fall to 2-10 After Loss vs. Magic\n",
            "\n",
            "[76 rows x 1 columns]\n"
          ]
        }
      ],
      "source": [
        "\n",
        "# Send a request to the website\n",
        "url = \"https://bleacherreport.com/nba\"\n",
        "response = requests.get(url)\n",
        "\n",
        "# Check if the request was successful\n",
        "if response.status_code == 200:\n",
        "    # Parse the HTML content\n",
        "    soup = BeautifulSoup(response.content, 'html.parser')\n",
        "\n",
        "# Find all the headline elements\n",
        "    headlines = []\n",
        "    for item in soup.find_all('h3'):\n",
        "        headlines.append(item.get_text(strip=True))\n",
        "\n",
        "# Load the headlines into a DataFrame\n",
        "    df = pd.DataFrame(headlines, columns=['Headline'])\n",
        "\n",
        "# Remove Duplicates\n",
        "    df = df.drop_duplicates().reset_index(drop=True)\n",
        "    print(df)\n",
        "else:\n",
        "    print(\"Failed to retrieve the page. Status code:\", response.status_code)"
      ]
    },
    {
      "cell_type": "code",
      "execution_count": 83,
      "id": "18625411-2053-4e6f-be7a-2afe0021c49d",
      "metadata": {
        "id": "18625411-2053-4e6f-be7a-2afe0021c49d"
      },
      "outputs": [],
      "source": [
        "df = df.drop(index=0).reset_index(drop=True)"
      ]
    },
    {
      "cell_type": "code",
      "execution_count": 84,
      "id": "f4b7c8e8-de44-483a-b264-d05396919fe9",
      "metadata": {
        "id": "f4b7c8e8-de44-483a-b264-d05396919fe9",
        "colab": {
          "base_uri": "https://localhost:8080/"
        },
        "outputId": "1f985a3c-0f05-42e8-92c6-a7c44f37f822"
      },
      "outputs": [
        {
          "output_type": "stream",
          "name": "stdout",
          "text": [
            "                                             Headline\n",
            "0   The Eugene Melnyk era in Ottawa: Hopeful, then...\n",
            "1   ‘The most toxic environment I’ve ever been a p...\n",
            "2   ‘We went through hell’: Former players accuse ...\n",
            "3   ‘A failed system’: A corrupt process exploits ...\n",
            "4   Michigan men’s hockey coach accused of beratin...\n",
            "..                                                ...\n",
            "68  The Athletic Football Podcast: The Story of th...\n",
            "69                                 Talk of the Devils\n",
            "70                                     Away from Home\n",
            "71              The Athletic Women’s Football Podcast\n",
            "72                                   Football Clichés\n",
            "\n",
            "[73 rows x 1 columns]\n"
          ]
        }
      ],
      "source": [
        "\n",
        "\n",
        "# Send a request to the website\n",
        "url = \"https://www.nytimes.com/athletic/3999271/2022/12/20/best-of-the-athletic-2022-top-stories-for-mlb-nfl-nhl-nba-global-football-and-more/\"\n",
        "response = requests.get(url)\n",
        "\n",
        "# Check if the request was successful\n",
        "if response.status_code == 200:\n",
        "    # Parse the HTML content\n",
        "    soup = BeautifulSoup(response.content, 'html.parser')\n",
        "\n",
        "# Find all the headline elements\n",
        "    headlines2 = []\n",
        "    for item in soup.find_all('h3'):\n",
        "        headlines2.append(item.get_text(strip=True))\n",
        "\n",
        "# Load the headlines into a DataFrame\n",
        "    df2 = pd.DataFrame(headlines2, columns=['Headline'])\n",
        "\n",
        "# Remove Duplicates\n",
        "    df2 = df2.drop_duplicates().reset_index(drop=True)\n",
        "    print(df2)\n",
        "else:\n",
        "    print(\"Failed to retrieve the page. Status code:\", response.status_code)"
      ]
    },
    {
      "cell_type": "code",
      "execution_count": 85,
      "id": "a51bc5d9-7c34-413f-a9ff-f39991b11651",
      "metadata": {
        "id": "a51bc5d9-7c34-413f-a9ff-f39991b11651",
        "colab": {
          "base_uri": "https://localhost:8080/"
        },
        "outputId": "38a9bbee-1f66-4751-a319-4c0d6f514a47"
      },
      "outputs": [
        {
          "output_type": "stream",
          "name": "stdout",
          "text": [
            "                                 Headline\n",
            "0                                     NFL\n",
            "1   Texans Blow Out Cowboys in Dallas 😮‍💨\n",
            "2            Texans Send Cowboys to 3-7 😬\n",
            "3               CeeDee’s Face on Bench ☹️\n",
            "4         Broken Piece of Cowboys’ Roof 😶\n",
            "..                                    ...\n",
            "62          Beyonce x NFL Halftime Show 🎄\n",
            "63          Colts Show Richardson Love 🗣️\n",
            "64               Week 11 NFL Highlights 🍿\n",
            "65         Steelers Hold Off Ravens 18-16\n",
            "66               Lamar's Quote After Loss\n",
            "\n",
            "[67 rows x 1 columns]\n"
          ]
        }
      ],
      "source": [
        "\n",
        "\n",
        "# Send a request to the website\n",
        "url = \"https://bleacherreport.com/nfl\"\n",
        "response = requests.get(url)\n",
        "\n",
        "# Check if the request was successful\n",
        "if response.status_code == 200:\n",
        "    # Parse the HTML content\n",
        "    soup = BeautifulSoup(response.content, 'html.parser')\n",
        "\n",
        "# Find all the headline elements\n",
        "    headlines4 = []\n",
        "    for item in soup.find_all('h3'):\n",
        "        headlines4.append(item.get_text(strip=True))\n",
        "\n",
        "# Load the headlines into a DataFrame\n",
        "    df4 = pd.DataFrame(headlines4, columns=['Headline'])\n",
        "\n",
        "# Remove Duplicates\n",
        "    df4 = df4.drop_duplicates().reset_index(drop=True)\n",
        "    print(df4)\n",
        "else:\n",
        "    print(\"Failed to retrieve the page. Status code:\", response.status_code)"
      ]
    },
    {
      "cell_type": "code",
      "execution_count": 86,
      "id": "8ad8c6f1-864f-4217-85b2-c398d4c51faf",
      "metadata": {
        "id": "8ad8c6f1-864f-4217-85b2-c398d4c51faf"
      },
      "outputs": [],
      "source": [
        "df4 = df4.drop(index=0).reset_index(drop=True)"
      ]
    },
    {
      "cell_type": "code",
      "execution_count": 87,
      "id": "682f44ad-5723-450e-9cb1-82eb3e83b157",
      "metadata": {
        "id": "682f44ad-5723-450e-9cb1-82eb3e83b157",
        "colab": {
          "base_uri": "https://localhost:8080/"
        },
        "outputId": "c6c42554-78d1-42a8-838c-cf11b1b8dd3a"
      },
      "outputs": [
        {
          "output_type": "stream",
          "name": "stdout",
          "text": [
            "                                             Headline\n",
            "0                                                 MLB\n",
            "1                     Paul Skenes, Luis Gil Win ROY 🏆\n",
            "2                           Skenes’ Reaction to ROY 😂\n",
            "3                          Pirates’ Post for Skenes 💛\n",
            "4                        Yankees' Hype Tape for Gil 😤\n",
            "..                                                ...\n",
            "64                      AL, NL Platinum Glove Winners\n",
            "65             Offseason Preview for Every MLB Team 📝\n",
            "66                     MLB Moneyball Power Rankings 🤑\n",
            "67  Babe Ruth's Rare 1916 Rookie Card to Be Sold a...\n",
            "68                Vogt Deserves Manager of the Year 🗣\n",
            "\n",
            "[69 rows x 1 columns]\n"
          ]
        }
      ],
      "source": [
        "# Send a request to the website\n",
        "url = \"https://bleacherreport.com/mlb\"\n",
        "response = requests.get(url)\n",
        "\n",
        "# Check if the request was successful\n",
        "if response.status_code == 200:\n",
        "    # Parse the HTML content\n",
        "    soup = BeautifulSoup(response.content, 'html.parser')\n",
        "\n",
        "# Find all the headline elements\n",
        "    headlines5 = []\n",
        "    for item in soup.find_all('h3'):\n",
        "        headlines5.append(item.get_text(strip=True))\n",
        "\n",
        "# Load the headlines into a DataFrame\n",
        "    df5 = pd.DataFrame(headlines5, columns=['Headline'])\n",
        "\n",
        "# Remove Duplicates\n",
        "    df5 = df5.drop_duplicates().reset_index(drop=True)\n",
        "    print(df5)\n",
        "else:\n",
        "    print(\"Failed to retrieve the page. Status code:\", response.status_code)"
      ]
    },
    {
      "cell_type": "code",
      "execution_count": 88,
      "id": "dbca1460-4b6e-49c1-bb76-3ff26276cd34",
      "metadata": {
        "id": "dbca1460-4b6e-49c1-bb76-3ff26276cd34"
      },
      "outputs": [],
      "source": [
        "df5 = df5.drop(index=0).reset_index(drop=True)"
      ]
    },
    {
      "cell_type": "code",
      "execution_count": 89,
      "id": "923835f8-3544-4166-aa5c-85314b8ff916",
      "metadata": {
        "id": "923835f8-3544-4166-aa5c-85314b8ff916",
        "colab": {
          "base_uri": "https://localhost:8080/"
        },
        "outputId": "dc96657d-c580-4b8a-afa6-bb1c15fd18c7",
        "collapsed": true
      },
      "outputs": [
        {
          "output_type": "stream",
          "name": "stdout",
          "text": [
            "                                         Headline\n",
            "0                                             NHL\n",
            "1                           Monday's Top 10 Plays\n",
            "2             Macklin Celebrini Gets on the Board\n",
            "3       1-Goal 1st Period in Sharks vs. Red Wings\n",
            "4                        Ovi Going Off vs. Utah 🔥\n",
            "..                                            ...\n",
            "65     NHL Draft Prospects Stocks That Are Rising\n",
            "66  1 Word for Every Team After the First Month 📖\n",
            "67                  Jack Hughes' Breakaway Goal 😈\n",
            "68                 Celebrini Goes Back-To-Back ✌️\n",
            "69                    Latest NHL Power Rankings 📊\n",
            "\n",
            "[70 rows x 1 columns]\n"
          ]
        }
      ],
      "source": [
        "# Send a request to the website\n",
        "url = \"https://bleacherreport.com/nhl\"\n",
        "response = requests.get(url)\n",
        "\n",
        "# Check if the request was successful\n",
        "if response.status_code == 200:\n",
        "    # Parse the HTML content\n",
        "    soup = BeautifulSoup(response.content, 'html.parser')\n",
        "\n",
        "# Find all the headline elements\n",
        "    headlines6 = []\n",
        "    for item in soup.find_all('h3'):\n",
        "        headlines6.append(item.get_text(strip=True))\n",
        "\n",
        "# Load the headlines into a DataFrame\n",
        "    df6 = pd.DataFrame(headlines6, columns=['Headline'])\n",
        "\n",
        "# Remove Duplicates\n",
        "    df6 = df6.drop_duplicates().reset_index(drop=True)\n",
        "    print(df6)\n",
        "else:\n",
        "    print(\"Failed to retrieve the page. Status code:\", response.status_code)"
      ]
    },
    {
      "cell_type": "code",
      "execution_count": 90,
      "id": "fec3d96e-9603-4183-865b-15623888c52e",
      "metadata": {
        "id": "fec3d96e-9603-4183-865b-15623888c52e"
      },
      "outputs": [],
      "source": [
        "df6 = df6.drop(index=0).reset_index(drop=True)"
      ]
    },
    {
      "cell_type": "code",
      "execution_count": 91,
      "id": "7764698d-e499-4e86-bad7-541b02546815",
      "metadata": {
        "id": "7764698d-e499-4e86-bad7-541b02546815",
        "colab": {
          "base_uri": "https://localhost:8080/",
          "height": 424
        },
        "outputId": "e5e74384-a9c7-4267-c87b-82364cac1fe0"
      },
      "outputs": [
        {
          "output_type": "execute_result",
          "data": {
            "text/plain": [
              "                                         Headline\n",
              "0                           Monday's Top 10 Plays\n",
              "1             Macklin Celebrini Gets on the Board\n",
              "2       1-Goal 1st Period in Sharks vs. Red Wings\n",
              "3                        Ovi Going Off vs. Utah 🔥\n",
              "4            Mike Reilly to Undergo Heart Surgery\n",
              "..                                            ...\n",
              "64     NHL Draft Prospects Stocks That Are Rising\n",
              "65  1 Word for Every Team After the First Month 📖\n",
              "66                  Jack Hughes' Breakaway Goal 😈\n",
              "67                 Celebrini Goes Back-To-Back ✌️\n",
              "68                    Latest NHL Power Rankings 📊\n",
              "\n",
              "[69 rows x 1 columns]"
            ],
            "text/html": [
              "\n",
              "  <div id=\"df-3b883db3-131e-44bd-a8b2-35fca9fd6f8c\" class=\"colab-df-container\">\n",
              "    <div>\n",
              "<style scoped>\n",
              "    .dataframe tbody tr th:only-of-type {\n",
              "        vertical-align: middle;\n",
              "    }\n",
              "\n",
              "    .dataframe tbody tr th {\n",
              "        vertical-align: top;\n",
              "    }\n",
              "\n",
              "    .dataframe thead th {\n",
              "        text-align: right;\n",
              "    }\n",
              "</style>\n",
              "<table border=\"1\" class=\"dataframe\">\n",
              "  <thead>\n",
              "    <tr style=\"text-align: right;\">\n",
              "      <th></th>\n",
              "      <th>Headline</th>\n",
              "    </tr>\n",
              "  </thead>\n",
              "  <tbody>\n",
              "    <tr>\n",
              "      <th>0</th>\n",
              "      <td>Monday's Top 10 Plays</td>\n",
              "    </tr>\n",
              "    <tr>\n",
              "      <th>1</th>\n",
              "      <td>Macklin Celebrini Gets on the Board</td>\n",
              "    </tr>\n",
              "    <tr>\n",
              "      <th>2</th>\n",
              "      <td>1-Goal 1st Period in Sharks vs. Red Wings</td>\n",
              "    </tr>\n",
              "    <tr>\n",
              "      <th>3</th>\n",
              "      <td>Ovi Going Off vs. Utah 🔥</td>\n",
              "    </tr>\n",
              "    <tr>\n",
              "      <th>4</th>\n",
              "      <td>Mike Reilly to Undergo Heart Surgery</td>\n",
              "    </tr>\n",
              "    <tr>\n",
              "      <th>...</th>\n",
              "      <td>...</td>\n",
              "    </tr>\n",
              "    <tr>\n",
              "      <th>64</th>\n",
              "      <td>NHL Draft Prospects Stocks That Are Rising</td>\n",
              "    </tr>\n",
              "    <tr>\n",
              "      <th>65</th>\n",
              "      <td>1 Word for Every Team After the First Month 📖</td>\n",
              "    </tr>\n",
              "    <tr>\n",
              "      <th>66</th>\n",
              "      <td>Jack Hughes' Breakaway Goal 😈</td>\n",
              "    </tr>\n",
              "    <tr>\n",
              "      <th>67</th>\n",
              "      <td>Celebrini Goes Back-To-Back ✌️</td>\n",
              "    </tr>\n",
              "    <tr>\n",
              "      <th>68</th>\n",
              "      <td>Latest NHL Power Rankings 📊</td>\n",
              "    </tr>\n",
              "  </tbody>\n",
              "</table>\n",
              "<p>69 rows × 1 columns</p>\n",
              "</div>\n",
              "    <div class=\"colab-df-buttons\">\n",
              "\n",
              "  <div class=\"colab-df-container\">\n",
              "    <button class=\"colab-df-convert\" onclick=\"convertToInteractive('df-3b883db3-131e-44bd-a8b2-35fca9fd6f8c')\"\n",
              "            title=\"Convert this dataframe to an interactive table.\"\n",
              "            style=\"display:none;\">\n",
              "\n",
              "  <svg xmlns=\"http://www.w3.org/2000/svg\" height=\"24px\" viewBox=\"0 -960 960 960\">\n",
              "    <path d=\"M120-120v-720h720v720H120Zm60-500h600v-160H180v160Zm220 220h160v-160H400v160Zm0 220h160v-160H400v160ZM180-400h160v-160H180v160Zm440 0h160v-160H620v160ZM180-180h160v-160H180v160Zm440 0h160v-160H620v160Z\"/>\n",
              "  </svg>\n",
              "    </button>\n",
              "\n",
              "  <style>\n",
              "    .colab-df-container {\n",
              "      display:flex;\n",
              "      gap: 12px;\n",
              "    }\n",
              "\n",
              "    .colab-df-convert {\n",
              "      background-color: #E8F0FE;\n",
              "      border: none;\n",
              "      border-radius: 50%;\n",
              "      cursor: pointer;\n",
              "      display: none;\n",
              "      fill: #1967D2;\n",
              "      height: 32px;\n",
              "      padding: 0 0 0 0;\n",
              "      width: 32px;\n",
              "    }\n",
              "\n",
              "    .colab-df-convert:hover {\n",
              "      background-color: #E2EBFA;\n",
              "      box-shadow: 0px 1px 2px rgba(60, 64, 67, 0.3), 0px 1px 3px 1px rgba(60, 64, 67, 0.15);\n",
              "      fill: #174EA6;\n",
              "    }\n",
              "\n",
              "    .colab-df-buttons div {\n",
              "      margin-bottom: 4px;\n",
              "    }\n",
              "\n",
              "    [theme=dark] .colab-df-convert {\n",
              "      background-color: #3B4455;\n",
              "      fill: #D2E3FC;\n",
              "    }\n",
              "\n",
              "    [theme=dark] .colab-df-convert:hover {\n",
              "      background-color: #434B5C;\n",
              "      box-shadow: 0px 1px 3px 1px rgba(0, 0, 0, 0.15);\n",
              "      filter: drop-shadow(0px 1px 2px rgba(0, 0, 0, 0.3));\n",
              "      fill: #FFFFFF;\n",
              "    }\n",
              "  </style>\n",
              "\n",
              "    <script>\n",
              "      const buttonEl =\n",
              "        document.querySelector('#df-3b883db3-131e-44bd-a8b2-35fca9fd6f8c button.colab-df-convert');\n",
              "      buttonEl.style.display =\n",
              "        google.colab.kernel.accessAllowed ? 'block' : 'none';\n",
              "\n",
              "      async function convertToInteractive(key) {\n",
              "        const element = document.querySelector('#df-3b883db3-131e-44bd-a8b2-35fca9fd6f8c');\n",
              "        const dataTable =\n",
              "          await google.colab.kernel.invokeFunction('convertToInteractive',\n",
              "                                                    [key], {});\n",
              "        if (!dataTable) return;\n",
              "\n",
              "        const docLinkHtml = 'Like what you see? Visit the ' +\n",
              "          '<a target=\"_blank\" href=https://colab.research.google.com/notebooks/data_table.ipynb>data table notebook</a>'\n",
              "          + ' to learn more about interactive tables.';\n",
              "        element.innerHTML = '';\n",
              "        dataTable['output_type'] = 'display_data';\n",
              "        await google.colab.output.renderOutput(dataTable, element);\n",
              "        const docLink = document.createElement('div');\n",
              "        docLink.innerHTML = docLinkHtml;\n",
              "        element.appendChild(docLink);\n",
              "      }\n",
              "    </script>\n",
              "  </div>\n",
              "\n",
              "\n",
              "<div id=\"df-36b3ea5b-085b-4bfb-8f2f-5c1c0b6230af\">\n",
              "  <button class=\"colab-df-quickchart\" onclick=\"quickchart('df-36b3ea5b-085b-4bfb-8f2f-5c1c0b6230af')\"\n",
              "            title=\"Suggest charts\"\n",
              "            style=\"display:none;\">\n",
              "\n",
              "<svg xmlns=\"http://www.w3.org/2000/svg\" height=\"24px\"viewBox=\"0 0 24 24\"\n",
              "     width=\"24px\">\n",
              "    <g>\n",
              "        <path d=\"M19 3H5c-1.1 0-2 .9-2 2v14c0 1.1.9 2 2 2h14c1.1 0 2-.9 2-2V5c0-1.1-.9-2-2-2zM9 17H7v-7h2v7zm4 0h-2V7h2v10zm4 0h-2v-4h2v4z\"/>\n",
              "    </g>\n",
              "</svg>\n",
              "  </button>\n",
              "\n",
              "<style>\n",
              "  .colab-df-quickchart {\n",
              "      --bg-color: #E8F0FE;\n",
              "      --fill-color: #1967D2;\n",
              "      --hover-bg-color: #E2EBFA;\n",
              "      --hover-fill-color: #174EA6;\n",
              "      --disabled-fill-color: #AAA;\n",
              "      --disabled-bg-color: #DDD;\n",
              "  }\n",
              "\n",
              "  [theme=dark] .colab-df-quickchart {\n",
              "      --bg-color: #3B4455;\n",
              "      --fill-color: #D2E3FC;\n",
              "      --hover-bg-color: #434B5C;\n",
              "      --hover-fill-color: #FFFFFF;\n",
              "      --disabled-bg-color: #3B4455;\n",
              "      --disabled-fill-color: #666;\n",
              "  }\n",
              "\n",
              "  .colab-df-quickchart {\n",
              "    background-color: var(--bg-color);\n",
              "    border: none;\n",
              "    border-radius: 50%;\n",
              "    cursor: pointer;\n",
              "    display: none;\n",
              "    fill: var(--fill-color);\n",
              "    height: 32px;\n",
              "    padding: 0;\n",
              "    width: 32px;\n",
              "  }\n",
              "\n",
              "  .colab-df-quickchart:hover {\n",
              "    background-color: var(--hover-bg-color);\n",
              "    box-shadow: 0 1px 2px rgba(60, 64, 67, 0.3), 0 1px 3px 1px rgba(60, 64, 67, 0.15);\n",
              "    fill: var(--button-hover-fill-color);\n",
              "  }\n",
              "\n",
              "  .colab-df-quickchart-complete:disabled,\n",
              "  .colab-df-quickchart-complete:disabled:hover {\n",
              "    background-color: var(--disabled-bg-color);\n",
              "    fill: var(--disabled-fill-color);\n",
              "    box-shadow: none;\n",
              "  }\n",
              "\n",
              "  .colab-df-spinner {\n",
              "    border: 2px solid var(--fill-color);\n",
              "    border-color: transparent;\n",
              "    border-bottom-color: var(--fill-color);\n",
              "    animation:\n",
              "      spin 1s steps(1) infinite;\n",
              "  }\n",
              "\n",
              "  @keyframes spin {\n",
              "    0% {\n",
              "      border-color: transparent;\n",
              "      border-bottom-color: var(--fill-color);\n",
              "      border-left-color: var(--fill-color);\n",
              "    }\n",
              "    20% {\n",
              "      border-color: transparent;\n",
              "      border-left-color: var(--fill-color);\n",
              "      border-top-color: var(--fill-color);\n",
              "    }\n",
              "    30% {\n",
              "      border-color: transparent;\n",
              "      border-left-color: var(--fill-color);\n",
              "      border-top-color: var(--fill-color);\n",
              "      border-right-color: var(--fill-color);\n",
              "    }\n",
              "    40% {\n",
              "      border-color: transparent;\n",
              "      border-right-color: var(--fill-color);\n",
              "      border-top-color: var(--fill-color);\n",
              "    }\n",
              "    60% {\n",
              "      border-color: transparent;\n",
              "      border-right-color: var(--fill-color);\n",
              "    }\n",
              "    80% {\n",
              "      border-color: transparent;\n",
              "      border-right-color: var(--fill-color);\n",
              "      border-bottom-color: var(--fill-color);\n",
              "    }\n",
              "    90% {\n",
              "      border-color: transparent;\n",
              "      border-bottom-color: var(--fill-color);\n",
              "    }\n",
              "  }\n",
              "</style>\n",
              "\n",
              "  <script>\n",
              "    async function quickchart(key) {\n",
              "      const quickchartButtonEl =\n",
              "        document.querySelector('#' + key + ' button');\n",
              "      quickchartButtonEl.disabled = true;  // To prevent multiple clicks.\n",
              "      quickchartButtonEl.classList.add('colab-df-spinner');\n",
              "      try {\n",
              "        const charts = await google.colab.kernel.invokeFunction(\n",
              "            'suggestCharts', [key], {});\n",
              "      } catch (error) {\n",
              "        console.error('Error during call to suggestCharts:', error);\n",
              "      }\n",
              "      quickchartButtonEl.classList.remove('colab-df-spinner');\n",
              "      quickchartButtonEl.classList.add('colab-df-quickchart-complete');\n",
              "    }\n",
              "    (() => {\n",
              "      let quickchartButtonEl =\n",
              "        document.querySelector('#df-36b3ea5b-085b-4bfb-8f2f-5c1c0b6230af button');\n",
              "      quickchartButtonEl.style.display =\n",
              "        google.colab.kernel.accessAllowed ? 'block' : 'none';\n",
              "    })();\n",
              "  </script>\n",
              "</div>\n",
              "\n",
              "  <div id=\"id_ed5fd3a6-2b45-4888-ae8b-913ada128f2d\">\n",
              "    <style>\n",
              "      .colab-df-generate {\n",
              "        background-color: #E8F0FE;\n",
              "        border: none;\n",
              "        border-radius: 50%;\n",
              "        cursor: pointer;\n",
              "        display: none;\n",
              "        fill: #1967D2;\n",
              "        height: 32px;\n",
              "        padding: 0 0 0 0;\n",
              "        width: 32px;\n",
              "      }\n",
              "\n",
              "      .colab-df-generate:hover {\n",
              "        background-color: #E2EBFA;\n",
              "        box-shadow: 0px 1px 2px rgba(60, 64, 67, 0.3), 0px 1px 3px 1px rgba(60, 64, 67, 0.15);\n",
              "        fill: #174EA6;\n",
              "      }\n",
              "\n",
              "      [theme=dark] .colab-df-generate {\n",
              "        background-color: #3B4455;\n",
              "        fill: #D2E3FC;\n",
              "      }\n",
              "\n",
              "      [theme=dark] .colab-df-generate:hover {\n",
              "        background-color: #434B5C;\n",
              "        box-shadow: 0px 1px 3px 1px rgba(0, 0, 0, 0.15);\n",
              "        filter: drop-shadow(0px 1px 2px rgba(0, 0, 0, 0.3));\n",
              "        fill: #FFFFFF;\n",
              "      }\n",
              "    </style>\n",
              "    <button class=\"colab-df-generate\" onclick=\"generateWithVariable('df6')\"\n",
              "            title=\"Generate code using this dataframe.\"\n",
              "            style=\"display:none;\">\n",
              "\n",
              "  <svg xmlns=\"http://www.w3.org/2000/svg\" height=\"24px\"viewBox=\"0 0 24 24\"\n",
              "       width=\"24px\">\n",
              "    <path d=\"M7,19H8.4L18.45,9,17,7.55,7,17.6ZM5,21V16.75L18.45,3.32a2,2,0,0,1,2.83,0l1.4,1.43a1.91,1.91,0,0,1,.58,1.4,1.91,1.91,0,0,1-.58,1.4L9.25,21ZM18.45,9,17,7.55Zm-12,3A5.31,5.31,0,0,0,4.9,8.1,5.31,5.31,0,0,0,1,6.5,5.31,5.31,0,0,0,4.9,4.9,5.31,5.31,0,0,0,6.5,1,5.31,5.31,0,0,0,8.1,4.9,5.31,5.31,0,0,0,12,6.5,5.46,5.46,0,0,0,6.5,12Z\"/>\n",
              "  </svg>\n",
              "    </button>\n",
              "    <script>\n",
              "      (() => {\n",
              "      const buttonEl =\n",
              "        document.querySelector('#id_ed5fd3a6-2b45-4888-ae8b-913ada128f2d button.colab-df-generate');\n",
              "      buttonEl.style.display =\n",
              "        google.colab.kernel.accessAllowed ? 'block' : 'none';\n",
              "\n",
              "      buttonEl.onclick = () => {\n",
              "        google.colab.notebook.generateWithVariable('df6');\n",
              "      }\n",
              "      })();\n",
              "    </script>\n",
              "  </div>\n",
              "\n",
              "    </div>\n",
              "  </div>\n"
            ],
            "application/vnd.google.colaboratory.intrinsic+json": {
              "type": "dataframe",
              "variable_name": "df6",
              "summary": "{\n  \"name\": \"df6\",\n  \"rows\": 69,\n  \"fields\": [\n    {\n      \"column\": \"Headline\",\n      \"properties\": {\n        \"dtype\": \"string\",\n        \"num_unique_values\": 69,\n        \"samples\": [\n          \"Updated Hart Trophy Rankings for NHL MVP \\ud83c\\udfc6\",\n          \"Monday's Top 10 Plays\",\n          \"Hughes Finds Back of Net \\ud83d\\udcaa\"\n        ],\n        \"semantic_type\": \"\",\n        \"description\": \"\"\n      }\n    }\n  ]\n}"
            }
          },
          "metadata": {},
          "execution_count": 91
        }
      ],
      "source": [
        "df6"
      ]
    },
    {
      "cell_type": "code",
      "execution_count": 92,
      "id": "ecbc47c4-f22d-4781-867c-eaf0a9c09884",
      "metadata": {
        "id": "ecbc47c4-f22d-4781-867c-eaf0a9c09884",
        "colab": {
          "base_uri": "https://localhost:8080/"
        },
        "outputId": "5da86eb7-40fe-40cc-eede-ea342c8dfb27"
      },
      "outputs": [
        {
          "output_type": "stream",
          "name": "stdout",
          "text": [
            "                                          Headline\n",
            "0                Dame's Game-Winner vs. Rockets ⌚️\n",
            "1                             76ers Fall to 2-11 📉\n",
            "2                            Bam Mixes Up Embiid 🌀\n",
            "3                      Jericho Sims Dunks on Kuz 😦\n",
            "4                       KAT's Easy 24-Point Game 🗽\n",
            "..                                             ...\n",
            "345     NHL Draft Prospects Stocks That Are Rising\n",
            "346  1 Word for Every Team After the First Month 📖\n",
            "347                  Jack Hughes' Breakaway Goal 😈\n",
            "348                 Celebrini Goes Back-To-Back ✌️\n",
            "349                    Latest NHL Power Rankings 📊\n",
            "\n",
            "[350 rows x 1 columns]\n"
          ]
        }
      ],
      "source": [
        "# combine all scraped data into 1 single data frame\n",
        "\n",
        "combined_df = pd.concat([df, df2, df4, df5, df6], ignore_index=True)\n",
        "\n",
        "# Remove any repeat entries\n",
        "combined_df = combined_df.drop_duplicates().reset_index(drop=True)\n",
        "\n",
        "print(combined_df)"
      ]
    },
    {
      "cell_type": "code",
      "execution_count": 93,
      "id": "cbfc9172-8fcb-4b16-8b2e-124501f05bfe",
      "metadata": {
        "id": "cbfc9172-8fcb-4b16-8b2e-124501f05bfe",
        "colab": {
          "base_uri": "https://localhost:8080/"
        },
        "outputId": "1707875d-77f0-436a-d15a-86ddef44cc29"
      },
      "outputs": [
        {
          "output_type": "stream",
          "name": "stdout",
          "text": [
            "350\n"
          ]
        }
      ],
      "source": [
        "print(len(combined_df))"
      ]
    },
    {
      "cell_type": "markdown",
      "source": [
        "### CNN 2023 Top news data ###"
      ],
      "metadata": {
        "id": "wPBSoLZpJAvU"
      },
      "id": "wPBSoLZpJAvU"
    },
    {
      "cell_type": "code",
      "source": [
        "# Send a request to the website\n",
        "url = \"https://www.cnn.com/2023/12/28/world/top-100-digital-stories-2023-mabry/index.html\"\n",
        "response = requests.get(url)\n",
        "\n",
        "# Check if the request was successful\n",
        "if response.status_code == 200:\n",
        "    # Parse the HTML content\n",
        "    soup = BeautifulSoup(response.content, 'html.parser')\n",
        "\n",
        "# Find all <a> tags\n",
        "    headlines8 = []\n",
        "    for a_tag in soup.find_all('a', href=True):  # Finds all <a> tags with an href attribute\n",
        "        headline = a_tag.get_text(strip=True)    # Extracts the text inside the <a> tag\n",
        "        if headline:  # Ensure text is not empty\n",
        "            headlines8.append(headline)\n",
        "\n",
        "# Load the headlines into a DataFrame\n",
        "    df8 = pd.DataFrame(headlines8, columns=['Headline'])\n",
        "\n",
        "# Remove Duplicates\n",
        "    df8 = df8.drop_duplicates().reset_index(drop=True)\n",
        "    print(df8)\n",
        "else:\n",
        "    print(\"Failed to retrieve the page. Status code:\", response.status_code)"
      ],
      "metadata": {
        "colab": {
          "base_uri": "https://localhost:8080/"
        },
        "id": "Vbu5Lo8BhFpn",
        "outputId": "35d2effa-1681-4fd2-a93f-c0e936d520e2"
      },
      "execution_count": 94,
      "outputs": [
        {
          "output_type": "stream",
          "name": "stdout",
          "text": [
            "               Headline\n",
            "0                 World\n",
            "1                Africa\n",
            "2              Americas\n",
            "3                  Asia\n",
            "4             Australia\n",
            "..                  ...\n",
            "232  Accessibility & CC\n",
            "233               About\n",
            "234         Newsletters\n",
            "235         Transcripts\n",
            "236         Help Center\n",
            "\n",
            "[237 rows x 1 columns]\n"
          ]
        }
      ],
      "id": "Vbu5Lo8BhFpn"
    },
    {
      "cell_type": "code",
      "source": [
        "df8 = df8.iloc[133:228]\n",
        "df8 = df8.reset_index(drop=True)\n",
        "df8"
      ],
      "metadata": {
        "colab": {
          "base_uri": "https://localhost:8080/",
          "height": 424
        },
        "id": "LefoQFdWhNpy",
        "outputId": "24d22907-90cb-4b27-97cc-b2d75cf0b5ce"
      },
      "execution_count": 95,
      "outputs": [
        {
          "output_type": "execute_result",
          "data": {
            "text/plain": [
              "                                             Headline\n",
              "0             Damar Hamlin’s health update live story\n",
              "1   Missing Titanic sub crew killed after ‘catastr...\n",
              "2           Lewiston, Maine mass shootings live story\n",
              "3   Arnold Schwarzenegger says friend Bruce Willis...\n",
              "4          Missing Titanic sub search news live story\n",
              "..                                                ...\n",
              "90                     Tropical storm Idalia forecast\n",
              "91                                  Idalia live story\n",
              "92                         ‘White’ hydrogen discovery\n",
              "93  Alabama woman who went missing after reporting...\n",
              "94  EXCLUSIVE: Trump captured on tape talking abou...\n",
              "\n",
              "[95 rows x 1 columns]"
            ],
            "text/html": [
              "\n",
              "  <div id=\"df-0c315c03-5579-45c0-a1df-4a7d08569d49\" class=\"colab-df-container\">\n",
              "    <div>\n",
              "<style scoped>\n",
              "    .dataframe tbody tr th:only-of-type {\n",
              "        vertical-align: middle;\n",
              "    }\n",
              "\n",
              "    .dataframe tbody tr th {\n",
              "        vertical-align: top;\n",
              "    }\n",
              "\n",
              "    .dataframe thead th {\n",
              "        text-align: right;\n",
              "    }\n",
              "</style>\n",
              "<table border=\"1\" class=\"dataframe\">\n",
              "  <thead>\n",
              "    <tr style=\"text-align: right;\">\n",
              "      <th></th>\n",
              "      <th>Headline</th>\n",
              "    </tr>\n",
              "  </thead>\n",
              "  <tbody>\n",
              "    <tr>\n",
              "      <th>0</th>\n",
              "      <td>Damar Hamlin’s health update live story</td>\n",
              "    </tr>\n",
              "    <tr>\n",
              "      <th>1</th>\n",
              "      <td>Missing Titanic sub crew killed after ‘catastr...</td>\n",
              "    </tr>\n",
              "    <tr>\n",
              "      <th>2</th>\n",
              "      <td>Lewiston, Maine mass shootings live story</td>\n",
              "    </tr>\n",
              "    <tr>\n",
              "      <th>3</th>\n",
              "      <td>Arnold Schwarzenegger says friend Bruce Willis...</td>\n",
              "    </tr>\n",
              "    <tr>\n",
              "      <th>4</th>\n",
              "      <td>Missing Titanic sub search news live story</td>\n",
              "    </tr>\n",
              "    <tr>\n",
              "      <th>...</th>\n",
              "      <td>...</td>\n",
              "    </tr>\n",
              "    <tr>\n",
              "      <th>90</th>\n",
              "      <td>Tropical storm Idalia forecast</td>\n",
              "    </tr>\n",
              "    <tr>\n",
              "      <th>91</th>\n",
              "      <td>Idalia live story</td>\n",
              "    </tr>\n",
              "    <tr>\n",
              "      <th>92</th>\n",
              "      <td>‘White’ hydrogen discovery</td>\n",
              "    </tr>\n",
              "    <tr>\n",
              "      <th>93</th>\n",
              "      <td>Alabama woman who went missing after reporting...</td>\n",
              "    </tr>\n",
              "    <tr>\n",
              "      <th>94</th>\n",
              "      <td>EXCLUSIVE: Trump captured on tape talking abou...</td>\n",
              "    </tr>\n",
              "  </tbody>\n",
              "</table>\n",
              "<p>95 rows × 1 columns</p>\n",
              "</div>\n",
              "    <div class=\"colab-df-buttons\">\n",
              "\n",
              "  <div class=\"colab-df-container\">\n",
              "    <button class=\"colab-df-convert\" onclick=\"convertToInteractive('df-0c315c03-5579-45c0-a1df-4a7d08569d49')\"\n",
              "            title=\"Convert this dataframe to an interactive table.\"\n",
              "            style=\"display:none;\">\n",
              "\n",
              "  <svg xmlns=\"http://www.w3.org/2000/svg\" height=\"24px\" viewBox=\"0 -960 960 960\">\n",
              "    <path d=\"M120-120v-720h720v720H120Zm60-500h600v-160H180v160Zm220 220h160v-160H400v160Zm0 220h160v-160H400v160ZM180-400h160v-160H180v160Zm440 0h160v-160H620v160ZM180-180h160v-160H180v160Zm440 0h160v-160H620v160Z\"/>\n",
              "  </svg>\n",
              "    </button>\n",
              "\n",
              "  <style>\n",
              "    .colab-df-container {\n",
              "      display:flex;\n",
              "      gap: 12px;\n",
              "    }\n",
              "\n",
              "    .colab-df-convert {\n",
              "      background-color: #E8F0FE;\n",
              "      border: none;\n",
              "      border-radius: 50%;\n",
              "      cursor: pointer;\n",
              "      display: none;\n",
              "      fill: #1967D2;\n",
              "      height: 32px;\n",
              "      padding: 0 0 0 0;\n",
              "      width: 32px;\n",
              "    }\n",
              "\n",
              "    .colab-df-convert:hover {\n",
              "      background-color: #E2EBFA;\n",
              "      box-shadow: 0px 1px 2px rgba(60, 64, 67, 0.3), 0px 1px 3px 1px rgba(60, 64, 67, 0.15);\n",
              "      fill: #174EA6;\n",
              "    }\n",
              "\n",
              "    .colab-df-buttons div {\n",
              "      margin-bottom: 4px;\n",
              "    }\n",
              "\n",
              "    [theme=dark] .colab-df-convert {\n",
              "      background-color: #3B4455;\n",
              "      fill: #D2E3FC;\n",
              "    }\n",
              "\n",
              "    [theme=dark] .colab-df-convert:hover {\n",
              "      background-color: #434B5C;\n",
              "      box-shadow: 0px 1px 3px 1px rgba(0, 0, 0, 0.15);\n",
              "      filter: drop-shadow(0px 1px 2px rgba(0, 0, 0, 0.3));\n",
              "      fill: #FFFFFF;\n",
              "    }\n",
              "  </style>\n",
              "\n",
              "    <script>\n",
              "      const buttonEl =\n",
              "        document.querySelector('#df-0c315c03-5579-45c0-a1df-4a7d08569d49 button.colab-df-convert');\n",
              "      buttonEl.style.display =\n",
              "        google.colab.kernel.accessAllowed ? 'block' : 'none';\n",
              "\n",
              "      async function convertToInteractive(key) {\n",
              "        const element = document.querySelector('#df-0c315c03-5579-45c0-a1df-4a7d08569d49');\n",
              "        const dataTable =\n",
              "          await google.colab.kernel.invokeFunction('convertToInteractive',\n",
              "                                                    [key], {});\n",
              "        if (!dataTable) return;\n",
              "\n",
              "        const docLinkHtml = 'Like what you see? Visit the ' +\n",
              "          '<a target=\"_blank\" href=https://colab.research.google.com/notebooks/data_table.ipynb>data table notebook</a>'\n",
              "          + ' to learn more about interactive tables.';\n",
              "        element.innerHTML = '';\n",
              "        dataTable['output_type'] = 'display_data';\n",
              "        await google.colab.output.renderOutput(dataTable, element);\n",
              "        const docLink = document.createElement('div');\n",
              "        docLink.innerHTML = docLinkHtml;\n",
              "        element.appendChild(docLink);\n",
              "      }\n",
              "    </script>\n",
              "  </div>\n",
              "\n",
              "\n",
              "<div id=\"df-cd2b38dd-473d-4e81-b7de-5325497561c3\">\n",
              "  <button class=\"colab-df-quickchart\" onclick=\"quickchart('df-cd2b38dd-473d-4e81-b7de-5325497561c3')\"\n",
              "            title=\"Suggest charts\"\n",
              "            style=\"display:none;\">\n",
              "\n",
              "<svg xmlns=\"http://www.w3.org/2000/svg\" height=\"24px\"viewBox=\"0 0 24 24\"\n",
              "     width=\"24px\">\n",
              "    <g>\n",
              "        <path d=\"M19 3H5c-1.1 0-2 .9-2 2v14c0 1.1.9 2 2 2h14c1.1 0 2-.9 2-2V5c0-1.1-.9-2-2-2zM9 17H7v-7h2v7zm4 0h-2V7h2v10zm4 0h-2v-4h2v4z\"/>\n",
              "    </g>\n",
              "</svg>\n",
              "  </button>\n",
              "\n",
              "<style>\n",
              "  .colab-df-quickchart {\n",
              "      --bg-color: #E8F0FE;\n",
              "      --fill-color: #1967D2;\n",
              "      --hover-bg-color: #E2EBFA;\n",
              "      --hover-fill-color: #174EA6;\n",
              "      --disabled-fill-color: #AAA;\n",
              "      --disabled-bg-color: #DDD;\n",
              "  }\n",
              "\n",
              "  [theme=dark] .colab-df-quickchart {\n",
              "      --bg-color: #3B4455;\n",
              "      --fill-color: #D2E3FC;\n",
              "      --hover-bg-color: #434B5C;\n",
              "      --hover-fill-color: #FFFFFF;\n",
              "      --disabled-bg-color: #3B4455;\n",
              "      --disabled-fill-color: #666;\n",
              "  }\n",
              "\n",
              "  .colab-df-quickchart {\n",
              "    background-color: var(--bg-color);\n",
              "    border: none;\n",
              "    border-radius: 50%;\n",
              "    cursor: pointer;\n",
              "    display: none;\n",
              "    fill: var(--fill-color);\n",
              "    height: 32px;\n",
              "    padding: 0;\n",
              "    width: 32px;\n",
              "  }\n",
              "\n",
              "  .colab-df-quickchart:hover {\n",
              "    background-color: var(--hover-bg-color);\n",
              "    box-shadow: 0 1px 2px rgba(60, 64, 67, 0.3), 0 1px 3px 1px rgba(60, 64, 67, 0.15);\n",
              "    fill: var(--button-hover-fill-color);\n",
              "  }\n",
              "\n",
              "  .colab-df-quickchart-complete:disabled,\n",
              "  .colab-df-quickchart-complete:disabled:hover {\n",
              "    background-color: var(--disabled-bg-color);\n",
              "    fill: var(--disabled-fill-color);\n",
              "    box-shadow: none;\n",
              "  }\n",
              "\n",
              "  .colab-df-spinner {\n",
              "    border: 2px solid var(--fill-color);\n",
              "    border-color: transparent;\n",
              "    border-bottom-color: var(--fill-color);\n",
              "    animation:\n",
              "      spin 1s steps(1) infinite;\n",
              "  }\n",
              "\n",
              "  @keyframes spin {\n",
              "    0% {\n",
              "      border-color: transparent;\n",
              "      border-bottom-color: var(--fill-color);\n",
              "      border-left-color: var(--fill-color);\n",
              "    }\n",
              "    20% {\n",
              "      border-color: transparent;\n",
              "      border-left-color: var(--fill-color);\n",
              "      border-top-color: var(--fill-color);\n",
              "    }\n",
              "    30% {\n",
              "      border-color: transparent;\n",
              "      border-left-color: var(--fill-color);\n",
              "      border-top-color: var(--fill-color);\n",
              "      border-right-color: var(--fill-color);\n",
              "    }\n",
              "    40% {\n",
              "      border-color: transparent;\n",
              "      border-right-color: var(--fill-color);\n",
              "      border-top-color: var(--fill-color);\n",
              "    }\n",
              "    60% {\n",
              "      border-color: transparent;\n",
              "      border-right-color: var(--fill-color);\n",
              "    }\n",
              "    80% {\n",
              "      border-color: transparent;\n",
              "      border-right-color: var(--fill-color);\n",
              "      border-bottom-color: var(--fill-color);\n",
              "    }\n",
              "    90% {\n",
              "      border-color: transparent;\n",
              "      border-bottom-color: var(--fill-color);\n",
              "    }\n",
              "  }\n",
              "</style>\n",
              "\n",
              "  <script>\n",
              "    async function quickchart(key) {\n",
              "      const quickchartButtonEl =\n",
              "        document.querySelector('#' + key + ' button');\n",
              "      quickchartButtonEl.disabled = true;  // To prevent multiple clicks.\n",
              "      quickchartButtonEl.classList.add('colab-df-spinner');\n",
              "      try {\n",
              "        const charts = await google.colab.kernel.invokeFunction(\n",
              "            'suggestCharts', [key], {});\n",
              "      } catch (error) {\n",
              "        console.error('Error during call to suggestCharts:', error);\n",
              "      }\n",
              "      quickchartButtonEl.classList.remove('colab-df-spinner');\n",
              "      quickchartButtonEl.classList.add('colab-df-quickchart-complete');\n",
              "    }\n",
              "    (() => {\n",
              "      let quickchartButtonEl =\n",
              "        document.querySelector('#df-cd2b38dd-473d-4e81-b7de-5325497561c3 button');\n",
              "      quickchartButtonEl.style.display =\n",
              "        google.colab.kernel.accessAllowed ? 'block' : 'none';\n",
              "    })();\n",
              "  </script>\n",
              "</div>\n",
              "\n",
              "  <div id=\"id_092e55d0-4aef-4d15-9d39-b176c65784f3\">\n",
              "    <style>\n",
              "      .colab-df-generate {\n",
              "        background-color: #E8F0FE;\n",
              "        border: none;\n",
              "        border-radius: 50%;\n",
              "        cursor: pointer;\n",
              "        display: none;\n",
              "        fill: #1967D2;\n",
              "        height: 32px;\n",
              "        padding: 0 0 0 0;\n",
              "        width: 32px;\n",
              "      }\n",
              "\n",
              "      .colab-df-generate:hover {\n",
              "        background-color: #E2EBFA;\n",
              "        box-shadow: 0px 1px 2px rgba(60, 64, 67, 0.3), 0px 1px 3px 1px rgba(60, 64, 67, 0.15);\n",
              "        fill: #174EA6;\n",
              "      }\n",
              "\n",
              "      [theme=dark] .colab-df-generate {\n",
              "        background-color: #3B4455;\n",
              "        fill: #D2E3FC;\n",
              "      }\n",
              "\n",
              "      [theme=dark] .colab-df-generate:hover {\n",
              "        background-color: #434B5C;\n",
              "        box-shadow: 0px 1px 3px 1px rgba(0, 0, 0, 0.15);\n",
              "        filter: drop-shadow(0px 1px 2px rgba(0, 0, 0, 0.3));\n",
              "        fill: #FFFFFF;\n",
              "      }\n",
              "    </style>\n",
              "    <button class=\"colab-df-generate\" onclick=\"generateWithVariable('df8')\"\n",
              "            title=\"Generate code using this dataframe.\"\n",
              "            style=\"display:none;\">\n",
              "\n",
              "  <svg xmlns=\"http://www.w3.org/2000/svg\" height=\"24px\"viewBox=\"0 0 24 24\"\n",
              "       width=\"24px\">\n",
              "    <path d=\"M7,19H8.4L18.45,9,17,7.55,7,17.6ZM5,21V16.75L18.45,3.32a2,2,0,0,1,2.83,0l1.4,1.43a1.91,1.91,0,0,1,.58,1.4,1.91,1.91,0,0,1-.58,1.4L9.25,21ZM18.45,9,17,7.55Zm-12,3A5.31,5.31,0,0,0,4.9,8.1,5.31,5.31,0,0,0,1,6.5,5.31,5.31,0,0,0,4.9,4.9,5.31,5.31,0,0,0,6.5,1,5.31,5.31,0,0,0,8.1,4.9,5.31,5.31,0,0,0,12,6.5,5.46,5.46,0,0,0,6.5,12Z\"/>\n",
              "  </svg>\n",
              "    </button>\n",
              "    <script>\n",
              "      (() => {\n",
              "      const buttonEl =\n",
              "        document.querySelector('#id_092e55d0-4aef-4d15-9d39-b176c65784f3 button.colab-df-generate');\n",
              "      buttonEl.style.display =\n",
              "        google.colab.kernel.accessAllowed ? 'block' : 'none';\n",
              "\n",
              "      buttonEl.onclick = () => {\n",
              "        google.colab.notebook.generateWithVariable('df8');\n",
              "      }\n",
              "      })();\n",
              "    </script>\n",
              "  </div>\n",
              "\n",
              "    </div>\n",
              "  </div>\n"
            ],
            "application/vnd.google.colaboratory.intrinsic+json": {
              "type": "dataframe",
              "variable_name": "df8",
              "summary": "{\n  \"name\": \"df8\",\n  \"rows\": 95,\n  \"fields\": [\n    {\n      \"column\": \"Headline\",\n      \"properties\": {\n        \"dtype\": \"string\",\n        \"num_unique_values\": 95,\n        \"samples\": [\n          \"Bowling Green college basketball player struck in handshake line following win\",\n          \"Israel-Hamas war live story\",\n          \"Hurricane Hilary forecast\"\n        ],\n        \"semantic_type\": \"\",\n        \"description\": \"\"\n      }\n    }\n  ]\n}"
            }
          },
          "metadata": {},
          "execution_count": 95
        }
      ],
      "id": "LefoQFdWhNpy"
    },
    {
      "cell_type": "markdown",
      "id": "c6d8e5f7-eb3b-4c3e-9d0a-a8e785aa6e04",
      "metadata": {
        "id": "c6d8e5f7-eb3b-4c3e-9d0a-a8e785aa6e04"
      },
      "source": [
        "## Data Preprocessing ##\n",
        "\n",
        "We will perform the following steps:\n",
        "\n",
        "* Remove emoji characters.\n",
        "* **Tokenization**: Split the text into sentences and the sentences into words. Lowercase the words and remove punctuation.\n",
        "* Words that have fewer than 3 characters are removed.\n",
        "* All **stopwords** are removed.\n",
        "* Words are **lemmatized** - words in third person are changed to first person and verbs in past and future tenses are changed into present.\n",
        "* Words are **stemmed** - words are reduced to their root form."
      ]
    },
    {
      "cell_type": "code",
      "execution_count": 96,
      "id": "6db45845-3a20-4711-bd65-7c0a687f61b8",
      "metadata": {
        "id": "6db45845-3a20-4711-bd65-7c0a687f61b8",
        "colab": {
          "base_uri": "https://localhost:8080/"
        },
        "collapsed": true,
        "outputId": "7a4c6d5b-8464-4e08-87a2-3e990a17c778"
      },
      "outputs": [
        {
          "output_type": "stream",
          "name": "stdout",
          "text": [
            "Requirement already satisfied: gensim in /usr/local/lib/python3.10/dist-packages (4.3.3)\n",
            "Requirement already satisfied: numpy<2.0,>=1.18.5 in /usr/local/lib/python3.10/dist-packages (from gensim) (1.26.4)\n",
            "Requirement already satisfied: scipy<1.14.0,>=1.7.0 in /usr/local/lib/python3.10/dist-packages (from gensim) (1.13.1)\n",
            "Requirement already satisfied: smart-open>=1.8.1 in /usr/local/lib/python3.10/dist-packages (from gensim) (7.0.5)\n",
            "Requirement already satisfied: wrapt in /usr/local/lib/python3.10/dist-packages (from smart-open>=1.8.1->gensim) (1.16.0)\n"
          ]
        }
      ],
      "source": [
        "!pip install gensim"
      ]
    },
    {
      "cell_type": "code",
      "source": [
        "!pip install pyldavis"
      ],
      "metadata": {
        "colab": {
          "base_uri": "https://localhost:8080/"
        },
        "collapsed": true,
        "id": "41g6L8TKmxwz",
        "outputId": "9c270683-9913-4c4a-f8f5-ee7ca21d2ff8"
      },
      "id": "41g6L8TKmxwz",
      "execution_count": 97,
      "outputs": [
        {
          "output_type": "stream",
          "name": "stdout",
          "text": [
            "Requirement already satisfied: pyldavis in /usr/local/lib/python3.10/dist-packages (3.4.1)\n",
            "Requirement already satisfied: numpy>=1.24.2 in /usr/local/lib/python3.10/dist-packages (from pyldavis) (1.26.4)\n",
            "Requirement already satisfied: scipy in /usr/local/lib/python3.10/dist-packages (from pyldavis) (1.13.1)\n",
            "Requirement already satisfied: pandas>=2.0.0 in /usr/local/lib/python3.10/dist-packages (from pyldavis) (2.2.2)\n",
            "Requirement already satisfied: joblib>=1.2.0 in /usr/local/lib/python3.10/dist-packages (from pyldavis) (1.4.2)\n",
            "Requirement already satisfied: jinja2 in /usr/local/lib/python3.10/dist-packages (from pyldavis) (3.1.4)\n",
            "Requirement already satisfied: numexpr in /usr/local/lib/python3.10/dist-packages (from pyldavis) (2.10.1)\n",
            "Requirement already satisfied: funcy in /usr/local/lib/python3.10/dist-packages (from pyldavis) (2.0)\n",
            "Requirement already satisfied: scikit-learn>=1.0.0 in /usr/local/lib/python3.10/dist-packages (from pyldavis) (1.5.2)\n",
            "Requirement already satisfied: gensim in /usr/local/lib/python3.10/dist-packages (from pyldavis) (4.3.3)\n",
            "Requirement already satisfied: setuptools in /usr/local/lib/python3.10/dist-packages (from pyldavis) (75.1.0)\n",
            "Requirement already satisfied: python-dateutil>=2.8.2 in /usr/local/lib/python3.10/dist-packages (from pandas>=2.0.0->pyldavis) (2.8.2)\n",
            "Requirement already satisfied: pytz>=2020.1 in /usr/local/lib/python3.10/dist-packages (from pandas>=2.0.0->pyldavis) (2024.2)\n",
            "Requirement already satisfied: tzdata>=2022.7 in /usr/local/lib/python3.10/dist-packages (from pandas>=2.0.0->pyldavis) (2024.2)\n",
            "Requirement already satisfied: threadpoolctl>=3.1.0 in /usr/local/lib/python3.10/dist-packages (from scikit-learn>=1.0.0->pyldavis) (3.5.0)\n",
            "Requirement already satisfied: smart-open>=1.8.1 in /usr/local/lib/python3.10/dist-packages (from gensim->pyldavis) (7.0.5)\n",
            "Requirement already satisfied: MarkupSafe>=2.0 in /usr/local/lib/python3.10/dist-packages (from jinja2->pyldavis) (3.0.2)\n",
            "Requirement already satisfied: six>=1.5 in /usr/local/lib/python3.10/dist-packages (from python-dateutil>=2.8.2->pandas>=2.0.0->pyldavis) (1.16.0)\n",
            "Requirement already satisfied: wrapt in /usr/local/lib/python3.10/dist-packages (from smart-open>=1.8.1->gensim->pyldavis) (1.16.0)\n"
          ]
        }
      ]
    },
    {
      "cell_type": "code",
      "execution_count": 98,
      "id": "21365920-983d-4650-95ac-76de11125a58",
      "metadata": {
        "id": "21365920-983d-4650-95ac-76de11125a58"
      },
      "outputs": [],
      "source": [
        "import gensim\n",
        "from gensim.utils import simple_preprocess\n",
        "from gensim.parsing.preprocessing import STOPWORDS\n",
        "from nltk.stem import WordNetLemmatizer, SnowballStemmer\n",
        "from nltk.stem.porter import *\n",
        "import numpy as np\n"
      ]
    },
    {
      "cell_type": "code",
      "source": [
        "import pyLDAvis\n",
        "import pyLDAvis.gensim"
      ],
      "metadata": {
        "id": "agNw1yNznDtU"
      },
      "id": "agNw1yNznDtU",
      "execution_count": 99,
      "outputs": []
    },
    {
      "cell_type": "code",
      "execution_count": 100,
      "id": "a8077062-59a5-4135-90fb-f94c50bafe12",
      "metadata": {
        "id": "a8077062-59a5-4135-90fb-f94c50bafe12",
        "colab": {
          "base_uri": "https://localhost:8080/"
        },
        "outputId": "a2e3a08e-ff98-4f8c-8834-d184f3401133",
        "collapsed": true
      },
      "outputs": [
        {
          "output_type": "stream",
          "name": "stderr",
          "text": [
            "[nltk_data] Downloading package wordnet to /root/nltk_data...\n",
            "[nltk_data]   Package wordnet is already up-to-date!\n"
          ]
        },
        {
          "output_type": "execute_result",
          "data": {
            "text/plain": [
              "True"
            ]
          },
          "metadata": {},
          "execution_count": 100
        }
      ],
      "source": [
        "import nltk\n",
        "nltk.download('wordnet')"
      ]
    },
    {
      "cell_type": "code",
      "source": [
        "import re\n",
        "\n",
        "# Function to remove emojis\n",
        "\n",
        "def remove_emojis(text):\n",
        "    emoji_pattern = re.compile(\n",
        "        \"[\"\n",
        "        u\"\\U0001F600-\\U0001F64F\"  # emoticons\n",
        "        u\"\\U0001F300-\\U0001F5FF\"  # symbols & pictographs\n",
        "        u\"\\U0001F680-\\U0001F6FF\"  # transport & map symbols\n",
        "        u\"\\U0001F1E0-\\U0001F1FF\"  # flags (iOS)\n",
        "        u\"\\U00002500-\\U00002BEF\"  # Chinese characters\n",
        "        u\"\\U00002702-\\U000027B0\"\n",
        "        u\"\\U00002700-\\U000027BF\"\n",
        "        u\"\\U0001F900-\\U0001F9FF\"  # supplemental symbols\n",
        "        u\"\\U0001FA70-\\U0001FAFF\"  # Chess Symbols\n",
        "        u\"\\U00002600-\\U000026FF\"  # Misc symbols\n",
        "        u\"\\U00002B50-\\U00002BFF\"\n",
        "        u\"\\U0001F000-\\U0001F02F\"\n",
        "        \"]+\", flags=re.UNICODE\n",
        "    )\n",
        "    return emoji_pattern.sub(r\"\", text)\n",
        "\n",
        "# Apply to DataFrame\n",
        "combined_df['Headline'] = combined_df['Headline'].apply(remove_emojis)"
      ],
      "metadata": {
        "id": "YBgQu29hCj-h"
      },
      "id": "YBgQu29hCj-h",
      "execution_count": 101,
      "outputs": []
    },
    {
      "cell_type": "code",
      "source": [
        "combined_df"
      ],
      "metadata": {
        "colab": {
          "base_uri": "https://localhost:8080/",
          "height": 424
        },
        "id": "KQK_M9XzDqS_",
        "outputId": "1beddde5-1b9c-436e-afb0-3bce675026c1"
      },
      "id": "KQK_M9XzDqS_",
      "execution_count": 102,
      "outputs": [
        {
          "output_type": "execute_result",
          "data": {
            "text/plain": [
              "                                         Headline\n",
              "0               Dame's Game-Winner vs. Rockets ⌚️\n",
              "1                             76ers Fall to 2-11 \n",
              "2                            Bam Mixes Up Embiid \n",
              "3                      Jericho Sims Dunks on Kuz \n",
              "4                       KAT's Easy 24-Point Game \n",
              "..                                            ...\n",
              "345    NHL Draft Prospects Stocks That Are Rising\n",
              "346  1 Word for Every Team After the First Month \n",
              "347                  Jack Hughes' Breakaway Goal \n",
              "348                 Celebrini Goes Back-To-Back ️\n",
              "349                    Latest NHL Power Rankings \n",
              "\n",
              "[350 rows x 1 columns]"
            ],
            "text/html": [
              "\n",
              "  <div id=\"df-d4b5fd63-18a8-4e58-af54-29d81cfc68f8\" class=\"colab-df-container\">\n",
              "    <div>\n",
              "<style scoped>\n",
              "    .dataframe tbody tr th:only-of-type {\n",
              "        vertical-align: middle;\n",
              "    }\n",
              "\n",
              "    .dataframe tbody tr th {\n",
              "        vertical-align: top;\n",
              "    }\n",
              "\n",
              "    .dataframe thead th {\n",
              "        text-align: right;\n",
              "    }\n",
              "</style>\n",
              "<table border=\"1\" class=\"dataframe\">\n",
              "  <thead>\n",
              "    <tr style=\"text-align: right;\">\n",
              "      <th></th>\n",
              "      <th>Headline</th>\n",
              "    </tr>\n",
              "  </thead>\n",
              "  <tbody>\n",
              "    <tr>\n",
              "      <th>0</th>\n",
              "      <td>Dame's Game-Winner vs. Rockets ⌚️</td>\n",
              "    </tr>\n",
              "    <tr>\n",
              "      <th>1</th>\n",
              "      <td>76ers Fall to 2-11</td>\n",
              "    </tr>\n",
              "    <tr>\n",
              "      <th>2</th>\n",
              "      <td>Bam Mixes Up Embiid</td>\n",
              "    </tr>\n",
              "    <tr>\n",
              "      <th>3</th>\n",
              "      <td>Jericho Sims Dunks on Kuz</td>\n",
              "    </tr>\n",
              "    <tr>\n",
              "      <th>4</th>\n",
              "      <td>KAT's Easy 24-Point Game</td>\n",
              "    </tr>\n",
              "    <tr>\n",
              "      <th>...</th>\n",
              "      <td>...</td>\n",
              "    </tr>\n",
              "    <tr>\n",
              "      <th>345</th>\n",
              "      <td>NHL Draft Prospects Stocks That Are Rising</td>\n",
              "    </tr>\n",
              "    <tr>\n",
              "      <th>346</th>\n",
              "      <td>1 Word for Every Team After the First Month</td>\n",
              "    </tr>\n",
              "    <tr>\n",
              "      <th>347</th>\n",
              "      <td>Jack Hughes' Breakaway Goal</td>\n",
              "    </tr>\n",
              "    <tr>\n",
              "      <th>348</th>\n",
              "      <td>Celebrini Goes Back-To-Back ️</td>\n",
              "    </tr>\n",
              "    <tr>\n",
              "      <th>349</th>\n",
              "      <td>Latest NHL Power Rankings</td>\n",
              "    </tr>\n",
              "  </tbody>\n",
              "</table>\n",
              "<p>350 rows × 1 columns</p>\n",
              "</div>\n",
              "    <div class=\"colab-df-buttons\">\n",
              "\n",
              "  <div class=\"colab-df-container\">\n",
              "    <button class=\"colab-df-convert\" onclick=\"convertToInteractive('df-d4b5fd63-18a8-4e58-af54-29d81cfc68f8')\"\n",
              "            title=\"Convert this dataframe to an interactive table.\"\n",
              "            style=\"display:none;\">\n",
              "\n",
              "  <svg xmlns=\"http://www.w3.org/2000/svg\" height=\"24px\" viewBox=\"0 -960 960 960\">\n",
              "    <path d=\"M120-120v-720h720v720H120Zm60-500h600v-160H180v160Zm220 220h160v-160H400v160Zm0 220h160v-160H400v160ZM180-400h160v-160H180v160Zm440 0h160v-160H620v160ZM180-180h160v-160H180v160Zm440 0h160v-160H620v160Z\"/>\n",
              "  </svg>\n",
              "    </button>\n",
              "\n",
              "  <style>\n",
              "    .colab-df-container {\n",
              "      display:flex;\n",
              "      gap: 12px;\n",
              "    }\n",
              "\n",
              "    .colab-df-convert {\n",
              "      background-color: #E8F0FE;\n",
              "      border: none;\n",
              "      border-radius: 50%;\n",
              "      cursor: pointer;\n",
              "      display: none;\n",
              "      fill: #1967D2;\n",
              "      height: 32px;\n",
              "      padding: 0 0 0 0;\n",
              "      width: 32px;\n",
              "    }\n",
              "\n",
              "    .colab-df-convert:hover {\n",
              "      background-color: #E2EBFA;\n",
              "      box-shadow: 0px 1px 2px rgba(60, 64, 67, 0.3), 0px 1px 3px 1px rgba(60, 64, 67, 0.15);\n",
              "      fill: #174EA6;\n",
              "    }\n",
              "\n",
              "    .colab-df-buttons div {\n",
              "      margin-bottom: 4px;\n",
              "    }\n",
              "\n",
              "    [theme=dark] .colab-df-convert {\n",
              "      background-color: #3B4455;\n",
              "      fill: #D2E3FC;\n",
              "    }\n",
              "\n",
              "    [theme=dark] .colab-df-convert:hover {\n",
              "      background-color: #434B5C;\n",
              "      box-shadow: 0px 1px 3px 1px rgba(0, 0, 0, 0.15);\n",
              "      filter: drop-shadow(0px 1px 2px rgba(0, 0, 0, 0.3));\n",
              "      fill: #FFFFFF;\n",
              "    }\n",
              "  </style>\n",
              "\n",
              "    <script>\n",
              "      const buttonEl =\n",
              "        document.querySelector('#df-d4b5fd63-18a8-4e58-af54-29d81cfc68f8 button.colab-df-convert');\n",
              "      buttonEl.style.display =\n",
              "        google.colab.kernel.accessAllowed ? 'block' : 'none';\n",
              "\n",
              "      async function convertToInteractive(key) {\n",
              "        const element = document.querySelector('#df-d4b5fd63-18a8-4e58-af54-29d81cfc68f8');\n",
              "        const dataTable =\n",
              "          await google.colab.kernel.invokeFunction('convertToInteractive',\n",
              "                                                    [key], {});\n",
              "        if (!dataTable) return;\n",
              "\n",
              "        const docLinkHtml = 'Like what you see? Visit the ' +\n",
              "          '<a target=\"_blank\" href=https://colab.research.google.com/notebooks/data_table.ipynb>data table notebook</a>'\n",
              "          + ' to learn more about interactive tables.';\n",
              "        element.innerHTML = '';\n",
              "        dataTable['output_type'] = 'display_data';\n",
              "        await google.colab.output.renderOutput(dataTable, element);\n",
              "        const docLink = document.createElement('div');\n",
              "        docLink.innerHTML = docLinkHtml;\n",
              "        element.appendChild(docLink);\n",
              "      }\n",
              "    </script>\n",
              "  </div>\n",
              "\n",
              "\n",
              "<div id=\"df-ee14b177-a14b-4ffd-a790-7ecc77853237\">\n",
              "  <button class=\"colab-df-quickchart\" onclick=\"quickchart('df-ee14b177-a14b-4ffd-a790-7ecc77853237')\"\n",
              "            title=\"Suggest charts\"\n",
              "            style=\"display:none;\">\n",
              "\n",
              "<svg xmlns=\"http://www.w3.org/2000/svg\" height=\"24px\"viewBox=\"0 0 24 24\"\n",
              "     width=\"24px\">\n",
              "    <g>\n",
              "        <path d=\"M19 3H5c-1.1 0-2 .9-2 2v14c0 1.1.9 2 2 2h14c1.1 0 2-.9 2-2V5c0-1.1-.9-2-2-2zM9 17H7v-7h2v7zm4 0h-2V7h2v10zm4 0h-2v-4h2v4z\"/>\n",
              "    </g>\n",
              "</svg>\n",
              "  </button>\n",
              "\n",
              "<style>\n",
              "  .colab-df-quickchart {\n",
              "      --bg-color: #E8F0FE;\n",
              "      --fill-color: #1967D2;\n",
              "      --hover-bg-color: #E2EBFA;\n",
              "      --hover-fill-color: #174EA6;\n",
              "      --disabled-fill-color: #AAA;\n",
              "      --disabled-bg-color: #DDD;\n",
              "  }\n",
              "\n",
              "  [theme=dark] .colab-df-quickchart {\n",
              "      --bg-color: #3B4455;\n",
              "      --fill-color: #D2E3FC;\n",
              "      --hover-bg-color: #434B5C;\n",
              "      --hover-fill-color: #FFFFFF;\n",
              "      --disabled-bg-color: #3B4455;\n",
              "      --disabled-fill-color: #666;\n",
              "  }\n",
              "\n",
              "  .colab-df-quickchart {\n",
              "    background-color: var(--bg-color);\n",
              "    border: none;\n",
              "    border-radius: 50%;\n",
              "    cursor: pointer;\n",
              "    display: none;\n",
              "    fill: var(--fill-color);\n",
              "    height: 32px;\n",
              "    padding: 0;\n",
              "    width: 32px;\n",
              "  }\n",
              "\n",
              "  .colab-df-quickchart:hover {\n",
              "    background-color: var(--hover-bg-color);\n",
              "    box-shadow: 0 1px 2px rgba(60, 64, 67, 0.3), 0 1px 3px 1px rgba(60, 64, 67, 0.15);\n",
              "    fill: var(--button-hover-fill-color);\n",
              "  }\n",
              "\n",
              "  .colab-df-quickchart-complete:disabled,\n",
              "  .colab-df-quickchart-complete:disabled:hover {\n",
              "    background-color: var(--disabled-bg-color);\n",
              "    fill: var(--disabled-fill-color);\n",
              "    box-shadow: none;\n",
              "  }\n",
              "\n",
              "  .colab-df-spinner {\n",
              "    border: 2px solid var(--fill-color);\n",
              "    border-color: transparent;\n",
              "    border-bottom-color: var(--fill-color);\n",
              "    animation:\n",
              "      spin 1s steps(1) infinite;\n",
              "  }\n",
              "\n",
              "  @keyframes spin {\n",
              "    0% {\n",
              "      border-color: transparent;\n",
              "      border-bottom-color: var(--fill-color);\n",
              "      border-left-color: var(--fill-color);\n",
              "    }\n",
              "    20% {\n",
              "      border-color: transparent;\n",
              "      border-left-color: var(--fill-color);\n",
              "      border-top-color: var(--fill-color);\n",
              "    }\n",
              "    30% {\n",
              "      border-color: transparent;\n",
              "      border-left-color: var(--fill-color);\n",
              "      border-top-color: var(--fill-color);\n",
              "      border-right-color: var(--fill-color);\n",
              "    }\n",
              "    40% {\n",
              "      border-color: transparent;\n",
              "      border-right-color: var(--fill-color);\n",
              "      border-top-color: var(--fill-color);\n",
              "    }\n",
              "    60% {\n",
              "      border-color: transparent;\n",
              "      border-right-color: var(--fill-color);\n",
              "    }\n",
              "    80% {\n",
              "      border-color: transparent;\n",
              "      border-right-color: var(--fill-color);\n",
              "      border-bottom-color: var(--fill-color);\n",
              "    }\n",
              "    90% {\n",
              "      border-color: transparent;\n",
              "      border-bottom-color: var(--fill-color);\n",
              "    }\n",
              "  }\n",
              "</style>\n",
              "\n",
              "  <script>\n",
              "    async function quickchart(key) {\n",
              "      const quickchartButtonEl =\n",
              "        document.querySelector('#' + key + ' button');\n",
              "      quickchartButtonEl.disabled = true;  // To prevent multiple clicks.\n",
              "      quickchartButtonEl.classList.add('colab-df-spinner');\n",
              "      try {\n",
              "        const charts = await google.colab.kernel.invokeFunction(\n",
              "            'suggestCharts', [key], {});\n",
              "      } catch (error) {\n",
              "        console.error('Error during call to suggestCharts:', error);\n",
              "      }\n",
              "      quickchartButtonEl.classList.remove('colab-df-spinner');\n",
              "      quickchartButtonEl.classList.add('colab-df-quickchart-complete');\n",
              "    }\n",
              "    (() => {\n",
              "      let quickchartButtonEl =\n",
              "        document.querySelector('#df-ee14b177-a14b-4ffd-a790-7ecc77853237 button');\n",
              "      quickchartButtonEl.style.display =\n",
              "        google.colab.kernel.accessAllowed ? 'block' : 'none';\n",
              "    })();\n",
              "  </script>\n",
              "</div>\n",
              "\n",
              "  <div id=\"id_7ed01d59-599d-45d1-92a7-ea69a77419d7\">\n",
              "    <style>\n",
              "      .colab-df-generate {\n",
              "        background-color: #E8F0FE;\n",
              "        border: none;\n",
              "        border-radius: 50%;\n",
              "        cursor: pointer;\n",
              "        display: none;\n",
              "        fill: #1967D2;\n",
              "        height: 32px;\n",
              "        padding: 0 0 0 0;\n",
              "        width: 32px;\n",
              "      }\n",
              "\n",
              "      .colab-df-generate:hover {\n",
              "        background-color: #E2EBFA;\n",
              "        box-shadow: 0px 1px 2px rgba(60, 64, 67, 0.3), 0px 1px 3px 1px rgba(60, 64, 67, 0.15);\n",
              "        fill: #174EA6;\n",
              "      }\n",
              "\n",
              "      [theme=dark] .colab-df-generate {\n",
              "        background-color: #3B4455;\n",
              "        fill: #D2E3FC;\n",
              "      }\n",
              "\n",
              "      [theme=dark] .colab-df-generate:hover {\n",
              "        background-color: #434B5C;\n",
              "        box-shadow: 0px 1px 3px 1px rgba(0, 0, 0, 0.15);\n",
              "        filter: drop-shadow(0px 1px 2px rgba(0, 0, 0, 0.3));\n",
              "        fill: #FFFFFF;\n",
              "      }\n",
              "    </style>\n",
              "    <button class=\"colab-df-generate\" onclick=\"generateWithVariable('combined_df')\"\n",
              "            title=\"Generate code using this dataframe.\"\n",
              "            style=\"display:none;\">\n",
              "\n",
              "  <svg xmlns=\"http://www.w3.org/2000/svg\" height=\"24px\"viewBox=\"0 0 24 24\"\n",
              "       width=\"24px\">\n",
              "    <path d=\"M7,19H8.4L18.45,9,17,7.55,7,17.6ZM5,21V16.75L18.45,3.32a2,2,0,0,1,2.83,0l1.4,1.43a1.91,1.91,0,0,1,.58,1.4,1.91,1.91,0,0,1-.58,1.4L9.25,21ZM18.45,9,17,7.55Zm-12,3A5.31,5.31,0,0,0,4.9,8.1,5.31,5.31,0,0,0,1,6.5,5.31,5.31,0,0,0,4.9,4.9,5.31,5.31,0,0,0,6.5,1,5.31,5.31,0,0,0,8.1,4.9,5.31,5.31,0,0,0,12,6.5,5.46,5.46,0,0,0,6.5,12Z\"/>\n",
              "  </svg>\n",
              "    </button>\n",
              "    <script>\n",
              "      (() => {\n",
              "      const buttonEl =\n",
              "        document.querySelector('#id_7ed01d59-599d-45d1-92a7-ea69a77419d7 button.colab-df-generate');\n",
              "      buttonEl.style.display =\n",
              "        google.colab.kernel.accessAllowed ? 'block' : 'none';\n",
              "\n",
              "      buttonEl.onclick = () => {\n",
              "        google.colab.notebook.generateWithVariable('combined_df');\n",
              "      }\n",
              "      })();\n",
              "    </script>\n",
              "  </div>\n",
              "\n",
              "    </div>\n",
              "  </div>\n"
            ],
            "application/vnd.google.colaboratory.intrinsic+json": {
              "type": "dataframe",
              "variable_name": "combined_df",
              "summary": "{\n  \"name\": \"combined_df\",\n  \"rows\": 350,\n  \"fields\": [\n    {\n      \"column\": \"Headline\",\n      \"properties\": {\n        \"dtype\": \"string\",\n        \"num_unique_values\": 350,\n        \"samples\": [\n          \"Updated NFL Playoff Bracket\",\n          \"Connor McDavid Scores vs. Canucks\",\n          \"David Pastrnak Scores vs. Stars\"\n        ],\n        \"semantic_type\": \"\",\n        \"description\": \"\"\n      }\n    }\n  ]\n}"
            }
          },
          "metadata": {},
          "execution_count": 102
        }
      ]
    },
    {
      "cell_type": "code",
      "execution_count": 103,
      "id": "a66e9d0a-545c-44ed-bfc2-01ace914bf50",
      "metadata": {
        "id": "a66e9d0a-545c-44ed-bfc2-01ace914bf50"
      },
      "outputs": [],
      "source": [
        "# function to perform the pre processing steps on the entire dataset\n",
        "\n",
        "stemmer = SnowballStemmer(\"english\")\n",
        "\n",
        "def lemmatize_stemming(text):\n",
        "    return stemmer.stem(WordNetLemmatizer().lemmatize(text, pos='v'))\n",
        "\n",
        "# Tokenize and lemmatize\n",
        "def preprocess(text):\n",
        "\n",
        "    result = []\n",
        "\n",
        "    for token in gensim.utils.simple_preprocess(text) :\n",
        "\n",
        "        if token not in gensim.parsing.preprocessing.STOPWORDS and len(token) > 2:\n",
        "\n",
        "            # Apply lemmatize_stemming() on the token, then add to the results list\n",
        "            result.append(lemmatize_stemming(token))\n",
        "\n",
        "    return result"
      ]
    },
    {
      "cell_type": "code",
      "execution_count": 104,
      "id": "a577b92b-ece0-428a-b610-521b0ac1d18f",
      "metadata": {
        "id": "a577b92b-ece0-428a-b610-521b0ac1d18f"
      },
      "outputs": [],
      "source": [
        "# preprocess all the headlines, saving the list of results as 'processed_headlines'\n",
        "\n",
        "processed_headlines = combined_df['Headline'].map(preprocess)\n",
        "\n",
        "processed_headlines8 = df8['Headline'].map(preprocess)"
      ]
    },
    {
      "cell_type": "code",
      "execution_count": 105,
      "id": "22e494a3-a2fa-4264-bdb5-b1bd8269fdff",
      "metadata": {
        "id": "22e494a3-a2fa-4264-bdb5-b1bd8269fdff",
        "colab": {
          "base_uri": "https://localhost:8080/",
          "height": 458
        },
        "outputId": "626e0742-a780-453a-8e6c-122fadf38337"
      },
      "outputs": [
        {
          "output_type": "execute_result",
          "data": {
            "text/plain": [
              "0             [dame, game, winner, rocket]\n",
              "1                               [er, fall]\n",
              "2                       [bam, mix, embiid]\n",
              "3                [jericho, sim, dunk, kuz]\n",
              "4                 [kat, easi, point, game]\n",
              "                      ...                 \n",
              "345    [nhl, draft, prospect, stock, rise]\n",
              "346                    [word, team, month]\n",
              "347          [jack, hugh, breakaway, goal]\n",
              "348                        [celebrini, go]\n",
              "349             [latest, nhl, power, rank]\n",
              "Name: Headline, Length: 350, dtype: object"
            ],
            "text/html": [
              "<div>\n",
              "<style scoped>\n",
              "    .dataframe tbody tr th:only-of-type {\n",
              "        vertical-align: middle;\n",
              "    }\n",
              "\n",
              "    .dataframe tbody tr th {\n",
              "        vertical-align: top;\n",
              "    }\n",
              "\n",
              "    .dataframe thead th {\n",
              "        text-align: right;\n",
              "    }\n",
              "</style>\n",
              "<table border=\"1\" class=\"dataframe\">\n",
              "  <thead>\n",
              "    <tr style=\"text-align: right;\">\n",
              "      <th></th>\n",
              "      <th>Headline</th>\n",
              "    </tr>\n",
              "  </thead>\n",
              "  <tbody>\n",
              "    <tr>\n",
              "      <th>0</th>\n",
              "      <td>[dame, game, winner, rocket]</td>\n",
              "    </tr>\n",
              "    <tr>\n",
              "      <th>1</th>\n",
              "      <td>[er, fall]</td>\n",
              "    </tr>\n",
              "    <tr>\n",
              "      <th>2</th>\n",
              "      <td>[bam, mix, embiid]</td>\n",
              "    </tr>\n",
              "    <tr>\n",
              "      <th>3</th>\n",
              "      <td>[jericho, sim, dunk, kuz]</td>\n",
              "    </tr>\n",
              "    <tr>\n",
              "      <th>4</th>\n",
              "      <td>[kat, easi, point, game]</td>\n",
              "    </tr>\n",
              "    <tr>\n",
              "      <th>...</th>\n",
              "      <td>...</td>\n",
              "    </tr>\n",
              "    <tr>\n",
              "      <th>345</th>\n",
              "      <td>[nhl, draft, prospect, stock, rise]</td>\n",
              "    </tr>\n",
              "    <tr>\n",
              "      <th>346</th>\n",
              "      <td>[word, team, month]</td>\n",
              "    </tr>\n",
              "    <tr>\n",
              "      <th>347</th>\n",
              "      <td>[jack, hugh, breakaway, goal]</td>\n",
              "    </tr>\n",
              "    <tr>\n",
              "      <th>348</th>\n",
              "      <td>[celebrini, go]</td>\n",
              "    </tr>\n",
              "    <tr>\n",
              "      <th>349</th>\n",
              "      <td>[latest, nhl, power, rank]</td>\n",
              "    </tr>\n",
              "  </tbody>\n",
              "</table>\n",
              "<p>350 rows × 1 columns</p>\n",
              "</div><br><label><b>dtype:</b> object</label>"
            ]
          },
          "metadata": {},
          "execution_count": 105
        }
      ],
      "source": [
        "processed_headlines"
      ]
    },
    {
      "cell_type": "code",
      "source": [
        "processed_headlines8"
      ],
      "metadata": {
        "colab": {
          "base_uri": "https://localhost:8080/",
          "height": 458
        },
        "id": "3m5RcOxoi0YF",
        "outputId": "c7da3934-40f1-4d97-c668-726bcd71f375"
      },
      "id": "3m5RcOxoi0YF",
      "execution_count": 106,
      "outputs": [
        {
          "output_type": "execute_result",
          "data": {
            "text/plain": [
              "0           [damar, hamlin, health, updat, live, stori]\n",
              "1     [miss, titan, sub, crew, kill, catastroph, imp...\n",
              "2            [lewiston, main, mass, shoot, live, stori]\n",
              "3     [arnold, schwarzenegg, say, friend, bruce, wil...\n",
              "4         [miss, titan, sub, search, news, live, stori]\n",
              "                            ...                        \n",
              "90                    [tropic, storm, idalia, forecast]\n",
              "91                                [idalia, live, stori]\n",
              "92                         [white, hydrogen, discoveri]\n",
              "93    [alabama, woman, go, miss, report, toddler, wa...\n",
              "94    [exclus, trump, captur, tape, talk, classifi, ...\n",
              "Name: Headline, Length: 95, dtype: object"
            ],
            "text/html": [
              "<div>\n",
              "<style scoped>\n",
              "    .dataframe tbody tr th:only-of-type {\n",
              "        vertical-align: middle;\n",
              "    }\n",
              "\n",
              "    .dataframe tbody tr th {\n",
              "        vertical-align: top;\n",
              "    }\n",
              "\n",
              "    .dataframe thead th {\n",
              "        text-align: right;\n",
              "    }\n",
              "</style>\n",
              "<table border=\"1\" class=\"dataframe\">\n",
              "  <thead>\n",
              "    <tr style=\"text-align: right;\">\n",
              "      <th></th>\n",
              "      <th>Headline</th>\n",
              "    </tr>\n",
              "  </thead>\n",
              "  <tbody>\n",
              "    <tr>\n",
              "      <th>0</th>\n",
              "      <td>[damar, hamlin, health, updat, live, stori]</td>\n",
              "    </tr>\n",
              "    <tr>\n",
              "      <th>1</th>\n",
              "      <td>[miss, titan, sub, crew, kill, catastroph, imp...</td>\n",
              "    </tr>\n",
              "    <tr>\n",
              "      <th>2</th>\n",
              "      <td>[lewiston, main, mass, shoot, live, stori]</td>\n",
              "    </tr>\n",
              "    <tr>\n",
              "      <th>3</th>\n",
              "      <td>[arnold, schwarzenegg, say, friend, bruce, wil...</td>\n",
              "    </tr>\n",
              "    <tr>\n",
              "      <th>4</th>\n",
              "      <td>[miss, titan, sub, search, news, live, stori]</td>\n",
              "    </tr>\n",
              "    <tr>\n",
              "      <th>...</th>\n",
              "      <td>...</td>\n",
              "    </tr>\n",
              "    <tr>\n",
              "      <th>90</th>\n",
              "      <td>[tropic, storm, idalia, forecast]</td>\n",
              "    </tr>\n",
              "    <tr>\n",
              "      <th>91</th>\n",
              "      <td>[idalia, live, stori]</td>\n",
              "    </tr>\n",
              "    <tr>\n",
              "      <th>92</th>\n",
              "      <td>[white, hydrogen, discoveri]</td>\n",
              "    </tr>\n",
              "    <tr>\n",
              "      <th>93</th>\n",
              "      <td>[alabama, woman, go, miss, report, toddler, wa...</td>\n",
              "    </tr>\n",
              "    <tr>\n",
              "      <th>94</th>\n",
              "      <td>[exclus, trump, captur, tape, talk, classifi, ...</td>\n",
              "    </tr>\n",
              "  </tbody>\n",
              "</table>\n",
              "<p>95 rows × 1 columns</p>\n",
              "</div><br><label><b>dtype:</b> object</label>"
            ]
          },
          "metadata": {},
          "execution_count": 106
        }
      ]
    },
    {
      "cell_type": "markdown",
      "source": [
        "## Perform Bag of words on dataset\n",
        "\n",
        "create a dictionary from 'processed_headlines' containing the number of times a word appears in the training set."
      ],
      "metadata": {
        "id": "zh77bMyIKUn-"
      },
      "id": "zh77bMyIKUn-"
    },
    {
      "cell_type": "code",
      "execution_count": 107,
      "id": "6dc66c8a-2887-476e-ab4c-97b400b7f0fa",
      "metadata": {
        "id": "6dc66c8a-2887-476e-ab4c-97b400b7f0fa"
      },
      "outputs": [],
      "source": [
        "dictionary = gensim.corpora.Dictionary(processed_headlines)\n",
        "\n",
        "dictionary8 = gensim.corpora.Dictionary(processed_headlines8)"
      ]
    },
    {
      "cell_type": "code",
      "execution_count": 108,
      "id": "c2c72309-0ae1-4d80-916a-418f3d38c78b",
      "metadata": {
        "id": "c2c72309-0ae1-4d80-916a-418f3d38c78b",
        "colab": {
          "base_uri": "https://localhost:8080/"
        },
        "outputId": "89352769-599e-45da-a6c0-dfa1a003a92f"
      },
      "outputs": [
        {
          "output_type": "stream",
          "name": "stdout",
          "text": [
            "0 dame\n",
            "1 game\n",
            "2 rocket\n",
            "3 winner\n",
            "4 er\n",
            "5 fall\n",
            "6 bam\n",
            "7 embiid\n",
            "8 mix\n",
            "9 dunk\n",
            "10 jericho\n"
          ]
        }
      ],
      "source": [
        "# View snippet of Sports Headlines data dictionary\n",
        "count = 0\n",
        "\n",
        "for k, v in dictionary.iteritems():\n",
        "\n",
        "    print(k, v)\n",
        "\n",
        "    count += 1\n",
        "\n",
        "    if count > 10:\n",
        "        break"
      ]
    },
    {
      "cell_type": "code",
      "source": [
        "# View snippet of CNN news Headliens data dictionary\n",
        "count = 0\n",
        "\n",
        "for k, v in dictionary8.iteritems():\n",
        "\n",
        "    print(k, v)\n",
        "\n",
        "    count += 1\n",
        "\n",
        "    if count > 10:\n",
        "        break"
      ],
      "metadata": {
        "colab": {
          "base_uri": "https://localhost:8080/"
        },
        "id": "1T7ohr_lhAzq",
        "outputId": "f86a496b-6295-4f6d-c533-3cb8d0b81a39"
      },
      "id": "1T7ohr_lhAzq",
      "execution_count": 109,
      "outputs": [
        {
          "output_type": "stream",
          "name": "stdout",
          "text": [
            "0 damar\n",
            "1 hamlin\n",
            "2 health\n",
            "3 live\n",
            "4 stori\n",
            "5 updat\n",
            "6 catastroph\n",
            "7 crew\n",
            "8 implos\n",
            "9 kill\n",
            "10 miss\n"
          ]
        }
      ]
    },
    {
      "cell_type": "markdown",
      "source": [
        "** Gensim filter_extremes **\n",
        "\n",
        "[`filter_extremes(no_below=5, no_above=0.5, keep_n=100000)`](https://radimrehurek.com/gensim/corpora/dictionary.html#gensim.corpora.dictionary.Dictionary.filter_extremes)\n",
        "\n",
        "Filter out tokens that appear in\n",
        "\n",
        "* less than no_below  (absolute number) or\n",
        "* more than no_above (fraction of total corpus size, not absolute number).\n",
        "* after (1) and (2), keep only the first keep_n most frequent tokens (or keep all if None)."
      ],
      "metadata": {
        "id": "Yfh7hm2uOC1V"
      },
      "id": "Yfh7hm2uOC1V"
    },
    {
      "cell_type": "code",
      "source": [
        "# filter out exceptionally rare and very common words\n",
        "\n",
        "# apply filter_extremes() with the following parameters\n",
        "# words appearing less than 3 times\n",
        "# words appearing in more than 70% of all documents\n",
        "\n",
        "dictionary.filter_extremes(no_below=3, no_above=0.7)\n",
        "\n",
        "dictionary8.filter_extremes(no_below=3, no_above=0.7)"
      ],
      "metadata": {
        "id": "siA7gH1EOaDT"
      },
      "id": "siA7gH1EOaDT",
      "execution_count": 110,
      "outputs": []
    },
    {
      "cell_type": "code",
      "source": [
        "# Create Bag-of-words model for each headline.\n",
        "# each headline will have a dictionary reporting how many words and how many times those words appear.\n",
        "\n",
        "bow_corpus = [dictionary.doc2bow(head) for head in processed_headlines]\n",
        "\n",
        "bow_corpus8 = [dictionary8.doc2bow(head) for head in processed_headlines8]"
      ],
      "metadata": {
        "id": "CfMCyCqxQy_X"
      },
      "id": "CfMCyCqxQy_X",
      "execution_count": 111,
      "outputs": []
    },
    {
      "cell_type": "code",
      "source": [
        "bow_corpus[0]"
      ],
      "metadata": {
        "colab": {
          "base_uri": "https://localhost:8080/"
        },
        "id": "v4HrXCm8Mhr0",
        "outputId": "5efbd068-d0d1-4fad-a79d-395d8f47da68"
      },
      "id": "v4HrXCm8Mhr0",
      "execution_count": 112,
      "outputs": [
        {
          "output_type": "execute_result",
          "data": {
            "text/plain": [
              "[(0, 1), (1, 1)]"
            ]
          },
          "metadata": {},
          "execution_count": 112
        }
      ]
    },
    {
      "cell_type": "code",
      "source": [
        "bow_corpus8[0]"
      ],
      "metadata": {
        "colab": {
          "base_uri": "https://localhost:8080/"
        },
        "id": "6WC7CIkDSg2o",
        "outputId": "e1f719db-4157-42d7-93ec-e335d9b5c199"
      },
      "id": "6WC7CIkDSg2o",
      "execution_count": 113,
      "outputs": [
        {
          "output_type": "execute_result",
          "data": {
            "text/plain": [
              "[(0, 1), (1, 1), (2, 1), (3, 1)]"
            ]
          },
          "metadata": {},
          "execution_count": 113
        }
      ]
    },
    {
      "cell_type": "markdown",
      "source": [
        "##Perform TF-IDF ##\n",
        "**\"Term Frequency, Inverse Document Frequency\"**"
      ],
      "metadata": {
        "id": "VV7Jxlcoct2b"
      },
      "id": "VV7Jxlcoct2b"
    },
    {
      "cell_type": "code",
      "source": [
        "# Create tf-idf model object using models.TfidfModel on 'bow_corpus'\n",
        "\n",
        "from gensim import corpora, models\n",
        "\n",
        "tfidf = models.TfidfModel(bow_corpus)\n",
        "print(tfidf)"
      ],
      "metadata": {
        "colab": {
          "base_uri": "https://localhost:8080/"
        },
        "id": "Yg_PRbpOShPz",
        "outputId": "a4457d1b-ee0c-4d56-9875-3de90814653d"
      },
      "id": "Yg_PRbpOShPz",
      "execution_count": 114,
      "outputs": [
        {
          "output_type": "stream",
          "name": "stdout",
          "text": [
            "TfidfModel<num_docs=350, num_nnz=622>\n"
          ]
        }
      ]
    },
    {
      "cell_type": "code",
      "source": [
        "# Apply transformation to the entire corpus\n",
        "\n",
        "corpus_tfidf = tfidf[bow_corpus]\n",
        "print(corpus_tfidf[0])"
      ],
      "metadata": {
        "colab": {
          "base_uri": "https://localhost:8080/"
        },
        "id": "etZs0bHtShUp",
        "outputId": "66527317-2bdd-4224-c30b-1b12872c33b9"
      },
      "id": "etZs0bHtShUp",
      "execution_count": 115,
      "outputs": [
        {
          "output_type": "stream",
          "name": "stdout",
          "text": [
            "[(0, 0.6249377238229042), (1, 0.7806746065698867)]\n"
          ]
        }
      ]
    },
    {
      "cell_type": "code",
      "source": [
        "print(corpus_tfidf[1])"
      ],
      "metadata": {
        "colab": {
          "base_uri": "https://localhost:8080/"
        },
        "id": "f0tlmJvqShmP",
        "outputId": "ec59122a-3e60-4409-ea75-f1fdc9ddcac7"
      },
      "id": "f0tlmJvqShmP",
      "execution_count": 116,
      "outputs": [
        {
          "output_type": "stream",
          "name": "stdout",
          "text": [
            "[(2, 1.0)]\n"
          ]
        }
      ]
    },
    {
      "cell_type": "markdown",
      "source": [
        "## LDA using Bag of Words ##"
      ],
      "metadata": {
        "id": "KrRCma_qKiV1"
      },
      "id": "KrRCma_qKiV1"
    },
    {
      "cell_type": "code",
      "source": [
        "# Train lda model\n",
        "\n",
        "lda_model = gensim.models.LdaMulticore(bow_corpus,\n",
        "                                       num_topics=5,\n",
        "                                       id2word = dictionary,\n",
        "                                       passes = 10,\n",
        "                                       workers=2)\n",
        "\n",
        "lda_model8 = gensim.models.LdaMulticore(bow_corpus8,\n",
        "                                       num_topics=4,\n",
        "                                       id2word = dictionary8,\n",
        "                                       passes = 10,\n",
        "                                       workers=2)"
      ],
      "metadata": {
        "id": "pfVjFakXLROH"
      },
      "id": "pfVjFakXLROH",
      "execution_count": 117,
      "outputs": []
    },
    {
      "cell_type": "code",
      "source": [
        "# For each topic, we will explore the words occuring in that topic and its relative weight\n",
        "\n",
        "for idx, topic in lda_model.print_topics(-1):\n",
        "\n",
        "    print(\"Topic: {} \\nWords: {}\".format(idx, topic ))\n",
        "    print(\"\\n\")"
      ],
      "metadata": {
        "id": "_vr2hFSHMcC6",
        "colab": {
          "base_uri": "https://localhost:8080/"
        },
        "outputId": "e5bbd21b-d3db-43dc-a6d2-7142dd098b89"
      },
      "id": "_vr2hFSHMcC6",
      "execution_count": 118,
      "outputs": [
        {
          "output_type": "stream",
          "name": "stdout",
          "text": [
            "Topic: 0 \n",
            "Words: 0.088*\"nba\" + 0.070*\"nfl\" + 0.064*\"play\" + 0.057*\"insid\" + 0.056*\"week\" + 0.029*\"new\" + 0.029*\"contend\" + 0.027*\"cup\" + 0.025*\"team\" + 0.022*\"gianni\"\n",
            "\n",
            "\n",
            "Topic: 1 \n",
            "Words: 0.063*\"nhl\" + 0.053*\"rank\" + 0.047*\"basebal\" + 0.040*\"best\" + 0.032*\"race\" + 0.032*\"prospect\" + 0.025*\"year\" + 0.025*\"world\" + 0.025*\"bengal\" + 0.025*\"adam\"\n",
            "\n",
            "\n",
            "Topic: 2 \n",
            "Words: 0.069*\"loss\" + 0.051*\"cowboy\" + 0.037*\"skene\" + 0.037*\"predict\" + 0.036*\"score\" + 0.031*\"game\" + 0.030*\"texan\" + 0.030*\"call\" + 0.030*\"hugh\" + 0.030*\"yanke\"\n",
            "\n",
            "\n",
            "Topic: 3 \n",
            "Words: 0.099*\"score\" + 0.068*\"player\" + 0.060*\"go\" + 0.058*\"goal\" + 0.043*\"allen\" + 0.035*\"power\" + 0.035*\"jet\" + 0.032*\"team\" + 0.029*\"rank\" + 0.027*\"mlb\"\n",
            "\n",
            "\n",
            "Topic: 4 \n",
            "Words: 0.069*\"win\" + 0.061*\"team\" + 0.059*\"game\" + 0.052*\"trade\" + 0.038*\"soto\" + 0.038*\"footbal\" + 0.033*\"doubl\" + 0.029*\"winner\" + 0.029*\"red\" + 0.028*\"tripl\"\n",
            "\n",
            "\n"
          ]
        }
      ]
    },
    {
      "cell_type": "code",
      "source": [
        "for idx, topic in lda_model8.print_topics(-1):\n",
        "\n",
        "    print(\"Topic: {} \\nWords: {}\".format(idx, topic ))\n",
        "    print(\"\\n\")"
      ],
      "metadata": {
        "colab": {
          "base_uri": "https://localhost:8080/"
        },
        "id": "OQ-i_-O9VIg5",
        "outputId": "2ed0a051-4fa7-41bd-9e1d-f0448241912d"
      },
      "id": "OQ-i_-O9VIg5",
      "execution_count": 119,
      "outputs": [
        {
          "output_type": "stream",
          "name": "stdout",
          "text": [
            "Topic: 0 \n",
            "Words: 0.204*\"stori\" + 0.196*\"live\" + 0.084*\"hous\" + 0.079*\"trump\" + 0.061*\"vote\" + 0.049*\"exclus\" + 0.038*\"damar\" + 0.038*\"hamlin\" + 0.038*\"speaker\" + 0.038*\"mccarthi\"\n",
            "\n",
            "\n",
            "Topic: 1 \n",
            "Words: 0.133*\"live\" + 0.123*\"stori\" + 0.074*\"death\" + 0.060*\"titan\" + 0.059*\"chines\" + 0.046*\"miss\" + 0.046*\"news\" + 0.046*\"video\" + 0.045*\"charg\" + 0.045*\"hurrican\"\n",
            "\n",
            "\n",
            "Topic: 2 \n",
            "Words: 0.183*\"shoot\" + 0.059*\"live\" + 0.059*\"mass\" + 0.059*\"stori\" + 0.059*\"indict\" + 0.047*\"trump\" + 0.045*\"say\" + 0.045*\"main\" + 0.045*\"year\" + 0.045*\"polic\"\n",
            "\n",
            "\n",
            "Topic: 3 \n",
            "Words: 0.118*\"tropic\" + 0.090*\"accid\" + 0.090*\"storm\" + 0.089*\"hilari\" + 0.064*\"idalia\" + 0.063*\"submers\" + 0.063*\"titan\" + 0.061*\"forecast\" + 0.040*\"stori\" + 0.035*\"go\"\n",
            "\n",
            "\n"
          ]
        }
      ]
    },
    {
      "cell_type": "markdown",
      "source": [
        "##LDA using TF-IDF ##\n",
        "\n",
        "- performing TF-IDF on the corpus is is recemmended but not necessary for LDA implemention using the gensim model.\n",
        "\n",
        "- *note: The author of Gensim dictates the standard procedure for LDA is to use the Bag of Words model.*"
      ],
      "metadata": {
        "id": "gPz8GyZ6PMOM"
      },
      "id": "gPz8GyZ6PMOM"
    },
    {
      "cell_type": "code",
      "source": [
        "# lda model using corpus_tfidf\n",
        "\n",
        "lda_model_tfidf = gensim.models.LdaMulticore(corpus_tfidf,\n",
        "                                             num_topics=5,\n",
        "                                             id2word = dictionary,\n",
        "                                             passes = 10,\n",
        "                                             workers=2)"
      ],
      "metadata": {
        "id": "ItwLZ6fkPTZx"
      },
      "id": "ItwLZ6fkPTZx",
      "execution_count": 120,
      "outputs": []
    },
    {
      "cell_type": "code",
      "source": [
        "# For each topic, we will explore the words occuring in that topic and its relative weight\n",
        "\n",
        "for idx, topic in lda_model_tfidf.print_topics(-1):\n",
        "\n",
        "    print(\"Topic: {} Word: {}\".format(idx, topic))\n",
        "    print(\"\\n\")"
      ],
      "metadata": {
        "colab": {
          "base_uri": "https://localhost:8080/"
        },
        "id": "CMK02HkxQa6q",
        "outputId": "4a6f3644-0304-4993-d0dd-783a8c90ccef"
      },
      "id": "CMK02HkxQa6q",
      "execution_count": 121,
      "outputs": [
        {
          "output_type": "stream",
          "name": "stdout",
          "text": [
            "Topic: 0 Word: 0.063*\"trade\" + 0.050*\"nba\" + 0.045*\"loss\" + 0.043*\"goal\" + 0.037*\"team\" + 0.034*\"red\" + 0.034*\"best\" + 0.034*\"basebal\" + 0.030*\"quot\" + 0.030*\"contend\"\n",
            "\n",
            "\n",
            "Topic: 1 Word: 0.103*\"play\" + 0.060*\"go\" + 0.054*\"insid\" + 0.041*\"allen\" + 0.037*\"gianni\" + 0.032*\"player\" + 0.031*\"yanke\" + 0.028*\"nhl\" + 0.028*\"mixon\" + 0.026*\"year\"\n",
            "\n",
            "\n",
            "Topic: 2 Word: 0.073*\"team\" + 0.050*\"rank\" + 0.047*\"coach\" + 0.046*\"mlb\" + 0.042*\"new\" + 0.038*\"power\" + 0.036*\"cowboy\" + 0.035*\"call\" + 0.033*\"mcdavid\" + 0.033*\"predict\"\n",
            "\n",
            "\n",
            "Topic: 3 Word: 0.088*\"score\" + 0.069*\"win\" + 0.063*\"game\" + 0.048*\"nfl\" + 0.046*\"winner\" + 0.045*\"week\" + 0.027*\"award\" + 0.026*\"randl\" + 0.026*\"hockey\" + 0.025*\"texan\"\n",
            "\n",
            "\n",
            "Topic: 4 Word: 0.060*\"athlet\" + 0.056*\"footbal\" + 0.044*\"tripl\" + 0.042*\"doubl\" + 0.038*\"bengal\" + 0.038*\"soto\" + 0.036*\"cup\" + 0.031*\"giant\" + 0.031*\"world\" + 0.030*\"chief\"\n",
            "\n",
            "\n"
          ]
        }
      ]
    },
    {
      "cell_type": "markdown",
      "source": [
        "When using tf-idf, heavier weights are given to words that are not as frequent which results in nouns being factored in. This can make it harder to figure out the categories as nouns can be hard to categorize."
      ],
      "metadata": {
        "id": "kN2YXrA1VSrw"
      },
      "id": "kN2YXrA1VSrw"
    },
    {
      "cell_type": "markdown",
      "source": [
        "## Modelling Process from Sci_Kit Learn ##"
      ],
      "metadata": {
        "id": "AEbnxHkrOztO"
      },
      "id": "AEbnxHkrOztO"
    },
    {
      "cell_type": "code",
      "source": [
        "from sklearn.feature_extraction.text import TfidfVectorizer\n",
        "\n",
        "vectorizer = TfidfVectorizer(stop_words='english')\n",
        "tfidf_matrix = vectorizer.fit_transform(combined_df['Headline'])\n",
        "\n",
        "\n",
        "tfidf_matrix.todense()"
      ],
      "metadata": {
        "colab": {
          "base_uri": "https://localhost:8080/"
        },
        "id": "aBytEr1EwWyy",
        "outputId": "fbb06c17-ae1c-4dc8-f4b8-5364d62ada65"
      },
      "id": "aBytEr1EwWyy",
      "execution_count": 122,
      "outputs": [
        {
          "output_type": "execute_result",
          "data": {
            "text/plain": [
              "matrix([[0., 0., 0., ..., 0., 0., 0.],\n",
              "        [0., 0., 0., ..., 0., 0., 0.],\n",
              "        [0., 0., 0., ..., 0., 0., 0.],\n",
              "        ...,\n",
              "        [0., 0., 0., ..., 0., 0., 0.],\n",
              "        [0., 0., 0., ..., 0., 0., 0.],\n",
              "        [0., 0., 0., ..., 0., 0., 0.]])"
            ]
          },
          "metadata": {},
          "execution_count": 122
        }
      ]
    },
    {
      "cell_type": "code",
      "source": [
        "from sklearn.decomposition import LatentDirichletAllocation\n",
        "lda = LatentDirichletAllocation(n_components=4, random_state=0)"
      ],
      "metadata": {
        "id": "YEmsAnZdtdKl"
      },
      "id": "YEmsAnZdtdKl",
      "execution_count": 136,
      "outputs": []
    },
    {
      "cell_type": "code",
      "source": [
        "lda.fit(tfidf_matrix)"
      ],
      "metadata": {
        "colab": {
          "base_uri": "https://localhost:8080/",
          "height": 80
        },
        "id": "_jITVPHo0vBr",
        "outputId": "f70470a3-000c-4eae-d0db-ee3c3096b785"
      },
      "id": "_jITVPHo0vBr",
      "execution_count": 137,
      "outputs": [
        {
          "output_type": "execute_result",
          "data": {
            "text/plain": [
              "LatentDirichletAllocation(n_components=4, random_state=0)"
            ],
            "text/html": [
              "<style>#sk-container-id-3 {\n",
              "  /* Definition of color scheme common for light and dark mode */\n",
              "  --sklearn-color-text: black;\n",
              "  --sklearn-color-line: gray;\n",
              "  /* Definition of color scheme for unfitted estimators */\n",
              "  --sklearn-color-unfitted-level-0: #fff5e6;\n",
              "  --sklearn-color-unfitted-level-1: #f6e4d2;\n",
              "  --sklearn-color-unfitted-level-2: #ffe0b3;\n",
              "  --sklearn-color-unfitted-level-3: chocolate;\n",
              "  /* Definition of color scheme for fitted estimators */\n",
              "  --sklearn-color-fitted-level-0: #f0f8ff;\n",
              "  --sklearn-color-fitted-level-1: #d4ebff;\n",
              "  --sklearn-color-fitted-level-2: #b3dbfd;\n",
              "  --sklearn-color-fitted-level-3: cornflowerblue;\n",
              "\n",
              "  /* Specific color for light theme */\n",
              "  --sklearn-color-text-on-default-background: var(--sg-text-color, var(--theme-code-foreground, var(--jp-content-font-color1, black)));\n",
              "  --sklearn-color-background: var(--sg-background-color, var(--theme-background, var(--jp-layout-color0, white)));\n",
              "  --sklearn-color-border-box: var(--sg-text-color, var(--theme-code-foreground, var(--jp-content-font-color1, black)));\n",
              "  --sklearn-color-icon: #696969;\n",
              "\n",
              "  @media (prefers-color-scheme: dark) {\n",
              "    /* Redefinition of color scheme for dark theme */\n",
              "    --sklearn-color-text-on-default-background: var(--sg-text-color, var(--theme-code-foreground, var(--jp-content-font-color1, white)));\n",
              "    --sklearn-color-background: var(--sg-background-color, var(--theme-background, var(--jp-layout-color0, #111)));\n",
              "    --sklearn-color-border-box: var(--sg-text-color, var(--theme-code-foreground, var(--jp-content-font-color1, white)));\n",
              "    --sklearn-color-icon: #878787;\n",
              "  }\n",
              "}\n",
              "\n",
              "#sk-container-id-3 {\n",
              "  color: var(--sklearn-color-text);\n",
              "}\n",
              "\n",
              "#sk-container-id-3 pre {\n",
              "  padding: 0;\n",
              "}\n",
              "\n",
              "#sk-container-id-3 input.sk-hidden--visually {\n",
              "  border: 0;\n",
              "  clip: rect(1px 1px 1px 1px);\n",
              "  clip: rect(1px, 1px, 1px, 1px);\n",
              "  height: 1px;\n",
              "  margin: -1px;\n",
              "  overflow: hidden;\n",
              "  padding: 0;\n",
              "  position: absolute;\n",
              "  width: 1px;\n",
              "}\n",
              "\n",
              "#sk-container-id-3 div.sk-dashed-wrapped {\n",
              "  border: 1px dashed var(--sklearn-color-line);\n",
              "  margin: 0 0.4em 0.5em 0.4em;\n",
              "  box-sizing: border-box;\n",
              "  padding-bottom: 0.4em;\n",
              "  background-color: var(--sklearn-color-background);\n",
              "}\n",
              "\n",
              "#sk-container-id-3 div.sk-container {\n",
              "  /* jupyter's `normalize.less` sets `[hidden] { display: none; }`\n",
              "     but bootstrap.min.css set `[hidden] { display: none !important; }`\n",
              "     so we also need the `!important` here to be able to override the\n",
              "     default hidden behavior on the sphinx rendered scikit-learn.org.\n",
              "     See: https://github.com/scikit-learn/scikit-learn/issues/21755 */\n",
              "  display: inline-block !important;\n",
              "  position: relative;\n",
              "}\n",
              "\n",
              "#sk-container-id-3 div.sk-text-repr-fallback {\n",
              "  display: none;\n",
              "}\n",
              "\n",
              "div.sk-parallel-item,\n",
              "div.sk-serial,\n",
              "div.sk-item {\n",
              "  /* draw centered vertical line to link estimators */\n",
              "  background-image: linear-gradient(var(--sklearn-color-text-on-default-background), var(--sklearn-color-text-on-default-background));\n",
              "  background-size: 2px 100%;\n",
              "  background-repeat: no-repeat;\n",
              "  background-position: center center;\n",
              "}\n",
              "\n",
              "/* Parallel-specific style estimator block */\n",
              "\n",
              "#sk-container-id-3 div.sk-parallel-item::after {\n",
              "  content: \"\";\n",
              "  width: 100%;\n",
              "  border-bottom: 2px solid var(--sklearn-color-text-on-default-background);\n",
              "  flex-grow: 1;\n",
              "}\n",
              "\n",
              "#sk-container-id-3 div.sk-parallel {\n",
              "  display: flex;\n",
              "  align-items: stretch;\n",
              "  justify-content: center;\n",
              "  background-color: var(--sklearn-color-background);\n",
              "  position: relative;\n",
              "}\n",
              "\n",
              "#sk-container-id-3 div.sk-parallel-item {\n",
              "  display: flex;\n",
              "  flex-direction: column;\n",
              "}\n",
              "\n",
              "#sk-container-id-3 div.sk-parallel-item:first-child::after {\n",
              "  align-self: flex-end;\n",
              "  width: 50%;\n",
              "}\n",
              "\n",
              "#sk-container-id-3 div.sk-parallel-item:last-child::after {\n",
              "  align-self: flex-start;\n",
              "  width: 50%;\n",
              "}\n",
              "\n",
              "#sk-container-id-3 div.sk-parallel-item:only-child::after {\n",
              "  width: 0;\n",
              "}\n",
              "\n",
              "/* Serial-specific style estimator block */\n",
              "\n",
              "#sk-container-id-3 div.sk-serial {\n",
              "  display: flex;\n",
              "  flex-direction: column;\n",
              "  align-items: center;\n",
              "  background-color: var(--sklearn-color-background);\n",
              "  padding-right: 1em;\n",
              "  padding-left: 1em;\n",
              "}\n",
              "\n",
              "\n",
              "/* Toggleable style: style used for estimator/Pipeline/ColumnTransformer box that is\n",
              "clickable and can be expanded/collapsed.\n",
              "- Pipeline and ColumnTransformer use this feature and define the default style\n",
              "- Estimators will overwrite some part of the style using the `sk-estimator` class\n",
              "*/\n",
              "\n",
              "/* Pipeline and ColumnTransformer style (default) */\n",
              "\n",
              "#sk-container-id-3 div.sk-toggleable {\n",
              "  /* Default theme specific background. It is overwritten whether we have a\n",
              "  specific estimator or a Pipeline/ColumnTransformer */\n",
              "  background-color: var(--sklearn-color-background);\n",
              "}\n",
              "\n",
              "/* Toggleable label */\n",
              "#sk-container-id-3 label.sk-toggleable__label {\n",
              "  cursor: pointer;\n",
              "  display: block;\n",
              "  width: 100%;\n",
              "  margin-bottom: 0;\n",
              "  padding: 0.5em;\n",
              "  box-sizing: border-box;\n",
              "  text-align: center;\n",
              "}\n",
              "\n",
              "#sk-container-id-3 label.sk-toggleable__label-arrow:before {\n",
              "  /* Arrow on the left of the label */\n",
              "  content: \"▸\";\n",
              "  float: left;\n",
              "  margin-right: 0.25em;\n",
              "  color: var(--sklearn-color-icon);\n",
              "}\n",
              "\n",
              "#sk-container-id-3 label.sk-toggleable__label-arrow:hover:before {\n",
              "  color: var(--sklearn-color-text);\n",
              "}\n",
              "\n",
              "/* Toggleable content - dropdown */\n",
              "\n",
              "#sk-container-id-3 div.sk-toggleable__content {\n",
              "  max-height: 0;\n",
              "  max-width: 0;\n",
              "  overflow: hidden;\n",
              "  text-align: left;\n",
              "  /* unfitted */\n",
              "  background-color: var(--sklearn-color-unfitted-level-0);\n",
              "}\n",
              "\n",
              "#sk-container-id-3 div.sk-toggleable__content.fitted {\n",
              "  /* fitted */\n",
              "  background-color: var(--sklearn-color-fitted-level-0);\n",
              "}\n",
              "\n",
              "#sk-container-id-3 div.sk-toggleable__content pre {\n",
              "  margin: 0.2em;\n",
              "  border-radius: 0.25em;\n",
              "  color: var(--sklearn-color-text);\n",
              "  /* unfitted */\n",
              "  background-color: var(--sklearn-color-unfitted-level-0);\n",
              "}\n",
              "\n",
              "#sk-container-id-3 div.sk-toggleable__content.fitted pre {\n",
              "  /* unfitted */\n",
              "  background-color: var(--sklearn-color-fitted-level-0);\n",
              "}\n",
              "\n",
              "#sk-container-id-3 input.sk-toggleable__control:checked~div.sk-toggleable__content {\n",
              "  /* Expand drop-down */\n",
              "  max-height: 200px;\n",
              "  max-width: 100%;\n",
              "  overflow: auto;\n",
              "}\n",
              "\n",
              "#sk-container-id-3 input.sk-toggleable__control:checked~label.sk-toggleable__label-arrow:before {\n",
              "  content: \"▾\";\n",
              "}\n",
              "\n",
              "/* Pipeline/ColumnTransformer-specific style */\n",
              "\n",
              "#sk-container-id-3 div.sk-label input.sk-toggleable__control:checked~label.sk-toggleable__label {\n",
              "  color: var(--sklearn-color-text);\n",
              "  background-color: var(--sklearn-color-unfitted-level-2);\n",
              "}\n",
              "\n",
              "#sk-container-id-3 div.sk-label.fitted input.sk-toggleable__control:checked~label.sk-toggleable__label {\n",
              "  background-color: var(--sklearn-color-fitted-level-2);\n",
              "}\n",
              "\n",
              "/* Estimator-specific style */\n",
              "\n",
              "/* Colorize estimator box */\n",
              "#sk-container-id-3 div.sk-estimator input.sk-toggleable__control:checked~label.sk-toggleable__label {\n",
              "  /* unfitted */\n",
              "  background-color: var(--sklearn-color-unfitted-level-2);\n",
              "}\n",
              "\n",
              "#sk-container-id-3 div.sk-estimator.fitted input.sk-toggleable__control:checked~label.sk-toggleable__label {\n",
              "  /* fitted */\n",
              "  background-color: var(--sklearn-color-fitted-level-2);\n",
              "}\n",
              "\n",
              "#sk-container-id-3 div.sk-label label.sk-toggleable__label,\n",
              "#sk-container-id-3 div.sk-label label {\n",
              "  /* The background is the default theme color */\n",
              "  color: var(--sklearn-color-text-on-default-background);\n",
              "}\n",
              "\n",
              "/* On hover, darken the color of the background */\n",
              "#sk-container-id-3 div.sk-label:hover label.sk-toggleable__label {\n",
              "  color: var(--sklearn-color-text);\n",
              "  background-color: var(--sklearn-color-unfitted-level-2);\n",
              "}\n",
              "\n",
              "/* Label box, darken color on hover, fitted */\n",
              "#sk-container-id-3 div.sk-label.fitted:hover label.sk-toggleable__label.fitted {\n",
              "  color: var(--sklearn-color-text);\n",
              "  background-color: var(--sklearn-color-fitted-level-2);\n",
              "}\n",
              "\n",
              "/* Estimator label */\n",
              "\n",
              "#sk-container-id-3 div.sk-label label {\n",
              "  font-family: monospace;\n",
              "  font-weight: bold;\n",
              "  display: inline-block;\n",
              "  line-height: 1.2em;\n",
              "}\n",
              "\n",
              "#sk-container-id-3 div.sk-label-container {\n",
              "  text-align: center;\n",
              "}\n",
              "\n",
              "/* Estimator-specific */\n",
              "#sk-container-id-3 div.sk-estimator {\n",
              "  font-family: monospace;\n",
              "  border: 1px dotted var(--sklearn-color-border-box);\n",
              "  border-radius: 0.25em;\n",
              "  box-sizing: border-box;\n",
              "  margin-bottom: 0.5em;\n",
              "  /* unfitted */\n",
              "  background-color: var(--sklearn-color-unfitted-level-0);\n",
              "}\n",
              "\n",
              "#sk-container-id-3 div.sk-estimator.fitted {\n",
              "  /* fitted */\n",
              "  background-color: var(--sklearn-color-fitted-level-0);\n",
              "}\n",
              "\n",
              "/* on hover */\n",
              "#sk-container-id-3 div.sk-estimator:hover {\n",
              "  /* unfitted */\n",
              "  background-color: var(--sklearn-color-unfitted-level-2);\n",
              "}\n",
              "\n",
              "#sk-container-id-3 div.sk-estimator.fitted:hover {\n",
              "  /* fitted */\n",
              "  background-color: var(--sklearn-color-fitted-level-2);\n",
              "}\n",
              "\n",
              "/* Specification for estimator info (e.g. \"i\" and \"?\") */\n",
              "\n",
              "/* Common style for \"i\" and \"?\" */\n",
              "\n",
              ".sk-estimator-doc-link,\n",
              "a:link.sk-estimator-doc-link,\n",
              "a:visited.sk-estimator-doc-link {\n",
              "  float: right;\n",
              "  font-size: smaller;\n",
              "  line-height: 1em;\n",
              "  font-family: monospace;\n",
              "  background-color: var(--sklearn-color-background);\n",
              "  border-radius: 1em;\n",
              "  height: 1em;\n",
              "  width: 1em;\n",
              "  text-decoration: none !important;\n",
              "  margin-left: 1ex;\n",
              "  /* unfitted */\n",
              "  border: var(--sklearn-color-unfitted-level-1) 1pt solid;\n",
              "  color: var(--sklearn-color-unfitted-level-1);\n",
              "}\n",
              "\n",
              ".sk-estimator-doc-link.fitted,\n",
              "a:link.sk-estimator-doc-link.fitted,\n",
              "a:visited.sk-estimator-doc-link.fitted {\n",
              "  /* fitted */\n",
              "  border: var(--sklearn-color-fitted-level-1) 1pt solid;\n",
              "  color: var(--sklearn-color-fitted-level-1);\n",
              "}\n",
              "\n",
              "/* On hover */\n",
              "div.sk-estimator:hover .sk-estimator-doc-link:hover,\n",
              ".sk-estimator-doc-link:hover,\n",
              "div.sk-label-container:hover .sk-estimator-doc-link:hover,\n",
              ".sk-estimator-doc-link:hover {\n",
              "  /* unfitted */\n",
              "  background-color: var(--sklearn-color-unfitted-level-3);\n",
              "  color: var(--sklearn-color-background);\n",
              "  text-decoration: none;\n",
              "}\n",
              "\n",
              "div.sk-estimator.fitted:hover .sk-estimator-doc-link.fitted:hover,\n",
              ".sk-estimator-doc-link.fitted:hover,\n",
              "div.sk-label-container:hover .sk-estimator-doc-link.fitted:hover,\n",
              ".sk-estimator-doc-link.fitted:hover {\n",
              "  /* fitted */\n",
              "  background-color: var(--sklearn-color-fitted-level-3);\n",
              "  color: var(--sklearn-color-background);\n",
              "  text-decoration: none;\n",
              "}\n",
              "\n",
              "/* Span, style for the box shown on hovering the info icon */\n",
              ".sk-estimator-doc-link span {\n",
              "  display: none;\n",
              "  z-index: 9999;\n",
              "  position: relative;\n",
              "  font-weight: normal;\n",
              "  right: .2ex;\n",
              "  padding: .5ex;\n",
              "  margin: .5ex;\n",
              "  width: min-content;\n",
              "  min-width: 20ex;\n",
              "  max-width: 50ex;\n",
              "  color: var(--sklearn-color-text);\n",
              "  box-shadow: 2pt 2pt 4pt #999;\n",
              "  /* unfitted */\n",
              "  background: var(--sklearn-color-unfitted-level-0);\n",
              "  border: .5pt solid var(--sklearn-color-unfitted-level-3);\n",
              "}\n",
              "\n",
              ".sk-estimator-doc-link.fitted span {\n",
              "  /* fitted */\n",
              "  background: var(--sklearn-color-fitted-level-0);\n",
              "  border: var(--sklearn-color-fitted-level-3);\n",
              "}\n",
              "\n",
              ".sk-estimator-doc-link:hover span {\n",
              "  display: block;\n",
              "}\n",
              "\n",
              "/* \"?\"-specific style due to the `<a>` HTML tag */\n",
              "\n",
              "#sk-container-id-3 a.estimator_doc_link {\n",
              "  float: right;\n",
              "  font-size: 1rem;\n",
              "  line-height: 1em;\n",
              "  font-family: monospace;\n",
              "  background-color: var(--sklearn-color-background);\n",
              "  border-radius: 1rem;\n",
              "  height: 1rem;\n",
              "  width: 1rem;\n",
              "  text-decoration: none;\n",
              "  /* unfitted */\n",
              "  color: var(--sklearn-color-unfitted-level-1);\n",
              "  border: var(--sklearn-color-unfitted-level-1) 1pt solid;\n",
              "}\n",
              "\n",
              "#sk-container-id-3 a.estimator_doc_link.fitted {\n",
              "  /* fitted */\n",
              "  border: var(--sklearn-color-fitted-level-1) 1pt solid;\n",
              "  color: var(--sklearn-color-fitted-level-1);\n",
              "}\n",
              "\n",
              "/* On hover */\n",
              "#sk-container-id-3 a.estimator_doc_link:hover {\n",
              "  /* unfitted */\n",
              "  background-color: var(--sklearn-color-unfitted-level-3);\n",
              "  color: var(--sklearn-color-background);\n",
              "  text-decoration: none;\n",
              "}\n",
              "\n",
              "#sk-container-id-3 a.estimator_doc_link.fitted:hover {\n",
              "  /* fitted */\n",
              "  background-color: var(--sklearn-color-fitted-level-3);\n",
              "}\n",
              "</style><div id=\"sk-container-id-3\" class=\"sk-top-container\"><div class=\"sk-text-repr-fallback\"><pre>LatentDirichletAllocation(n_components=4, random_state=0)</pre><b>In a Jupyter environment, please rerun this cell to show the HTML representation or trust the notebook. <br />On GitHub, the HTML representation is unable to render, please try loading this page with nbviewer.org.</b></div><div class=\"sk-container\" hidden><div class=\"sk-item\"><div class=\"sk-estimator fitted sk-toggleable\"><input class=\"sk-toggleable__control sk-hidden--visually\" id=\"sk-estimator-id-3\" type=\"checkbox\" checked><label for=\"sk-estimator-id-3\" class=\"sk-toggleable__label fitted sk-toggleable__label-arrow fitted\">&nbsp;&nbsp;LatentDirichletAllocation<a class=\"sk-estimator-doc-link fitted\" rel=\"noreferrer\" target=\"_blank\" href=\"https://scikit-learn.org/1.5/modules/generated/sklearn.decomposition.LatentDirichletAllocation.html\">?<span>Documentation for LatentDirichletAllocation</span></a><span class=\"sk-estimator-doc-link fitted\">i<span>Fitted</span></span></label><div class=\"sk-toggleable__content fitted\"><pre>LatentDirichletAllocation(n_components=4, random_state=0)</pre></div> </div></div></div></div>"
            ]
          },
          "metadata": {},
          "execution_count": 137
        }
      ]
    },
    {
      "cell_type": "code",
      "source": [
        "lda.components_"
      ],
      "metadata": {
        "colab": {
          "base_uri": "https://localhost:8080/"
        },
        "collapsed": true,
        "id": "dZcSH2Jn3ZHi",
        "outputId": "06e5742b-52c3-4b12-9477-adcd2550b6be"
      },
      "id": "dZcSH2Jn3ZHi",
      "execution_count": 138,
      "outputs": [
        {
          "output_type": "execute_result",
          "data": {
            "text/plain": [
              "array([[5.52268095, 0.25029774, 0.76865928, ..., 0.25012553, 0.92340014,\n",
              "        0.25014546],\n",
              "       [0.250246  , 0.25030322, 0.71741837, ..., 0.25015631, 0.25037204,\n",
              "        0.25015946],\n",
              "       [0.26627348, 0.25711268, 0.25034257, ..., 0.25012075, 1.25433529,\n",
              "        0.62718599],\n",
              "       [0.25023918, 0.87374999, 0.25036585, ..., 1.04823272, 0.25035846,\n",
              "        0.25015923]])"
            ]
          },
          "metadata": {},
          "execution_count": 138
        }
      ]
    },
    {
      "cell_type": "code",
      "source": [
        "vectorizer.get_feature_names_out()"
      ],
      "metadata": {
        "colab": {
          "base_uri": "https://localhost:8080/"
        },
        "id": "njBCh5ET34T3",
        "outputId": "68d10521-db6e-4a49-c722-bd4a38308bf3"
      },
      "id": "njBCh5ET34T3",
      "execution_count": 139,
      "outputs": [
        {
          "output_type": "execute_result",
          "data": {
            "text/plain": [
              "array(['10', '100', '1000th', ..., 'yd', 'year', 'years'], dtype=object)"
            ]
          },
          "metadata": {},
          "execution_count": 139
        }
      ]
    },
    {
      "cell_type": "code",
      "source": [
        "for idx, topic in enumerate(lda.components_):\n",
        "    print(f\"Topic {idx}:\")\n",
        "    print([vectorizer.get_feature_names_out()[i] for i in topic.argsort()[:-10 - 1:-1]])\n",
        "    print(\"\\n\")"
      ],
      "metadata": {
        "colab": {
          "base_uri": "https://localhost:8080/"
        },
        "collapsed": true,
        "id": "HPGujjkJ4Ipg",
        "outputId": "d83da688-ae6b-4c23-cc2b-81167931158d"
      },
      "id": "HPGujjkJ4Ipg",
      "execution_count": 140,
      "outputs": [
        {
          "output_type": "stream",
          "name": "stdout",
          "text": [
            "Topic 0:\n",
            "['10', 'athletic', 'plays', 'football', 'sasaki', 'soto', 'nba', 'baseball', 'roki', '2024']\n",
            "\n",
            "\n",
            "Topic 1:\n",
            "['team', 'allen', 'td', 'vs', 'josh', 'goal', 'nba', 'mlb', 'loss', 'trick']\n",
            "\n",
            "\n",
            "Topic 2:\n",
            "['game', 'teams', 'winner', 'rankings', 'nhl', 'week', 'new', 'ot', 'yankees', 'randle']\n",
            "\n",
            "\n",
            "Topic 3:\n",
            "['scores', 'vs', 'hughes', 'jack', 'giants', 'bench', 'win', 'roy', 'inside', 'nhl']\n",
            "\n",
            "\n"
          ]
        }
      ]
    },
    {
      "cell_type": "code",
      "source": [
        "def display_topics(model, feature_names, no_top_words):\n",
        "    topic_dict = {}\n",
        "    for topic_idx, topic in enumerate(model.components_):\n",
        "        topic_dict[f\"Topic {topic_idx+1}\"] = [feature_names[i] for i in topic.argsort()[:-no_top_words - 1:-1]]\n",
        "    return topic_dict\n",
        "\n",
        "no_top_words = 10\n",
        "topics = display_topics(lda, vectorizer.get_feature_names_out(), no_top_words)\n",
        "\n",
        "# Convert the topics dictionary to a DataFrame for better visualization\n",
        "topics_df = pd.DataFrame(topics)"
      ],
      "metadata": {
        "id": "hkSSWkJW51Ar"
      },
      "id": "hkSSWkJW51Ar",
      "execution_count": 141,
      "outputs": []
    },
    {
      "cell_type": "code",
      "source": [
        "topics_df"
      ],
      "metadata": {
        "colab": {
          "base_uri": "https://localhost:8080/",
          "height": 363
        },
        "id": "rX0J11I46BKV",
        "outputId": "5dbda229-0e58-492e-ebb3-d7dc09a17842"
      },
      "id": "rX0J11I46BKV",
      "execution_count": 142,
      "outputs": [
        {
          "output_type": "execute_result",
          "data": {
            "text/plain": [
              "    Topic 1 Topic 2   Topic 3 Topic 4\n",
              "0        10    team      game  scores\n",
              "1  athletic   allen     teams      vs\n",
              "2     plays      td    winner  hughes\n",
              "3  football      vs  rankings    jack\n",
              "4    sasaki    josh       nhl  giants\n",
              "5      soto    goal      week   bench\n",
              "6       nba     nba       new     win\n",
              "7  baseball     mlb        ot     roy\n",
              "8      roki    loss   yankees  inside\n",
              "9      2024   trick    randle     nhl"
            ],
            "text/html": [
              "\n",
              "  <div id=\"df-f8fd1e6a-f2a8-414b-812e-2e593fb208e0\" class=\"colab-df-container\">\n",
              "    <div>\n",
              "<style scoped>\n",
              "    .dataframe tbody tr th:only-of-type {\n",
              "        vertical-align: middle;\n",
              "    }\n",
              "\n",
              "    .dataframe tbody tr th {\n",
              "        vertical-align: top;\n",
              "    }\n",
              "\n",
              "    .dataframe thead th {\n",
              "        text-align: right;\n",
              "    }\n",
              "</style>\n",
              "<table border=\"1\" class=\"dataframe\">\n",
              "  <thead>\n",
              "    <tr style=\"text-align: right;\">\n",
              "      <th></th>\n",
              "      <th>Topic 1</th>\n",
              "      <th>Topic 2</th>\n",
              "      <th>Topic 3</th>\n",
              "      <th>Topic 4</th>\n",
              "    </tr>\n",
              "  </thead>\n",
              "  <tbody>\n",
              "    <tr>\n",
              "      <th>0</th>\n",
              "      <td>10</td>\n",
              "      <td>team</td>\n",
              "      <td>game</td>\n",
              "      <td>scores</td>\n",
              "    </tr>\n",
              "    <tr>\n",
              "      <th>1</th>\n",
              "      <td>athletic</td>\n",
              "      <td>allen</td>\n",
              "      <td>teams</td>\n",
              "      <td>vs</td>\n",
              "    </tr>\n",
              "    <tr>\n",
              "      <th>2</th>\n",
              "      <td>plays</td>\n",
              "      <td>td</td>\n",
              "      <td>winner</td>\n",
              "      <td>hughes</td>\n",
              "    </tr>\n",
              "    <tr>\n",
              "      <th>3</th>\n",
              "      <td>football</td>\n",
              "      <td>vs</td>\n",
              "      <td>rankings</td>\n",
              "      <td>jack</td>\n",
              "    </tr>\n",
              "    <tr>\n",
              "      <th>4</th>\n",
              "      <td>sasaki</td>\n",
              "      <td>josh</td>\n",
              "      <td>nhl</td>\n",
              "      <td>giants</td>\n",
              "    </tr>\n",
              "    <tr>\n",
              "      <th>5</th>\n",
              "      <td>soto</td>\n",
              "      <td>goal</td>\n",
              "      <td>week</td>\n",
              "      <td>bench</td>\n",
              "    </tr>\n",
              "    <tr>\n",
              "      <th>6</th>\n",
              "      <td>nba</td>\n",
              "      <td>nba</td>\n",
              "      <td>new</td>\n",
              "      <td>win</td>\n",
              "    </tr>\n",
              "    <tr>\n",
              "      <th>7</th>\n",
              "      <td>baseball</td>\n",
              "      <td>mlb</td>\n",
              "      <td>ot</td>\n",
              "      <td>roy</td>\n",
              "    </tr>\n",
              "    <tr>\n",
              "      <th>8</th>\n",
              "      <td>roki</td>\n",
              "      <td>loss</td>\n",
              "      <td>yankees</td>\n",
              "      <td>inside</td>\n",
              "    </tr>\n",
              "    <tr>\n",
              "      <th>9</th>\n",
              "      <td>2024</td>\n",
              "      <td>trick</td>\n",
              "      <td>randle</td>\n",
              "      <td>nhl</td>\n",
              "    </tr>\n",
              "  </tbody>\n",
              "</table>\n",
              "</div>\n",
              "    <div class=\"colab-df-buttons\">\n",
              "\n",
              "  <div class=\"colab-df-container\">\n",
              "    <button class=\"colab-df-convert\" onclick=\"convertToInteractive('df-f8fd1e6a-f2a8-414b-812e-2e593fb208e0')\"\n",
              "            title=\"Convert this dataframe to an interactive table.\"\n",
              "            style=\"display:none;\">\n",
              "\n",
              "  <svg xmlns=\"http://www.w3.org/2000/svg\" height=\"24px\" viewBox=\"0 -960 960 960\">\n",
              "    <path d=\"M120-120v-720h720v720H120Zm60-500h600v-160H180v160Zm220 220h160v-160H400v160Zm0 220h160v-160H400v160ZM180-400h160v-160H180v160Zm440 0h160v-160H620v160ZM180-180h160v-160H180v160Zm440 0h160v-160H620v160Z\"/>\n",
              "  </svg>\n",
              "    </button>\n",
              "\n",
              "  <style>\n",
              "    .colab-df-container {\n",
              "      display:flex;\n",
              "      gap: 12px;\n",
              "    }\n",
              "\n",
              "    .colab-df-convert {\n",
              "      background-color: #E8F0FE;\n",
              "      border: none;\n",
              "      border-radius: 50%;\n",
              "      cursor: pointer;\n",
              "      display: none;\n",
              "      fill: #1967D2;\n",
              "      height: 32px;\n",
              "      padding: 0 0 0 0;\n",
              "      width: 32px;\n",
              "    }\n",
              "\n",
              "    .colab-df-convert:hover {\n",
              "      background-color: #E2EBFA;\n",
              "      box-shadow: 0px 1px 2px rgba(60, 64, 67, 0.3), 0px 1px 3px 1px rgba(60, 64, 67, 0.15);\n",
              "      fill: #174EA6;\n",
              "    }\n",
              "\n",
              "    .colab-df-buttons div {\n",
              "      margin-bottom: 4px;\n",
              "    }\n",
              "\n",
              "    [theme=dark] .colab-df-convert {\n",
              "      background-color: #3B4455;\n",
              "      fill: #D2E3FC;\n",
              "    }\n",
              "\n",
              "    [theme=dark] .colab-df-convert:hover {\n",
              "      background-color: #434B5C;\n",
              "      box-shadow: 0px 1px 3px 1px rgba(0, 0, 0, 0.15);\n",
              "      filter: drop-shadow(0px 1px 2px rgba(0, 0, 0, 0.3));\n",
              "      fill: #FFFFFF;\n",
              "    }\n",
              "  </style>\n",
              "\n",
              "    <script>\n",
              "      const buttonEl =\n",
              "        document.querySelector('#df-f8fd1e6a-f2a8-414b-812e-2e593fb208e0 button.colab-df-convert');\n",
              "      buttonEl.style.display =\n",
              "        google.colab.kernel.accessAllowed ? 'block' : 'none';\n",
              "\n",
              "      async function convertToInteractive(key) {\n",
              "        const element = document.querySelector('#df-f8fd1e6a-f2a8-414b-812e-2e593fb208e0');\n",
              "        const dataTable =\n",
              "          await google.colab.kernel.invokeFunction('convertToInteractive',\n",
              "                                                    [key], {});\n",
              "        if (!dataTable) return;\n",
              "\n",
              "        const docLinkHtml = 'Like what you see? Visit the ' +\n",
              "          '<a target=\"_blank\" href=https://colab.research.google.com/notebooks/data_table.ipynb>data table notebook</a>'\n",
              "          + ' to learn more about interactive tables.';\n",
              "        element.innerHTML = '';\n",
              "        dataTable['output_type'] = 'display_data';\n",
              "        await google.colab.output.renderOutput(dataTable, element);\n",
              "        const docLink = document.createElement('div');\n",
              "        docLink.innerHTML = docLinkHtml;\n",
              "        element.appendChild(docLink);\n",
              "      }\n",
              "    </script>\n",
              "  </div>\n",
              "\n",
              "\n",
              "<div id=\"df-88b537e6-c2d1-45ca-b06f-37da8d1e9d00\">\n",
              "  <button class=\"colab-df-quickchart\" onclick=\"quickchart('df-88b537e6-c2d1-45ca-b06f-37da8d1e9d00')\"\n",
              "            title=\"Suggest charts\"\n",
              "            style=\"display:none;\">\n",
              "\n",
              "<svg xmlns=\"http://www.w3.org/2000/svg\" height=\"24px\"viewBox=\"0 0 24 24\"\n",
              "     width=\"24px\">\n",
              "    <g>\n",
              "        <path d=\"M19 3H5c-1.1 0-2 .9-2 2v14c0 1.1.9 2 2 2h14c1.1 0 2-.9 2-2V5c0-1.1-.9-2-2-2zM9 17H7v-7h2v7zm4 0h-2V7h2v10zm4 0h-2v-4h2v4z\"/>\n",
              "    </g>\n",
              "</svg>\n",
              "  </button>\n",
              "\n",
              "<style>\n",
              "  .colab-df-quickchart {\n",
              "      --bg-color: #E8F0FE;\n",
              "      --fill-color: #1967D2;\n",
              "      --hover-bg-color: #E2EBFA;\n",
              "      --hover-fill-color: #174EA6;\n",
              "      --disabled-fill-color: #AAA;\n",
              "      --disabled-bg-color: #DDD;\n",
              "  }\n",
              "\n",
              "  [theme=dark] .colab-df-quickchart {\n",
              "      --bg-color: #3B4455;\n",
              "      --fill-color: #D2E3FC;\n",
              "      --hover-bg-color: #434B5C;\n",
              "      --hover-fill-color: #FFFFFF;\n",
              "      --disabled-bg-color: #3B4455;\n",
              "      --disabled-fill-color: #666;\n",
              "  }\n",
              "\n",
              "  .colab-df-quickchart {\n",
              "    background-color: var(--bg-color);\n",
              "    border: none;\n",
              "    border-radius: 50%;\n",
              "    cursor: pointer;\n",
              "    display: none;\n",
              "    fill: var(--fill-color);\n",
              "    height: 32px;\n",
              "    padding: 0;\n",
              "    width: 32px;\n",
              "  }\n",
              "\n",
              "  .colab-df-quickchart:hover {\n",
              "    background-color: var(--hover-bg-color);\n",
              "    box-shadow: 0 1px 2px rgba(60, 64, 67, 0.3), 0 1px 3px 1px rgba(60, 64, 67, 0.15);\n",
              "    fill: var(--button-hover-fill-color);\n",
              "  }\n",
              "\n",
              "  .colab-df-quickchart-complete:disabled,\n",
              "  .colab-df-quickchart-complete:disabled:hover {\n",
              "    background-color: var(--disabled-bg-color);\n",
              "    fill: var(--disabled-fill-color);\n",
              "    box-shadow: none;\n",
              "  }\n",
              "\n",
              "  .colab-df-spinner {\n",
              "    border: 2px solid var(--fill-color);\n",
              "    border-color: transparent;\n",
              "    border-bottom-color: var(--fill-color);\n",
              "    animation:\n",
              "      spin 1s steps(1) infinite;\n",
              "  }\n",
              "\n",
              "  @keyframes spin {\n",
              "    0% {\n",
              "      border-color: transparent;\n",
              "      border-bottom-color: var(--fill-color);\n",
              "      border-left-color: var(--fill-color);\n",
              "    }\n",
              "    20% {\n",
              "      border-color: transparent;\n",
              "      border-left-color: var(--fill-color);\n",
              "      border-top-color: var(--fill-color);\n",
              "    }\n",
              "    30% {\n",
              "      border-color: transparent;\n",
              "      border-left-color: var(--fill-color);\n",
              "      border-top-color: var(--fill-color);\n",
              "      border-right-color: var(--fill-color);\n",
              "    }\n",
              "    40% {\n",
              "      border-color: transparent;\n",
              "      border-right-color: var(--fill-color);\n",
              "      border-top-color: var(--fill-color);\n",
              "    }\n",
              "    60% {\n",
              "      border-color: transparent;\n",
              "      border-right-color: var(--fill-color);\n",
              "    }\n",
              "    80% {\n",
              "      border-color: transparent;\n",
              "      border-right-color: var(--fill-color);\n",
              "      border-bottom-color: var(--fill-color);\n",
              "    }\n",
              "    90% {\n",
              "      border-color: transparent;\n",
              "      border-bottom-color: var(--fill-color);\n",
              "    }\n",
              "  }\n",
              "</style>\n",
              "\n",
              "  <script>\n",
              "    async function quickchart(key) {\n",
              "      const quickchartButtonEl =\n",
              "        document.querySelector('#' + key + ' button');\n",
              "      quickchartButtonEl.disabled = true;  // To prevent multiple clicks.\n",
              "      quickchartButtonEl.classList.add('colab-df-spinner');\n",
              "      try {\n",
              "        const charts = await google.colab.kernel.invokeFunction(\n",
              "            'suggestCharts', [key], {});\n",
              "      } catch (error) {\n",
              "        console.error('Error during call to suggestCharts:', error);\n",
              "      }\n",
              "      quickchartButtonEl.classList.remove('colab-df-spinner');\n",
              "      quickchartButtonEl.classList.add('colab-df-quickchart-complete');\n",
              "    }\n",
              "    (() => {\n",
              "      let quickchartButtonEl =\n",
              "        document.querySelector('#df-88b537e6-c2d1-45ca-b06f-37da8d1e9d00 button');\n",
              "      quickchartButtonEl.style.display =\n",
              "        google.colab.kernel.accessAllowed ? 'block' : 'none';\n",
              "    })();\n",
              "  </script>\n",
              "</div>\n",
              "\n",
              "  <div id=\"id_a7526f5d-4ba1-48bc-ad8f-467ce91a4391\">\n",
              "    <style>\n",
              "      .colab-df-generate {\n",
              "        background-color: #E8F0FE;\n",
              "        border: none;\n",
              "        border-radius: 50%;\n",
              "        cursor: pointer;\n",
              "        display: none;\n",
              "        fill: #1967D2;\n",
              "        height: 32px;\n",
              "        padding: 0 0 0 0;\n",
              "        width: 32px;\n",
              "      }\n",
              "\n",
              "      .colab-df-generate:hover {\n",
              "        background-color: #E2EBFA;\n",
              "        box-shadow: 0px 1px 2px rgba(60, 64, 67, 0.3), 0px 1px 3px 1px rgba(60, 64, 67, 0.15);\n",
              "        fill: #174EA6;\n",
              "      }\n",
              "\n",
              "      [theme=dark] .colab-df-generate {\n",
              "        background-color: #3B4455;\n",
              "        fill: #D2E3FC;\n",
              "      }\n",
              "\n",
              "      [theme=dark] .colab-df-generate:hover {\n",
              "        background-color: #434B5C;\n",
              "        box-shadow: 0px 1px 3px 1px rgba(0, 0, 0, 0.15);\n",
              "        filter: drop-shadow(0px 1px 2px rgba(0, 0, 0, 0.3));\n",
              "        fill: #FFFFFF;\n",
              "      }\n",
              "    </style>\n",
              "    <button class=\"colab-df-generate\" onclick=\"generateWithVariable('topics_df')\"\n",
              "            title=\"Generate code using this dataframe.\"\n",
              "            style=\"display:none;\">\n",
              "\n",
              "  <svg xmlns=\"http://www.w3.org/2000/svg\" height=\"24px\"viewBox=\"0 0 24 24\"\n",
              "       width=\"24px\">\n",
              "    <path d=\"M7,19H8.4L18.45,9,17,7.55,7,17.6ZM5,21V16.75L18.45,3.32a2,2,0,0,1,2.83,0l1.4,1.43a1.91,1.91,0,0,1,.58,1.4,1.91,1.91,0,0,1-.58,1.4L9.25,21ZM18.45,9,17,7.55Zm-12,3A5.31,5.31,0,0,0,4.9,8.1,5.31,5.31,0,0,0,1,6.5,5.31,5.31,0,0,0,4.9,4.9,5.31,5.31,0,0,0,6.5,1,5.31,5.31,0,0,0,8.1,4.9,5.31,5.31,0,0,0,12,6.5,5.46,5.46,0,0,0,6.5,12Z\"/>\n",
              "  </svg>\n",
              "    </button>\n",
              "    <script>\n",
              "      (() => {\n",
              "      const buttonEl =\n",
              "        document.querySelector('#id_a7526f5d-4ba1-48bc-ad8f-467ce91a4391 button.colab-df-generate');\n",
              "      buttonEl.style.display =\n",
              "        google.colab.kernel.accessAllowed ? 'block' : 'none';\n",
              "\n",
              "      buttonEl.onclick = () => {\n",
              "        google.colab.notebook.generateWithVariable('topics_df');\n",
              "      }\n",
              "      })();\n",
              "    </script>\n",
              "  </div>\n",
              "\n",
              "    </div>\n",
              "  </div>\n"
            ],
            "application/vnd.google.colaboratory.intrinsic+json": {
              "type": "dataframe",
              "variable_name": "topics_df",
              "summary": "{\n  \"name\": \"topics_df\",\n  \"rows\": 10,\n  \"fields\": [\n    {\n      \"column\": \"Topic 1\",\n      \"properties\": {\n        \"dtype\": \"string\",\n        \"num_unique_values\": 10,\n        \"samples\": [\n          \"roki\",\n          \"athletic\",\n          \"soto\"\n        ],\n        \"semantic_type\": \"\",\n        \"description\": \"\"\n      }\n    },\n    {\n      \"column\": \"Topic 2\",\n      \"properties\": {\n        \"dtype\": \"string\",\n        \"num_unique_values\": 10,\n        \"samples\": [\n          \"loss\",\n          \"allen\",\n          \"goal\"\n        ],\n        \"semantic_type\": \"\",\n        \"description\": \"\"\n      }\n    },\n    {\n      \"column\": \"Topic 3\",\n      \"properties\": {\n        \"dtype\": \"string\",\n        \"num_unique_values\": 10,\n        \"samples\": [\n          \"yankees\",\n          \"teams\",\n          \"week\"\n        ],\n        \"semantic_type\": \"\",\n        \"description\": \"\"\n      }\n    },\n    {\n      \"column\": \"Topic 4\",\n      \"properties\": {\n        \"dtype\": \"string\",\n        \"num_unique_values\": 10,\n        \"samples\": [\n          \"inside\",\n          \"vs\",\n          \"bench\"\n        ],\n        \"semantic_type\": \"\",\n        \"description\": \"\"\n      }\n    }\n  ]\n}"
            }
          },
          "metadata": {},
          "execution_count": 142
        }
      ]
    },
    {
      "cell_type": "markdown",
      "source": [
        "## Sample using Sklearn model"
      ],
      "metadata": {
        "id": "tNn53HS2Q21Q"
      },
      "id": "tNn53HS2Q21Q"
    },
    {
      "cell_type": "code",
      "source": [
        "# Processed Text of sample 222\n",
        "sample = processed_headlines[222]\n",
        "sample"
      ],
      "metadata": {
        "colab": {
          "base_uri": "https://localhost:8080/"
        },
        "id": "c6cSEzDh-Tgl",
        "outputId": "d272ebff-6694-4a02-d812-33a7d7b01614"
      },
      "id": "c6cSEzDh-Tgl",
      "execution_count": 157,
      "outputs": [
        {
          "output_type": "execute_result",
          "data": {
            "text/plain": [
              "['basebal', 'hof', 'ballot']"
            ]
          },
          "metadata": {},
          "execution_count": 157
        }
      ]
    },
    {
      "cell_type": "code",
      "source": [
        "combined_df.iloc[222]"
      ],
      "metadata": {
        "colab": {
          "base_uri": "https://localhost:8080/",
          "height": 115
        },
        "id": "iKT-x-4bZJX_",
        "outputId": "b7e07f4d-4c4c-4e43-b8c9-22c6f1cce476"
      },
      "id": "iKT-x-4bZJX_",
      "execution_count": 158,
      "outputs": [
        {
          "output_type": "execute_result",
          "data": {
            "text/plain": [
              "Headline    2025 Baseball HOF Ballot \n",
              "Name: 222, dtype: object"
            ],
            "text/html": [
              "<div>\n",
              "<style scoped>\n",
              "    .dataframe tbody tr th:only-of-type {\n",
              "        vertical-align: middle;\n",
              "    }\n",
              "\n",
              "    .dataframe tbody tr th {\n",
              "        vertical-align: top;\n",
              "    }\n",
              "\n",
              "    .dataframe thead th {\n",
              "        text-align: right;\n",
              "    }\n",
              "</style>\n",
              "<table border=\"1\" class=\"dataframe\">\n",
              "  <thead>\n",
              "    <tr style=\"text-align: right;\">\n",
              "      <th></th>\n",
              "      <th>222</th>\n",
              "    </tr>\n",
              "  </thead>\n",
              "  <tbody>\n",
              "    <tr>\n",
              "      <th>Headline</th>\n",
              "      <td>2025 Baseball HOF Ballot</td>\n",
              "    </tr>\n",
              "  </tbody>\n",
              "</table>\n",
              "</div><br><label><b>dtype:</b> object</label>"
            ]
          },
          "metadata": {},
          "execution_count": 158
        }
      ]
    },
    {
      "cell_type": "code",
      "source": [
        "#sklearn method\n",
        "sample_vectorized = vectorizer.transform(sample)"
      ],
      "metadata": {
        "id": "aSf63gaPW_Hl"
      },
      "id": "aSf63gaPW_Hl",
      "execution_count": 159,
      "outputs": []
    },
    {
      "cell_type": "code",
      "source": [
        "#sklearn method\n",
        "sample_topic_distr = lda.transform(sample_vectorized)\n",
        "sample_topic_distr.argmax(axis=1)"
      ],
      "metadata": {
        "colab": {
          "base_uri": "https://localhost:8080/"
        },
        "id": "-w4w3CQgXdlS",
        "outputId": "bb55b823-8b18-4a1e-b216-2cc079c37e41"
      },
      "id": "-w4w3CQgXdlS",
      "execution_count": 160,
      "outputs": [
        {
          "output_type": "execute_result",
          "data": {
            "text/plain": [
              "array([0, 1, 1])"
            ]
          },
          "metadata": {},
          "execution_count": 160
        }
      ]
    },
    {
      "cell_type": "markdown",
      "source": [
        "##Visualizations (gensim models) ##"
      ],
      "metadata": {
        "id": "JkVxAFCPRQIf"
      },
      "id": "JkVxAFCPRQIf"
    },
    {
      "cell_type": "markdown",
      "source": [
        "### ***CNN Headlines Data Topics***"
      ],
      "metadata": {
        "id": "r0i6d3OnWLI3"
      },
      "id": "r0i6d3OnWLI3"
    },
    {
      "cell_type": "code",
      "source": [
        "# CNN data\n",
        "pyLDAvis.enable_notebook()\n",
        "panel = pyLDAvis.gensim.prepare(lda_model8, bow_corpus8, dictionary8, mds='mmds')\n",
        "panel"
      ],
      "metadata": {
        "colab": {
          "base_uri": "https://localhost:8080/",
          "height": 861
        },
        "id": "OBtAJlc5KEWc",
        "outputId": "a65f0547-00f9-41d7-a498-899f2e428b91"
      },
      "id": "OBtAJlc5KEWc",
      "execution_count": 144,
      "outputs": [
        {
          "output_type": "execute_result",
          "data": {
            "text/plain": [
              "PreparedData(topic_coordinates=              x         y  topics  cluster       Freq\n",
              "topic                                                \n",
              "0     -0.169880 -0.120620       1        1  33.102500\n",
              "2     -0.109759  0.167946       2        1  27.368709\n",
              "1      0.081348 -0.111394       3        1  25.095101\n",
              "3      0.198290  0.064068       4        1  14.433690, topic_info=      Term       Freq      Total Category  logprob  loglift\n",
              "8    shoot  11.000000  11.000000  Default  30.0000  30.0000\n",
              "36  tropic   4.000000   4.000000  Default  29.0000  29.0000\n",
              "19   accid   3.000000   3.000000  Default  28.0000  28.0000\n",
              "39   storm   3.000000   3.000000  Default  27.0000  27.0000\n",
              "38  hilari   3.000000   3.000000  Default  26.0000  26.0000\n",
              "..     ...        ...        ...      ...      ...      ...\n",
              "8    shoot   0.232136  11.875357   Topic4  -4.9320  -1.9993\n",
              "12    hous   0.227845   6.855373   Topic4  -4.9507  -1.4685\n",
              "9      say   0.224779   4.248441   Topic4  -4.9642  -1.0036\n",
              "22   death   0.224665   4.781434   Topic4  -4.9647  -1.1223\n",
              "21   trump   0.224547   9.378426   Topic4  -4.9652  -1.7965\n",
              "\n",
              "[181 rows x 6 columns], token_table=      Topic      Freq    Term\n",
              "term                         \n",
              "19        4  0.848649   accid\n",
              "23        1  0.299335  arrest\n",
              "23        2  0.299335  arrest\n",
              "23        3  0.299335  arrest\n",
              "15        2  0.305865  attack\n",
              "...     ...       ...     ...\n",
              "30        3  0.731073   video\n",
              "30        4  0.243691   video\n",
              "14        1  0.972905    vote\n",
              "18        1  0.876862   white\n",
              "25        2  0.884439    year\n",
              "\n",
              "[63 rows x 3 columns], R=30, lambda_step=0.01, plot_opts={'xlab': 'PC1', 'ylab': 'PC2'}, topic_order=[1, 3, 2, 4])"
            ],
            "text/html": [
              "\n",
              "<link rel=\"stylesheet\" type=\"text/css\" href=\"https://cdn.jsdelivr.net/gh/bmabey/pyLDAvis@3.4.0/pyLDAvis/js/ldavis.v1.0.0.css\">\n",
              "\n",
              "\n",
              "<div id=\"ldavis_el1611405022651471523884479915\" style=\"background-color:white;\"></div>\n",
              "<script type=\"text/javascript\">\n",
              "\n",
              "var ldavis_el1611405022651471523884479915_data = {\"mdsDat\": {\"x\": [-0.16987998631819287, -0.10975867375010842, 0.08134839998243544, 0.1982902600858658], \"y\": [-0.1206198484554283, 0.16794615952872785, -0.11139435838518548, 0.06406804731188592], \"topics\": [1, 2, 3, 4], \"cluster\": [1, 1, 1, 1], \"Freq\": [33.10250033061459, 27.368708750851788, 25.09510137084136, 14.43368954769226]}, \"tinfo\": {\"Term\": [\"shoot\", \"tropic\", \"accid\", \"storm\", \"hilari\", \"titan\", \"hous\", \"death\", \"idalia\", \"live\", \"submers\", \"forecast\", \"chines\", \"mass\", \"indict\", \"vote\", \"video\", \"stori\", \"trump\", \"news\", \"balloon\", \"hurrican\", \"charg\", \"main\", \"polic\", \"year\", \"home\", \"school\", \"investig\", \"exclus\", \"hous\", \"vote\", \"exclus\", \"damar\", \"hamlin\", \"speaker\", \"mccarthi\", \"white\", \"trump\", \"stori\", \"live\", \"new\", \"arrest\", \"say\", \"charg\", \"balloon\", \"news\", \"hurrican\", \"attack\", \"suspect\", \"investig\", \"home\", \"year\", \"main\", \"polic\", \"school\", \"forecast\", \"go\", \"hilari\", \"storm\", \"chines\", \"shoot\", \"indict\", \"mass\", \"miss\", \"titan\", \"tropic\", \"death\", \"video\", \"shoot\", \"mass\", \"indict\", \"year\", \"main\", \"polic\", \"home\", \"school\", \"investig\", \"say\", \"new\", \"miss\", \"go\", \"attack\", \"suspect\", \"arrest\", \"trump\", \"live\", \"stori\", \"charg\", \"news\", \"hurrican\", \"balloon\", \"white\", \"mccarthi\", \"forecast\", \"hamlin\", \"damar\", \"speaker\", \"hilari\", \"accid\", \"chines\", \"death\", \"tropic\", \"idalia\", \"hous\", \"video\", \"death\", \"chines\", \"news\", \"charg\", \"hurrican\", \"video\", \"titan\", \"suspect\", \"attack\", \"balloon\", \"miss\", \"idalia\", \"submers\", \"go\", \"forecast\", \"arrest\", \"live\", \"stori\", \"investig\", \"hilari\", \"white\", \"year\", \"exclus\", \"home\", \"main\", \"polic\", \"school\", \"mccarthi\", \"hamlin\", \"damar\", \"trump\", \"say\", \"storm\", \"indict\", \"new\", \"hous\", \"tropic\", \"shoot\", \"tropic\", \"accid\", \"storm\", \"hilari\", \"forecast\", \"submers\", \"idalia\", \"titan\", \"balloon\", \"video\", \"go\", \"hurrican\", \"news\", \"charg\", \"school\", \"mccarthi\", \"attack\", \"suspect\", \"home\", \"polic\", \"arrest\", \"main\", \"speaker\", \"investig\", \"year\", \"white\", \"hamlin\", \"damar\", \"chines\", \"mass\", \"stori\", \"live\", \"shoot\", \"hous\", \"say\", \"death\", \"trump\"], \"Freq\": [11.0, 4.0, 3.0, 3.0, 3.0, 5.0, 6.0, 4.0, 5.0, 25.0, 4.0, 3.0, 3.0, 4.0, 4.0, 5.0, 4.0, 26.0, 9.0, 3.0, 3.0, 3.0, 3.0, 3.0, 3.0, 3.0, 3.0, 3.0, 3.0, 4.0, 6.204203162395487, 4.503003525070176, 3.590856523904237, 2.789484358904906, 2.789440084609872, 2.7862223608446905, 2.7738530577972704, 2.769482827383095, 5.866922132816811, 15.093866165046059, 14.47867016062141, 1.9190635433458427, 1.0685845165098566, 1.0453519926841346, 0.22105834109403216, 0.22662402903580767, 0.21500422655432205, 0.21478555347368575, 0.21496072568447291, 0.21489933291201102, 0.21480542190732685, 0.21485363207719124, 0.21480555940513751, 0.21474824000531656, 0.21472328415268085, 0.21471283431907032, 0.21478710032405574, 0.2588245210048517, 0.21557104409156205, 0.21549786088183562, 0.22680408241887345, 0.24684315084299624, 0.2198563696076517, 0.21880999408126497, 0.21836073717214355, 0.21835212637175064, 0.21535352255509008, 0.21501077488755496, 0.21491285925913517, 11.191832495076115, 3.597262056083932, 3.5849430882821585, 2.7529491690422394, 2.75312946769247, 2.7519960644498465, 2.751273960397976, 2.745941849496068, 2.7325067580196625, 2.7572354113551665, 1.9106502611225449, 1.893181982059198, 1.4364260456688671, 1.0643078206113874, 1.0641617400530352, 1.0644985779475082, 2.8517894347693447, 3.6089864703291434, 3.595586620076932, 0.22842095396257928, 0.21244946063584275, 0.2122654957614821, 0.21228452318051258, 0.2161188394236662, 0.21563783934393232, 0.21225472445182927, 0.2122222826313314, 0.21218516566455942, 0.21215002391156282, 0.2121905797397279, 0.212411178435045, 0.21594718055743128, 0.21829934754015176, 0.21552465533155146, 0.21572943810649442, 0.2137047018850144, 0.21244860802558, 4.1234586744794495, 3.3283248970722017, 2.5555175388477314, 2.5353571746755903, 2.534346487987278, 2.555216917930952, 3.3402135995834183, 1.7657903514930184, 1.7655508137444889, 1.760679170482839, 2.5672817817977016, 2.5065305057111353, 1.7633376433890595, 1.361453237912551, 1.037840137111525, 0.9831752879773669, 7.445552879915185, 6.873375376794735, 0.21885833378339847, 0.22472380331959874, 0.21122169993198656, 0.19991533317985535, 0.24887054782309237, 0.19689484347614025, 0.19679321192487123, 0.19679588301051357, 0.1967791398639263, 0.1968807714151953, 0.19680075611310005, 0.19679761595875955, 0.4351678264390864, 0.22107426643227268, 0.19982326541815448, 0.2104502252500523, 0.2059100311424, 0.20962071634640625, 0.20074196252288212, 0.20454471548858927, 3.798617274558341, 2.910767747115815, 2.9071564063611364, 2.878675280563365, 1.9534193949346446, 2.0230649850987397, 2.0688848151865713, 2.015338936550132, 1.117844378639951, 1.120976453540441, 1.141904555715198, 0.24914899823588155, 0.22461956749029002, 0.22438003948128993, 0.23538088151506287, 0.23675060222280847, 0.22460164148448536, 0.22454703911061719, 0.229468836838132, 0.2289575260003228, 0.22448152525495488, 0.22773690889269813, 0.2276790840345089, 0.22432353359342744, 0.22431103335192154, 0.22446628215470127, 0.22418361782069635, 0.2241804253129736, 0.22444185122705781, 0.22785960310968548, 1.2915422189120944, 0.37191986538516986, 0.2321364693123104, 0.22784464478711605, 0.22477896805193923, 0.22466478718887917, 0.22454688922762553], \"Total\": [11.0, 4.0, 3.0, 3.0, 3.0, 5.0, 6.0, 4.0, 5.0, 25.0, 4.0, 3.0, 3.0, 4.0, 4.0, 5.0, 4.0, 26.0, 9.0, 3.0, 3.0, 3.0, 3.0, 3.0, 3.0, 3.0, 3.0, 3.0, 3.0, 4.0, 6.855373225414024, 5.139248764092284, 4.276342304284458, 3.422647565841199, 3.422646741175, 3.422799493764377, 3.4231222707792064, 3.4212896488934494, 9.378426283252866, 26.854370380829824, 25.90512937625091, 4.259938316271518, 3.3407399076896866, 4.248440638523514, 3.2092165092134914, 3.3174321013391106, 3.207590793528186, 3.2105465354583274, 3.2694210015248344, 3.269398463568682, 3.3904940473038154, 3.3924912727894396, 3.391981094979154, 3.3924078285153563, 3.3924727576133633, 3.3928147051941275, 3.418301356822054, 4.198608360301468, 3.5311607077142533, 3.5346252118944665, 3.995518011275564, 11.875356830720012, 4.2395027567389025, 4.2407538692809235, 4.903283004256476, 5.786279519743152, 4.4302374149678645, 4.781433584096035, 4.103554838756108, 11.875356830720012, 4.2407538692809235, 4.2395027567389025, 3.391981094979154, 3.3924078285153563, 3.3924727576133633, 3.3924912727894396, 3.3928147051941275, 3.3904940473038154, 4.248440638523514, 4.259938316271518, 4.903283004256476, 4.198608360301468, 3.2694210015248344, 3.269398463568682, 3.3407399076896866, 9.378426283252866, 25.90512937625091, 26.854370380829824, 3.2092165092134914, 3.207590793528186, 3.2105465354583274, 3.3174321013391106, 3.4212896488934494, 3.4231222707792064, 3.418301356822054, 3.422646741175, 3.422647565841199, 3.422799493764377, 3.5311607077142533, 3.535031653275234, 3.995518011275564, 4.781433584096035, 4.4302374149678645, 5.006055504234498, 6.855373225414024, 4.103554838756108, 4.781433584096035, 3.995518011275564, 3.207590793528186, 3.2092165092134914, 3.2105465354583274, 4.103554838756108, 5.786279519743152, 3.269398463568682, 3.2694210015248344, 3.3174321013391106, 4.903283004256476, 5.006055504234498, 4.213503589767811, 4.198608360301468, 3.418301356822054, 3.3407399076896866, 25.90512937625091, 26.854370380829824, 3.3904940473038154, 3.5311607077142533, 3.4212896488934494, 3.391981094979154, 4.276342304284458, 3.3924912727894396, 3.3924078285153563, 3.3924727576133633, 3.3928147051941275, 3.4231222707792064, 3.422646741175, 3.422647565841199, 9.378426283252866, 4.248440638523514, 3.5346252118944665, 4.2395027567389025, 4.259938316271518, 6.855373225414024, 4.4302374149678645, 11.875356830720012, 4.4302374149678645, 3.535031653275234, 3.5346252118944665, 3.5311607077142533, 3.418301356822054, 4.213503589767811, 5.006055504234498, 5.786279519743152, 3.3174321013391106, 4.103554838756108, 4.198608360301468, 3.2105465354583274, 3.207590793528186, 3.2092165092134914, 3.3928147051941275, 3.4231222707792064, 3.2694210015248344, 3.269398463568682, 3.3924912727894396, 3.3924727576133633, 3.3407399076896866, 3.3924078285153563, 3.422799493764377, 3.3904940473038154, 3.391981094979154, 3.4212896488934494, 3.422646741175, 3.422647565841199, 3.995518011275564, 4.2407538692809235, 26.854370380829824, 25.90512937625091, 11.875356830720012, 6.855373225414024, 4.248440638523514, 4.781433584096035, 9.378426283252866], \"Category\": [\"Default\", \"Default\", \"Default\", \"Default\", \"Default\", \"Default\", \"Default\", \"Default\", \"Default\", \"Default\", \"Default\", \"Default\", \"Default\", \"Default\", \"Default\", \"Default\", \"Default\", \"Default\", \"Default\", \"Default\", \"Default\", \"Default\", \"Default\", \"Default\", \"Default\", \"Default\", \"Default\", \"Default\", \"Default\", \"Default\", \"Topic1\", \"Topic1\", \"Topic1\", \"Topic1\", \"Topic1\", \"Topic1\", \"Topic1\", \"Topic1\", \"Topic1\", \"Topic1\", \"Topic1\", \"Topic1\", \"Topic1\", \"Topic1\", \"Topic1\", \"Topic1\", \"Topic1\", \"Topic1\", \"Topic1\", \"Topic1\", \"Topic1\", \"Topic1\", \"Topic1\", \"Topic1\", \"Topic1\", \"Topic1\", \"Topic1\", \"Topic1\", \"Topic1\", \"Topic1\", \"Topic1\", \"Topic1\", \"Topic1\", \"Topic1\", \"Topic1\", \"Topic1\", \"Topic1\", \"Topic1\", \"Topic1\", \"Topic2\", \"Topic2\", \"Topic2\", \"Topic2\", \"Topic2\", \"Topic2\", \"Topic2\", \"Topic2\", \"Topic2\", \"Topic2\", \"Topic2\", \"Topic2\", \"Topic2\", \"Topic2\", \"Topic2\", \"Topic2\", \"Topic2\", \"Topic2\", \"Topic2\", \"Topic2\", \"Topic2\", \"Topic2\", \"Topic2\", \"Topic2\", \"Topic2\", \"Topic2\", \"Topic2\", \"Topic2\", \"Topic2\", \"Topic2\", \"Topic2\", \"Topic2\", \"Topic2\", \"Topic2\", \"Topic2\", \"Topic2\", \"Topic2\", \"Topic3\", \"Topic3\", \"Topic3\", \"Topic3\", \"Topic3\", \"Topic3\", \"Topic3\", \"Topic3\", \"Topic3\", \"Topic3\", \"Topic3\", \"Topic3\", \"Topic3\", \"Topic3\", \"Topic3\", \"Topic3\", \"Topic3\", \"Topic3\", \"Topic3\", \"Topic3\", \"Topic3\", \"Topic3\", \"Topic3\", \"Topic3\", \"Topic3\", \"Topic3\", \"Topic3\", \"Topic3\", \"Topic3\", \"Topic3\", \"Topic3\", \"Topic3\", \"Topic3\", \"Topic3\", \"Topic3\", \"Topic3\", \"Topic3\", \"Topic3\", \"Topic4\", \"Topic4\", \"Topic4\", \"Topic4\", \"Topic4\", \"Topic4\", \"Topic4\", \"Topic4\", \"Topic4\", \"Topic4\", \"Topic4\", \"Topic4\", \"Topic4\", \"Topic4\", \"Topic4\", \"Topic4\", \"Topic4\", \"Topic4\", \"Topic4\", \"Topic4\", \"Topic4\", \"Topic4\", \"Topic4\", \"Topic4\", \"Topic4\", \"Topic4\", \"Topic4\", \"Topic4\", \"Topic4\", \"Topic4\", \"Topic4\", \"Topic4\", \"Topic4\", \"Topic4\", \"Topic4\", \"Topic4\", \"Topic4\"], \"logprob\": [30.0, 29.0, 28.0, 27.0, 26.0, 25.0, 24.0, 23.0, 22.0, 21.0, 20.0, 19.0, 18.0, 17.0, 16.0, 15.0, 14.0, 13.0, 12.0, 11.0, 10.0, 9.0, 8.0, 7.0, 6.0, 5.0, 4.0, 3.0, 2.0, 1.0, -2.4764, -2.7969, -3.0232, -3.2758, -3.2758, -3.2769, -3.2814, -3.2829, -2.5323, -1.5873, -1.6289, -3.6498, -4.2353, -4.2573, -5.8109, -5.7861, -5.8387, -5.8397, -5.8389, -5.8392, -5.8396, -5.8394, -5.8396, -5.8399, -5.84, -5.8401, -5.8397, -5.6532, -5.8361, -5.8364, -5.7853, -5.7006, -5.8164, -5.8212, -5.8232, -5.8233, -5.8371, -5.8387, -5.8391, -1.6962, -2.8312, -2.8347, -3.0987, -3.0987, -3.0991, -3.0993, -3.1013, -3.1062, -3.0972, -3.464, -3.4731, -3.7492, -4.0491, -4.0492, -4.0489, -3.0635, -2.828, -2.8317, -5.588, -5.6605, -5.6613, -5.6612, -5.6433, -5.6456, -5.6614, -5.6615, -5.6617, -5.6619, -5.6617, -5.6606, -5.6441, -5.6333, -5.6461, -5.6451, -5.6546, -5.6605, -2.608, -2.8222, -3.0864, -3.0943, -3.0947, -3.0865, -2.8186, -3.4561, -3.4562, -3.459, -3.0818, -3.1058, -3.4575, -3.7161, -3.9875, -4.0416, -2.0171, -2.097, -5.544, -5.5176, -5.5795, -5.6345, -5.4155, -5.6498, -5.6503, -5.6503, -5.6503, -5.6498, -5.6502, -5.6503, -4.8567, -5.5339, -5.635, -5.5832, -5.605, -5.5871, -5.6304, -5.6116, -2.1369, -2.4031, -2.4044, -2.4142, -2.802, -2.767, -2.7446, -2.7708, -3.3602, -3.3574, -3.3389, -4.8613, -4.9649, -4.966, -4.9181, -4.9123, -4.965, -4.9652, -4.9436, -4.9458, -4.9655, -4.9511, -4.9514, -4.9662, -4.9663, -4.9656, -4.9669, -4.9669, -4.9657, -4.9506, -3.2157, -4.4606, -4.932, -4.9507, -4.9642, -4.9647, -4.9652], \"loglift\": [30.0, 29.0, 28.0, 27.0, 26.0, 25.0, 24.0, 23.0, 22.0, 21.0, 20.0, 19.0, 18.0, 17.0, 16.0, 15.0, 14.0, 13.0, 12.0, 11.0, 10.0, 9.0, 8.0, 7.0, 6.0, 5.0, 4.0, 3.0, 2.0, 1.0, 1.0058, 0.9734, 0.9309, 0.901, 0.901, 0.8998, 0.8952, 0.8942, 0.6365, 0.5294, 0.5238, 0.3081, -0.0343, -0.2966, -1.5698, -1.5781, -1.5971, -1.599, -1.6164, -1.6166, -1.6534, -1.6538, -1.6539, -1.6543, -1.6544, -1.6546, -1.6617, -1.6808, -1.6905, -1.6919, -1.7633, -2.7679, -1.8537, -1.8587, -2.006, -2.1716, -1.9184, -1.9962, -1.8438, 1.2365, 1.1312, 1.1281, 1.087, 1.087, 1.0865, 1.0863, 1.0842, 1.08, 0.8634, 0.494, 0.3441, 0.2232, 0.1735, 0.1734, 0.1521, 0.1053, -0.6752, -0.715, -1.3468, -1.4188, -1.4206, -1.4532, -1.4662, -1.4689, -1.4833, -1.4848, -1.4849, -1.4852, -1.5161, -1.5162, -1.6221, -1.7909, -1.7274, -1.8486, -2.1724, -1.6651, 1.2344, 1.1998, 1.1552, 1.1468, 1.146, 0.9088, 0.833, 0.7665, 0.7663, 0.749, 0.7354, 0.6907, 0.5114, 0.2563, 0.1905, 0.1593, 0.1357, 0.0197, -1.3578, -1.372, -1.4024, -1.4488, -1.4614, -1.4642, -1.4646, -1.4646, -1.4648, -1.4732, -1.4735, -1.4735, -1.6879, -1.5733, -1.4904, -1.6205, -1.6471, -2.105, -1.7117, -2.6789, 1.7818, 1.7413, 1.7402, 1.7313, 1.376, 1.2019, 1.052, 0.8809, 0.8478, 0.638, 0.6335, -0.6205, -0.7233, -0.7248, -0.7326, -0.7357, -0.7424, -0.7427, -0.7579, -0.7602, -0.7645, -0.7655, -0.7747, -0.78, -0.7805, -0.7884, -0.7901, -0.7901, -0.9437, -0.9882, -1.099, -2.3079, -1.9993, -1.4685, -1.0036, -1.1223, -1.7965]}, \"token.table\": {\"Topic\": [4, 1, 2, 3, 2, 3, 3, 4, 3, 3, 1, 3, 1, 3, 4, 2, 3, 4, 1, 4, 2, 1, 3, 3, 4, 2, 2, 1, 2, 3, 2, 2, 1, 2, 3, 1, 2, 3, 2, 1, 2, 2, 2, 1, 1, 2, 3, 4, 4, 3, 4, 2, 3, 3, 4, 4, 1, 2, 3, 4, 1, 1, 2], \"Freq\": [0.8486486951879135, 0.299334886172434, 0.299334886172434, 0.299334886172434, 0.305864555079816, 0.611729110159632, 0.6028759410607628, 0.3014379705303814, 0.9348076053414153, 0.7508413155775648, 0.876514435766242, 0.8365691857155073, 0.9353788156744162, 0.2925429608493283, 0.5850859216986566, 0.2381741553832847, 0.2381741553832847, 0.2381741553832847, 0.8765146469571369, 0.8495790048428361, 0.8843058857844259, 0.8752258706728014, 0.9344203445946095, 0.599274218486466, 0.399516145657644, 0.9435068755744525, 0.8848268005029108, 0.5404335101616904, 0.15440957433191155, 0.2702167550808452, 0.8843276373739862, 0.943228520988947, 0.8763928842416456, 0.40788997866609494, 0.6118349679991424, 0.46949036617752865, 0.46949036617752865, 0.9352813975064922, 0.8843107120808623, 0.23538048076565243, 0.7061414422969573, 0.8842215861087964, 0.926287955537001, 0.8764755298887273, 0.5585682995832907, 0.14895154655554418, 0.2606652064722023, 0.037237886638886046, 0.848746280059514, 0.4746643636086737, 0.4746643636086737, 0.3058666635906041, 0.6117333271812082, 0.518467866919289, 0.34564524461285934, 0.9028861492807863, 0.639766184515866, 0.319883092257933, 0.7310734516489066, 0.2436911505496355, 0.9729048406714208, 0.876862326161216, 0.8844388916083972], \"Term\": [\"accid\", \"arrest\", \"arrest\", \"arrest\", \"attack\", \"attack\", \"balloon\", \"balloon\", \"charg\", \"chines\", \"damar\", \"death\", \"exclus\", \"forecast\", \"forecast\", \"go\", \"go\", \"go\", \"hamlin\", \"hilari\", \"home\", \"hous\", \"hurrican\", \"idalia\", \"idalia\", \"indict\", \"investig\", \"live\", \"live\", \"live\", \"main\", \"mass\", \"mccarthi\", \"miss\", \"miss\", \"new\", \"new\", \"news\", \"polic\", \"say\", \"say\", \"school\", \"shoot\", \"speaker\", \"stori\", \"stori\", \"stori\", \"stori\", \"storm\", \"submers\", \"submers\", \"suspect\", \"suspect\", \"titan\", \"titan\", \"tropic\", \"trump\", \"trump\", \"video\", \"video\", \"vote\", \"white\", \"year\"]}, \"R\": 30, \"lambda.step\": 0.01, \"plot.opts\": {\"xlab\": \"PC1\", \"ylab\": \"PC2\"}, \"topic.order\": [1, 3, 2, 4]};\n",
              "\n",
              "function LDAvis_load_lib(url, callback){\n",
              "  var s = document.createElement('script');\n",
              "  s.src = url;\n",
              "  s.async = true;\n",
              "  s.onreadystatechange = s.onload = callback;\n",
              "  s.onerror = function(){console.warn(\"failed to load library \" + url);};\n",
              "  document.getElementsByTagName(\"head\")[0].appendChild(s);\n",
              "}\n",
              "\n",
              "if(typeof(LDAvis) !== \"undefined\"){\n",
              "   // already loaded: just create the visualization\n",
              "   !function(LDAvis){\n",
              "       new LDAvis(\"#\" + \"ldavis_el1611405022651471523884479915\", ldavis_el1611405022651471523884479915_data);\n",
              "   }(LDAvis);\n",
              "}else if(typeof define === \"function\" && define.amd){\n",
              "   // require.js is available: use it to load d3/LDAvis\n",
              "   require.config({paths: {d3: \"https://d3js.org/d3.v5\"}});\n",
              "   require([\"d3\"], function(d3){\n",
              "      window.d3 = d3;\n",
              "      LDAvis_load_lib(\"https://cdn.jsdelivr.net/gh/bmabey/pyLDAvis@3.4.0/pyLDAvis/js/ldavis.v3.0.0.js\", function(){\n",
              "        new LDAvis(\"#\" + \"ldavis_el1611405022651471523884479915\", ldavis_el1611405022651471523884479915_data);\n",
              "      });\n",
              "    });\n",
              "}else{\n",
              "    // require.js not available: dynamically load d3 & LDAvis\n",
              "    LDAvis_load_lib(\"https://d3js.org/d3.v5.js\", function(){\n",
              "         LDAvis_load_lib(\"https://cdn.jsdelivr.net/gh/bmabey/pyLDAvis@3.4.0/pyLDAvis/js/ldavis.v3.0.0.js\", function(){\n",
              "                 new LDAvis(\"#\" + \"ldavis_el1611405022651471523884479915\", ldavis_el1611405022651471523884479915_data);\n",
              "            })\n",
              "         });\n",
              "}\n",
              "</script>"
            ]
          },
          "metadata": {},
          "execution_count": 144
        }
      ]
    },
    {
      "cell_type": "markdown",
      "source": [
        "#### Classification of the topics\n",
        "* 1: Trump/ Voting/ Exclusives\n",
        "* 2: Mass Shooting/ Investing/ Trump\n",
        "* 3: Live Stories/ Deaths/ Missing People\n",
        "* 4: Weather Forecast/ Natural disaster warnings"
      ],
      "metadata": {
        "id": "9Mqz1BIRXsIM"
      },
      "id": "9Mqz1BIRXsIM"
    },
    {
      "cell_type": "markdown",
      "source": [
        "### CNN Headlines Data Sample"
      ],
      "metadata": {
        "id": "iaWnm4odk4A-"
      },
      "id": "iaWnm4odk4A-"
    },
    {
      "cell_type": "code",
      "source": [
        "# Processed Text of sample 24\n",
        "sample = processed_headlines8[24]\n",
        "sample"
      ],
      "metadata": {
        "colab": {
          "base_uri": "https://localhost:8080/"
        },
        "id": "nFW5KzDOk6QJ",
        "outputId": "9e83d29e-9818-4508-983a-cd70d6944153"
      },
      "id": "nFW5KzDOk6QJ",
      "execution_count": 164,
      "outputs": [
        {
          "output_type": "execute_result",
          "data": {
            "text/plain": [
              "['mccarthi', 'kick', 'pelosi', 'offic', 'sourc']"
            ]
          },
          "metadata": {},
          "execution_count": 164
        }
      ]
    },
    {
      "cell_type": "code",
      "source": [
        "df8.iloc[24]"
      ],
      "metadata": {
        "colab": {
          "base_uri": "https://localhost:8080/",
          "height": 115
        },
        "id": "b4pFaM5UlPb6",
        "outputId": "de216686-7e81-4393-c2eb-6a7567600322"
      },
      "id": "b4pFaM5UlPb6",
      "execution_count": 165,
      "outputs": [
        {
          "output_type": "execute_result",
          "data": {
            "text/plain": [
              "Headline    McCarthy behind move to kick Pelosi out of her...\n",
              "Name: 24, dtype: object"
            ],
            "text/html": [
              "<div>\n",
              "<style scoped>\n",
              "    .dataframe tbody tr th:only-of-type {\n",
              "        vertical-align: middle;\n",
              "    }\n",
              "\n",
              "    .dataframe tbody tr th {\n",
              "        vertical-align: top;\n",
              "    }\n",
              "\n",
              "    .dataframe thead th {\n",
              "        text-align: right;\n",
              "    }\n",
              "</style>\n",
              "<table border=\"1\" class=\"dataframe\">\n",
              "  <thead>\n",
              "    <tr style=\"text-align: right;\">\n",
              "      <th></th>\n",
              "      <th>24</th>\n",
              "    </tr>\n",
              "  </thead>\n",
              "  <tbody>\n",
              "    <tr>\n",
              "      <th>Headline</th>\n",
              "      <td>McCarthy behind move to kick Pelosi out of her...</td>\n",
              "    </tr>\n",
              "  </tbody>\n",
              "</table>\n",
              "</div><br><label><b>dtype:</b> object</label>"
            ]
          },
          "metadata": {},
          "execution_count": 165
        }
      ]
    },
    {
      "cell_type": "code",
      "source": [
        "for index, score in sorted(lda_model8[bow_corpus8[24]], key=lambda tup: -1*tup[1]):\n",
        "\n",
        "    print(\"\\nScore: {}\\t \\nTopic: {}\".format(score, lda_model8.print_topic(index, 10)))"
      ],
      "metadata": {
        "colab": {
          "base_uri": "https://localhost:8080/"
        },
        "id": "zwe6U7UplgoH",
        "outputId": "ca1402d9-fd1a-4bb0-a8ea-a0b9ab6e8a16"
      },
      "id": "zwe6U7UplgoH",
      "execution_count": 166,
      "outputs": [
        {
          "output_type": "stream",
          "name": "stdout",
          "text": [
            "\n",
            "Score: 0.6247275471687317\t \n",
            "Topic: 0.204*\"stori\" + 0.196*\"live\" + 0.084*\"hous\" + 0.079*\"trump\" + 0.061*\"vote\" + 0.049*\"exclus\" + 0.038*\"damar\" + 0.038*\"hamlin\" + 0.038*\"speaker\" + 0.038*\"mccarthi\"\n",
            "\n",
            "Score: 0.12514963746070862\t \n",
            "Topic: 0.118*\"tropic\" + 0.090*\"accid\" + 0.090*\"storm\" + 0.089*\"hilari\" + 0.064*\"idalia\" + 0.063*\"submers\" + 0.063*\"titan\" + 0.061*\"forecast\" + 0.040*\"stori\" + 0.035*\"go\"\n",
            "\n",
            "Score: 0.12506312131881714\t \n",
            "Topic: 0.183*\"shoot\" + 0.059*\"live\" + 0.059*\"mass\" + 0.059*\"stori\" + 0.059*\"indict\" + 0.047*\"trump\" + 0.045*\"say\" + 0.045*\"main\" + 0.045*\"year\" + 0.045*\"polic\"\n",
            "\n",
            "Score: 0.12505973875522614\t \n",
            "Topic: 0.133*\"live\" + 0.123*\"stori\" + 0.074*\"death\" + 0.060*\"titan\" + 0.059*\"chines\" + 0.046*\"miss\" + 0.046*\"news\" + 0.046*\"video\" + 0.045*\"charg\" + 0.045*\"hurrican\"\n"
          ]
        }
      ]
    },
    {
      "cell_type": "markdown",
      "source": [
        "###***Sports Headlines Data Topics***"
      ],
      "metadata": {
        "id": "-32VnFEvW4NW"
      },
      "id": "-32VnFEvW4NW"
    },
    {
      "cell_type": "code",
      "source": [
        "# Sports data\n",
        "pyLDAvis.enable_notebook()\n",
        "panel2 = pyLDAvis.gensim.prepare(lda_model_tfidf, corpus_tfidf, dictionary, mds='mmds')\n",
        "panel2"
      ],
      "metadata": {
        "colab": {
          "base_uri": "https://localhost:8080/",
          "height": 861
        },
        "id": "S6ASc1xmUPpe",
        "outputId": "7ea4e878-7f2f-418a-e06e-27bfbbb73d18"
      },
      "id": "S6ASc1xmUPpe",
      "execution_count": 146,
      "outputs": [
        {
          "output_type": "execute_result",
          "data": {
            "text/plain": [
              "PreparedData(topic_coordinates=              x         y  topics  cluster       Freq\n",
              "topic                                                \n",
              "3     -0.100973  0.229087       1        1  22.595791\n",
              "0     -0.052718 -0.233664       2        1  20.836519\n",
              "2     -0.200223 -0.013016       3        1  19.498274\n",
              "4      0.164517 -0.105276       4        1  18.681223\n",
              "1      0.189397  0.122870       5        1  18.388194, topic_info=        Term      Freq     Total Category  logprob  loglift\n",
              "15      play  8.000000  8.000000  Default  30.0000  30.0000\n",
              "30     score  9.000000  9.000000  Default  29.0000  29.0000\n",
              "11      team  9.000000  9.000000  Default  28.0000  28.0000\n",
              "16     trade  6.000000  6.000000  Default  27.0000  27.0000\n",
              "9        win  8.000000  8.000000  Default  26.0000  26.0000\n",
              "..       ...       ...       ...      ...      ...      ...\n",
              "20      list  0.741308  2.280904   Topic5  -4.6534   0.5696\n",
              "56   recruit  0.778776  2.569823   Topic5  -4.6040   0.4996\n",
              "110    rooki  0.651509  2.206756   Topic5  -4.7825   0.4735\n",
              "58      home  0.723530  2.559736   Topic5  -4.6776   0.4299\n",
              "78      bill  0.727846  2.764574   Topic5  -4.6717   0.3589\n",
              "\n",
              "[191 rows x 6 columns], token_table=      Topic      Freq     Term\n",
              "term                          \n",
              "69        3  0.775877     adam\n",
              "19        5  0.780894    allen\n",
              "76        4  0.930120   athlet\n",
              "105       1  0.945735    award\n",
              "51        2  0.752029  basebal\n",
              "...     ...       ...      ...\n",
              "72        4  0.413527    women\n",
              "65        4  0.652647    world\n",
              "104       5  0.655998    yanke\n",
              "50        4  0.334276     year\n",
              "50        5  0.668553     year\n",
              "\n",
              "[177 rows x 3 columns], R=30, lambda_step=0.01, plot_opts={'xlab': 'PC1', 'ylab': 'PC2'}, topic_order=[4, 1, 3, 5, 2])"
            ],
            "text/html": [
              "\n",
              "<link rel=\"stylesheet\" type=\"text/css\" href=\"https://cdn.jsdelivr.net/gh/bmabey/pyLDAvis@3.4.0/pyLDAvis/js/ldavis.v1.0.0.css\">\n",
              "\n",
              "\n",
              "<div id=\"ldavis_el1611405022675984806376043091\" style=\"background-color:white;\"></div>\n",
              "<script type=\"text/javascript\">\n",
              "\n",
              "var ldavis_el1611405022675984806376043091_data = {\"mdsDat\": {\"x\": [-0.10097292577774249, -0.05271846335758656, -0.20022308018831542, 0.16451705996728724, 0.1893974093563573], \"y\": [0.2290866943718268, -0.23366442891435626, -0.013015815418796229, -0.10527603493100744, 0.12286958489233323], \"topics\": [1, 2, 3, 4, 5], \"cluster\": [1, 1, 1, 1, 1], \"Freq\": [22.59579082592827, 20.836518756019956, 19.49827403140459, 18.681222802001212, 18.388193584645972]}, \"tinfo\": {\"Term\": [\"play\", \"score\", \"team\", \"trade\", \"win\", \"athlet\", \"go\", \"game\", \"footbal\", \"insid\", \"rank\", \"nfl\", \"coach\", \"winner\", \"nba\", \"tripl\", \"week\", \"mlb\", \"doubl\", \"new\", \"allen\", \"goal\", \"loss\", \"power\", \"bengal\", \"gianni\", \"cup\", \"soto\", \"call\", \"best\", \"score\", \"nfl\", \"winner\", \"week\", \"award\", \"hockey\", \"texan\", \"win\", \"pick\", \"randl\", \"er\", \"jack\", \"hugh\", \"game\", \"trick\", \"hat\", \"playoff\", \"fox\", \"life\", \"point\", \"cav\", \"updat\", \"skene\", \"recruit\", \"leagu\", \"roy\", \"net\", \"draft\", \"live\", \"home\", \"cowboy\", \"loss\", \"trade\", \"goal\", \"best\", \"red\", \"quot\", \"fin\", \"clutch\", \"contend\", \"like\", \"star\", \"link\", \"get\", \"jet\", \"stori\", \"think\", \"basebal\", \"rodger\", \"sox\", \"burrow\", \"nba\", \"loss\", \"harden\", \"look\", \"list\", \"big\", \"prospect\", \"draft\", \"live\", \"team\", \"buy\", \"soto\", \"nhl\", \"rank\", \"coach\", \"new\", \"power\", \"call\", \"mcdavid\", \"predict\", \"dunk\", \"mlb\", \"return\", \"adam\", \"connor\", \"post\", \"start\", \"team\", \"cowboy\", \"basemen\", \"deserv\", \"nation\", \"end\", \"net\", \"prospect\", \"latest\", \"player\", \"race\", \"earli\", \"point\", \"turn\", \"land\", \"spot\", \"nhl\", \"game\", \"updat\", \"skene\", \"athlet\", \"footbal\", \"tripl\", \"doubl\", \"bengal\", \"cup\", \"world\", \"giant\", \"chief\", \"dream\", \"sell\", \"bench\", \"put\", \"rest\", \"juan\", \"soto\", \"bill\", \"card\", \"women\", \"turn\", \"buy\", \"rooki\", \"latest\", \"fight\", \"season\", \"leagu\", \"look\", \"basemen\", \"nation\", \"life\", \"nba\", \"win\", \"play\", \"go\", \"insid\", \"allen\", \"gianni\", \"yanke\", \"mixon\", \"field\", \"manag\", \"josh\", \"gil\", \"run\", \"roki\", \"stat\", \"year\", \"sasaki\", \"night\", \"race\", \"season\", \"player\", \"nhl\", \"fight\", \"spot\", \"land\", \"earli\", \"roy\", \"list\", \"recruit\", \"rooki\", \"home\", \"bill\"], \"Freq\": [8.0, 9.0, 9.0, 6.0, 8.0, 5.0, 5.0, 8.0, 5.0, 4.0, 4.0, 5.0, 4.0, 5.0, 6.0, 4.0, 4.0, 4.0, 3.0, 4.0, 3.0, 4.0, 6.0, 3.0, 3.0, 3.0, 3.0, 4.0, 3.0, 3.0, 8.424015815548689, 4.588559266012821, 4.419098032464626, 4.327137664652738, 2.5409306776162923, 2.4698280658768557, 2.4289047015553047, 6.626862623997991, 2.0909387231321066, 2.4741368942259383, 1.9998857019841418, 2.092584802391911, 2.01518061821732, 6.038435492789621, 1.7174906115587611, 1.7174656844526095, 1.6172006731755189, 2.3649275031093366, 2.23863271733483, 2.2232272315807937, 1.5440595583051462, 1.4987411890675306, 1.7609923289101912, 1.3140599986553705, 1.2334737803551332, 0.9667535664809861, 1.175631053707724, 1.0309109522942794, 0.888129823637922, 0.886969822948076, 1.5983561370263362, 1.5535142316177348, 5.54830301830164, 3.8096324289552324, 3.025398900199379, 3.039268518280333, 2.6089322327803277, 2.473902370266918, 2.47034293836625, 2.6065802395160134, 2.360846938644678, 2.305818998224335, 2.1392317073422706, 2.120056846234683, 2.05212225042066, 2.0143719786353635, 1.965333616873462, 2.971709420448543, 1.6918338246303135, 1.6717482126230996, 1.666640323586254, 4.435987034769402, 3.9729896490876384, 1.7099192982817948, 1.0986352637584795, 1.0774263594707902, 1.1590530861253687, 1.196554120509253, 1.0941851939895901, 0.8556209163570946, 3.287944725069265, 0.6518350254082746, 1.3708810700640226, 1.5016328497505584, 4.147361348192063, 3.9066693222292876, 3.5035730801384686, 3.1250855115392606, 2.8651196003133323, 2.7345603302413815, 2.706479942136262, 2.4971605640032593, 3.7734249891114136, 2.3432520311622556, 1.9585211839597583, 1.6985568091626733, 2.023912210086847, 1.7895985148226552, 6.0429909684664285, 2.9875754373818464, 1.5717247618208119, 1.3556722915693902, 1.2335924186387441, 1.0496423230960497, 1.2452697387737455, 1.11560267293089, 1.0450605386435166, 1.7325261753798997, 0.7100134982209578, 0.6366695322955979, 1.1113837161496174, 0.6128554613908348, 0.6066015814285294, 0.6065963959811845, 1.2935802854538636, 1.5789041865181046, 0.6705963394338748, 0.6884043179379777, 4.750305231907656, 4.390317394192627, 3.4834936561582373, 3.350731532634164, 2.9750928946278794, 2.868400717789108, 2.4395768860654536, 2.4396609399308256, 2.353553863851357, 2.3046311284977343, 2.29029957644021, 1.9928996306047388, 1.835971947184002, 1.8238165217320608, 1.7291156371405207, 2.9715111106485077, 1.5772728445630948, 1.0982233689702243, 1.2666119662197446, 1.1075960373801612, 1.1222510716953986, 1.096124524815289, 1.1612926937161536, 1.233835890081202, 0.9706900288523356, 0.7131025422810843, 0.6055625769587029, 0.7240769446824542, 0.5994164140621583, 0.888705861111444, 1.4073227001964785, 1.3843303615029872, 8.018102203072244, 4.661202951316979, 4.190398440616962, 3.216384086566409, 2.875676164202083, 2.4195159671062543, 2.1706229124256438, 1.9361620441168985, 1.8721172972243783, 1.8150424658076, 1.7357722288567565, 1.6325989911307688, 1.599895608127184, 1.5861550086951297, 1.995957581163014, 1.9395118866606833, 1.5367264656506026, 1.2121986783378838, 1.3305021372319943, 2.503281012031091, 2.190305827380133, 1.191324358897203, 0.9015894223160265, 0.9015745705118507, 0.8301474626744553, 0.8736021029447402, 0.7413080271736469, 0.7787756516133196, 0.6515085130926611, 0.7235296930970845, 0.7278464243166198], \"Total\": [8.0, 9.0, 9.0, 6.0, 8.0, 5.0, 5.0, 8.0, 5.0, 4.0, 4.0, 5.0, 4.0, 5.0, 6.0, 4.0, 4.0, 4.0, 3.0, 4.0, 3.0, 4.0, 6.0, 3.0, 3.0, 3.0, 3.0, 4.0, 3.0, 3.0, 9.094700279346428, 5.228478313134925, 5.053297064021403, 4.998304627059381, 3.172135880375746, 3.1080805661987005, 3.059142807872814, 8.483831632381785, 2.722248131785281, 3.23173890730475, 2.6315845515750964, 2.7559599489947644, 2.665727228368265, 8.098412928132277, 2.3449867818319157, 2.3449878289756945, 2.245866079206407, 3.457072146346186, 3.603650917156874, 3.8110371450919445, 2.680508280541514, 2.640508915779768, 3.334588514852073, 2.5698233586405523, 2.418396136336508, 2.311222797044416, 2.8921264080711304, 2.6030140704654343, 2.4707584755347534, 2.55973620926528, 5.097338506372887, 6.103432012066223, 6.194240843281386, 4.590118680706033, 3.649119349176616, 3.68731563733764, 3.229891372766285, 3.0948962675589775, 3.0949644216388843, 3.269877061409016, 2.982426185531693, 2.927323173708387, 2.763170602233812, 2.741961586555153, 2.677884802703022, 2.649264258117966, 2.5916425508013394, 3.989207017676859, 2.316988984939472, 2.2949166655587336, 2.3061005225956595, 6.364584251874286, 6.103432012066223, 2.7629889894509607, 2.1908077853318306, 2.2809039924811945, 2.6315151509845056, 2.7766681009758925, 2.6030140704654343, 2.4707584755347534, 9.881610636407771, 2.247064687351965, 4.809350114487784, 5.2948374500947315, 4.7984648070187506, 4.567879277201113, 4.159635333970727, 3.755322971428835, 3.4844330439022584, 3.3561433803655554, 3.348312542502232, 3.1200119551672367, 4.741926744703892, 3.0087638104965864, 2.5777298226731253, 2.320615762265231, 3.087343704057316, 2.857616089003038, 9.881610636407771, 5.097338506372887, 2.7573748569792604, 2.445312685524524, 2.298026023259297, 2.202366058823223, 2.8921264080711304, 2.7766681009758925, 2.66782904996941, 5.542058579734369, 2.3826868543563053, 2.168974830022603, 3.8110371450919445, 2.1851148308012847, 2.2051627430019103, 2.205163424442771, 5.2948374500947315, 8.098412928132277, 2.640508915779768, 3.334588514852073, 5.37565125329839, 5.062690020771045, 4.101634795390434, 3.968839273995553, 3.5976962181993106, 3.522963915990091, 3.064446030778069, 3.0682935026338014, 2.9775446323063592, 2.9259118464284337, 2.9121011064490885, 2.614930347629564, 2.4557337842279057, 2.4444095623621003, 2.34919123445412, 4.809350114487784, 2.7645740239706216, 2.0393862477733076, 2.4182235206519844, 2.1851148308012847, 2.247064687351965, 2.2067564507041486, 2.66782904996941, 2.886789614459862, 2.760366046604266, 2.418396136336508, 2.1908077853318306, 2.7573748569792604, 2.298026023259297, 3.603650917156874, 6.364584251874286, 8.483831632381785, 8.656573423385742, 5.316130374838404, 4.834660395797161, 3.8417503403096753, 3.5693354207337986, 3.048788047247235, 2.792858377170888, 2.5563207002542283, 2.49214665100831, 2.433192468260209, 2.3564410143786687, 2.25324067582948, 2.218681997961548, 2.2125824707285235, 2.991535478774418, 3.01268468804268, 2.61093852694208, 2.3826868543563053, 2.760366046604266, 5.542058579734369, 5.2948374500947315, 2.886789614459862, 2.205163424442771, 2.2051627430019103, 2.168974830022603, 2.311222797044416, 2.2809039924811945, 2.5698233586405523, 2.2067564507041486, 2.55973620926528, 2.7645740239706216], \"Category\": [\"Default\", \"Default\", \"Default\", \"Default\", \"Default\", \"Default\", \"Default\", \"Default\", \"Default\", \"Default\", \"Default\", \"Default\", \"Default\", \"Default\", \"Default\", \"Default\", \"Default\", \"Default\", \"Default\", \"Default\", \"Default\", \"Default\", \"Default\", \"Default\", \"Default\", \"Default\", \"Default\", \"Default\", \"Default\", \"Default\", \"Topic1\", \"Topic1\", \"Topic1\", \"Topic1\", \"Topic1\", \"Topic1\", \"Topic1\", \"Topic1\", \"Topic1\", \"Topic1\", \"Topic1\", \"Topic1\", \"Topic1\", \"Topic1\", \"Topic1\", \"Topic1\", \"Topic1\", \"Topic1\", \"Topic1\", \"Topic1\", \"Topic1\", \"Topic1\", \"Topic1\", \"Topic1\", \"Topic1\", \"Topic1\", \"Topic1\", \"Topic1\", \"Topic1\", \"Topic1\", \"Topic1\", \"Topic1\", \"Topic2\", \"Topic2\", \"Topic2\", \"Topic2\", \"Topic2\", \"Topic2\", \"Topic2\", \"Topic2\", \"Topic2\", \"Topic2\", \"Topic2\", \"Topic2\", \"Topic2\", \"Topic2\", \"Topic2\", \"Topic2\", \"Topic2\", \"Topic2\", \"Topic2\", \"Topic2\", \"Topic2\", \"Topic2\", \"Topic2\", \"Topic2\", \"Topic2\", \"Topic2\", \"Topic2\", \"Topic2\", \"Topic2\", \"Topic2\", \"Topic2\", \"Topic2\", \"Topic3\", \"Topic3\", \"Topic3\", \"Topic3\", \"Topic3\", \"Topic3\", \"Topic3\", \"Topic3\", \"Topic3\", \"Topic3\", \"Topic3\", \"Topic3\", \"Topic3\", \"Topic3\", \"Topic3\", \"Topic3\", \"Topic3\", \"Topic3\", \"Topic3\", \"Topic3\", \"Topic3\", \"Topic3\", \"Topic3\", \"Topic3\", \"Topic3\", \"Topic3\", \"Topic3\", \"Topic3\", \"Topic3\", \"Topic3\", \"Topic3\", \"Topic3\", \"Topic3\", \"Topic3\", \"Topic4\", \"Topic4\", \"Topic4\", \"Topic4\", \"Topic4\", \"Topic4\", \"Topic4\", \"Topic4\", \"Topic4\", \"Topic4\", \"Topic4\", \"Topic4\", \"Topic4\", \"Topic4\", \"Topic4\", \"Topic4\", \"Topic4\", \"Topic4\", \"Topic4\", \"Topic4\", \"Topic4\", \"Topic4\", \"Topic4\", \"Topic4\", \"Topic4\", \"Topic4\", \"Topic4\", \"Topic4\", \"Topic4\", \"Topic4\", \"Topic4\", \"Topic4\", \"Topic5\", \"Topic5\", \"Topic5\", \"Topic5\", \"Topic5\", \"Topic5\", \"Topic5\", \"Topic5\", \"Topic5\", \"Topic5\", \"Topic5\", \"Topic5\", \"Topic5\", \"Topic5\", \"Topic5\", \"Topic5\", \"Topic5\", \"Topic5\", \"Topic5\", \"Topic5\", \"Topic5\", \"Topic5\", \"Topic5\", \"Topic5\", \"Topic5\", \"Topic5\", \"Topic5\", \"Topic5\", \"Topic5\", \"Topic5\", \"Topic5\"], \"logprob\": [30.0, 29.0, 28.0, 27.0, 26.0, 25.0, 24.0, 23.0, 22.0, 21.0, 20.0, 19.0, 18.0, 17.0, 16.0, 15.0, 14.0, 13.0, 12.0, 11.0, 10.0, 9.0, 8.0, 7.0, 6.0, 5.0, 4.0, 3.0, 2.0, 1.0, -2.429, -3.0365, -3.0741, -3.0952, -3.6275, -3.6559, -3.6726, -2.6689, -3.8225, -3.6542, -3.867, -3.8217, -3.8594, -2.7619, -4.0192, -4.0192, -4.0794, -3.6993, -3.7542, -3.7611, -4.1257, -4.1554, -3.9942, -4.2869, -4.3502, -4.5939, -4.3983, -4.5296, -4.6787, -4.68, -4.0911, -4.1196, -2.7655, -3.1415, -3.372, -3.3674, -3.5201, -3.5732, -3.5747, -3.521, -3.62, -3.6436, -3.7186, -3.7276, -3.7601, -3.7787, -3.8034, -3.3899, -3.9532, -3.9651, -3.9682, -2.9893, -3.0995, -3.9426, -4.3849, -4.4044, -4.3314, -4.2996, -4.389, -4.6349, -3.2888, -4.907, -4.1636, -4.0725, -2.9902, -3.0499, -3.1589, -3.2732, -3.36, -3.4067, -3.417, -3.4975, -3.0847, -3.5611, -3.7404, -3.8829, -3.7076, -3.8306, -2.6137, -3.3182, -3.9605, -4.1083, -4.2027, -4.3642, -4.1933, -4.3032, -4.3686, -3.8631, -4.7551, -4.8641, -4.307, -4.9023, -4.9125, -4.9125, -4.1552, -3.9559, -4.8122, -4.786, -2.8116, -2.8904, -3.1218, -3.1606, -3.2796, -3.3161, -3.478, -3.478, -3.5139, -3.5349, -3.5411, -3.6802, -3.7623, -3.7689, -3.8222, -3.2808, -3.9141, -4.2761, -4.1335, -4.2676, -4.2545, -4.278, -4.2203, -4.1597, -4.3996, -4.708, -4.8714, -4.6927, -4.8816, -4.4878, -4.0281, -4.0446, -2.2723, -2.8147, -2.9212, -3.1858, -3.2977, -3.4704, -3.579, -3.6933, -3.7269, -3.7579, -3.8026, -3.8638, -3.8841, -3.8927, -3.6629, -3.6916, -3.9244, -4.1616, -4.0685, -3.4364, -3.57, -4.179, -4.4576, -4.4576, -4.5402, -4.4891, -4.6534, -4.604, -4.7825, -4.6776, -4.6717], \"loglift\": [30.0, 29.0, 28.0, 27.0, 26.0, 25.0, 24.0, 23.0, 22.0, 21.0, 20.0, 19.0, 18.0, 17.0, 16.0, 15.0, 14.0, 13.0, 12.0, 11.0, 10.0, 9.0, 8.0, 7.0, 6.0, 5.0, 4.0, 3.0, 2.0, 1.0, 1.4108, 1.3569, 1.3533, 1.3432, 1.2655, 1.2575, 1.2567, 1.2404, 1.2236, 1.2203, 1.2129, 1.212, 1.2076, 1.1939, 1.176, 1.176, 1.159, 1.1077, 1.0113, 0.9485, 0.9358, 0.9211, 0.8489, 0.8167, 0.8141, 0.6158, 0.5872, 0.5612, 0.4642, 0.4276, 0.3277, 0.1191, 1.4583, 1.3821, 1.381, 1.3752, 1.355, 1.3445, 1.343, 1.3417, 1.3347, 1.3298, 1.3125, 1.3112, 1.3023, 1.2945, 1.2918, 1.274, 1.254, 1.2516, 1.2437, 1.2075, 1.1391, 1.0886, 0.8783, 0.8185, 0.7485, 0.7267, 0.7018, 0.508, 0.4681, 0.3309, 0.3134, 0.3083, 1.489, 1.4785, 1.4632, 1.4511, 1.4391, 1.43, 1.422, 1.4122, 1.4064, 1.3849, 1.3601, 1.3228, 1.2126, 1.1668, 1.1431, 1.1006, 1.0727, 1.045, 1.0127, 0.8938, 0.7922, 0.723, 0.6977, 0.4721, 0.4241, 0.4091, 0.4025, 0.3635, 0.3442, 0.3442, 0.2255, -0.0001, 0.2643, 0.0571, 1.554, 1.5352, 1.5143, 1.5084, 1.4876, 1.4721, 1.4496, 1.4484, 1.4425, 1.439, 1.4375, 1.406, 1.3868, 1.3848, 1.3712, 1.1962, 1.1165, 1.0587, 1.031, 0.9982, 0.9834, 0.9779, 0.8459, 0.8276, 0.6325, 0.4564, 0.3918, 0.3405, 0.3338, 0.2777, 0.1686, -0.1353, 1.6168, 1.562, 1.5504, 1.5158, 1.4774, 1.4623, 1.4414, 1.4156, 1.4074, 1.4004, 1.3878, 1.3713, 1.3665, 1.3606, 1.2888, 1.2531, 1.1634, 1.0177, 0.9637, 0.8987, 0.8108, 0.8084, 0.7991, 0.799, 0.7331, 0.7206, 0.5696, 0.4996, 0.4735, 0.4299, 0.3589]}, \"token.table\": {\"Topic\": [3, 5, 4, 1, 2, 3, 4, 4, 4, 2, 1, 2, 4, 4, 5, 2, 2, 4, 3, 4, 1, 5, 4, 2, 3, 3, 2, 1, 3, 4, 3, 5, 4, 1, 2, 4, 3, 3, 5, 1, 3, 1, 5, 4, 5, 2, 4, 1, 3, 1, 3, 2, 5, 4, 5, 5, 2, 2, 4, 1, 1, 1, 3, 5, 1, 5, 1, 2, 5, 4, 3, 5, 3, 4, 1, 4, 1, 4, 2, 2, 2, 5, 1, 2, 2, 4, 1, 2, 5, 3, 5, 3, 3, 4, 2, 4, 1, 3, 3, 1, 2, 3, 5, 4, 5, 1, 5, 2, 3, 5, 1, 1, 3, 3, 5, 3, 3, 2, 3, 4, 2, 3, 5, 1, 3, 1, 5, 2, 4, 3, 2, 5, 4, 5, 1, 5, 5, 4, 5, 1, 4, 5, 4, 1, 3, 4, 2, 4, 2, 3, 5, 2, 3, 4, 5, 2, 2, 3, 1, 2, 2, 1, 4, 3, 4, 1, 3, 1, 1, 4, 1, 1, 4, 4, 5, 4, 5], \"Freq\": [0.7758765028081899, 0.7808940545986068, 0.9301198616506423, 0.9457350230673737, 0.7520291593558536, 0.725327568334697, 0.3626637841673485, 0.7648387276598022, 0.8338669576447828, 0.8221161636373766, 0.3800092124211707, 0.3800092124211707, 0.3800092124211707, 0.7234387586147896, 0.3617193793073948, 0.8672648830367878, 0.4450250166934187, 0.4450250166934187, 0.8609722047177764, 0.4903436026852904, 0.7461271485406349, 0.37306357427031744, 0.6716943814376449, 0.6462109825937628, 0.8756798849664278, 0.861840220393803, 0.9174656856081544, 0.3923616211675021, 0.5885424317512532, 0.8515556989907126, 0.40894565587447484, 0.40894565587447484, 0.7558885086772, 0.38417003248130505, 0.38417003248130505, 0.6835475930149213, 0.6410231847630203, 0.46104730500241853, 0.46104730500241853, 0.454057124606399, 0.454057124606399, 0.7599983815085589, 0.7823744492626056, 0.3464055693532439, 0.3464055693532439, 0.6462252130916977, 0.7900938006452944, 0.5785242295605025, 0.28926211478025127, 0.7408859060714468, 0.24696196869048226, 0.7294048209160683, 0.8404925977461787, 0.651828124748566, 0.8487375613462352, 0.9405337430521512, 0.8714371627935198, 0.7238537712730532, 0.3619268856365266, 0.8528828914534762, 0.6434839629804304, 0.3906652554198269, 0.3906652554198269, 0.3906652554198269, 0.7502643101350742, 0.8273590433523018, 0.7256999510205144, 0.7468581165183902, 0.8219653915952025, 0.8513568289661777, 0.45348126943170186, 0.45348126943170186, 0.374836611068264, 0.374836611068264, 0.4134971872370106, 0.4134971872370106, 0.5549927132170488, 0.2774963566085244, 0.6705949705318355, 0.7238061950945602, 0.438422661934222, 0.438422661934222, 0.40473401585056473, 0.40473401585056473, 0.45645264121084683, 0.45645264121084683, 0.32768448899669655, 0.6553689779933931, 0.8025209909660854, 0.8938831450261926, 0.7161122154808156, 0.843538969569168, 0.4351560817321369, 0.4351560817321369, 0.6284778143713083, 0.15711945359282709, 0.3457663528154491, 0.3457663528154491, 0.9616227574886134, 0.9563011837381166, 0.37772642103757453, 0.18886321051878727, 0.37772642103757453, 0.3830040384639755, 0.766008076927951, 0.7346868849491606, 0.9241531965047499, 0.18043836700981425, 0.3608767340196285, 0.5413151010294428, 0.890525048896377, 0.5247915262583326, 0.2623957631291663, 0.6478060726998571, 0.32390303634992856, 0.7988660423682685, 0.8959737067311123, 0.3601438715878712, 0.3601438715878712, 0.8144205258913313, 0.928823806675148, 0.4196942616154883, 0.4196942616154883, 0.6188618750974495, 0.8335999451635385, 0.38913180419101034, 0.38913180419101034, 0.8135999993117204, 0.8181934937561547, 0.6647248258645821, 0.8631892568329353, 0.9014360786437777, 0.45315376768510746, 0.45315376768510746, 0.43267139856823694, 0.43267139856823694, 0.8876104632115009, 0.33192985776738987, 0.6638597155347797, 0.8796331659403407, 0.3622707942050567, 0.3622707942050567, 0.6867893410605953, 0.599774152370558, 0.299887076185279, 0.299887076185279, 0.20792830137019547, 0.6237849041105864, 0.8714913399755492, 0.453481129296661, 0.453481129296661, 0.683218039594297, 0.6998840773946503, 0.34994203869732515, 0.9039211086859384, 0.7549265777740108, 0.30359423280116005, 0.6071884656023201, 0.6537779128365397, 0.7717113609597115, 0.9686417031245935, 0.8528832723046693, 0.7314156792729349, 0.4576418529150244, 0.4576418529150244, 0.3787148734942598, 0.3787148734942598, 0.8002713516789578, 0.825098882594726, 0.1178712689421037, 0.7915624095166114, 0.41352670316033774, 0.41352670316033774, 0.6526465076926794, 0.65599837345394, 0.3342764968342221, 0.6685529936684442], \"Term\": [\"adam\", \"allen\", \"athlet\", \"award\", \"basebal\", \"basemen\", \"basemen\", \"bench\", \"bengal\", \"best\", \"big\", \"big\", \"big\", \"bill\", \"bill\", \"burrow\", \"buy\", \"buy\", \"call\", \"card\", \"cav\", \"cav\", \"chief\", \"clutch\", \"coach\", \"connor\", \"contend\", \"cowboy\", \"cowboy\", \"cup\", \"deserv\", \"deserv\", \"doubl\", \"draft\", \"draft\", \"dream\", \"dunk\", \"earli\", \"earli\", \"end\", \"end\", \"er\", \"field\", \"fight\", \"fight\", \"fin\", \"footbal\", \"fox\", \"fox\", \"game\", \"game\", \"get\", \"gianni\", \"giant\", \"gil\", \"go\", \"goal\", \"harden\", \"harden\", \"hat\", \"hockey\", \"home\", \"home\", \"home\", \"hugh\", \"insid\", \"jack\", \"jet\", \"josh\", \"juan\", \"land\", \"land\", \"latest\", \"latest\", \"leagu\", \"leagu\", \"life\", \"life\", \"like\", \"link\", \"list\", \"list\", \"live\", \"live\", \"look\", \"look\", \"loss\", \"loss\", \"manag\", \"mcdavid\", \"mixon\", \"mlb\", \"nation\", \"nation\", \"nba\", \"nba\", \"net\", \"net\", \"new\", \"nfl\", \"nhl\", \"nhl\", \"nhl\", \"night\", \"night\", \"pick\", \"play\", \"player\", \"player\", \"player\", \"playoff\", \"point\", \"point\", \"post\", \"post\", \"power\", \"predict\", \"prospect\", \"prospect\", \"put\", \"quot\", \"race\", \"race\", \"randl\", \"rank\", \"recruit\", \"recruit\", \"red\", \"rest\", \"return\", \"rodger\", \"roki\", \"rooki\", \"rooki\", \"roy\", \"roy\", \"run\", \"sasaki\", \"sasaki\", \"score\", \"season\", \"season\", \"sell\", \"skene\", \"skene\", \"skene\", \"soto\", \"soto\", \"sox\", \"spot\", \"spot\", \"star\", \"start\", \"start\", \"stat\", \"stori\", \"team\", \"team\", \"texan\", \"think\", \"trade\", \"trick\", \"tripl\", \"turn\", \"turn\", \"updat\", \"updat\", \"week\", \"win\", \"win\", \"winner\", \"women\", \"women\", \"world\", \"yanke\", \"year\", \"year\"]}, \"R\": 30, \"lambda.step\": 0.01, \"plot.opts\": {\"xlab\": \"PC1\", \"ylab\": \"PC2\"}, \"topic.order\": [4, 1, 3, 5, 2]};\n",
              "\n",
              "function LDAvis_load_lib(url, callback){\n",
              "  var s = document.createElement('script');\n",
              "  s.src = url;\n",
              "  s.async = true;\n",
              "  s.onreadystatechange = s.onload = callback;\n",
              "  s.onerror = function(){console.warn(\"failed to load library \" + url);};\n",
              "  document.getElementsByTagName(\"head\")[0].appendChild(s);\n",
              "}\n",
              "\n",
              "if(typeof(LDAvis) !== \"undefined\"){\n",
              "   // already loaded: just create the visualization\n",
              "   !function(LDAvis){\n",
              "       new LDAvis(\"#\" + \"ldavis_el1611405022675984806376043091\", ldavis_el1611405022675984806376043091_data);\n",
              "   }(LDAvis);\n",
              "}else if(typeof define === \"function\" && define.amd){\n",
              "   // require.js is available: use it to load d3/LDAvis\n",
              "   require.config({paths: {d3: \"https://d3js.org/d3.v5\"}});\n",
              "   require([\"d3\"], function(d3){\n",
              "      window.d3 = d3;\n",
              "      LDAvis_load_lib(\"https://cdn.jsdelivr.net/gh/bmabey/pyLDAvis@3.4.0/pyLDAvis/js/ldavis.v3.0.0.js\", function(){\n",
              "        new LDAvis(\"#\" + \"ldavis_el1611405022675984806376043091\", ldavis_el1611405022675984806376043091_data);\n",
              "      });\n",
              "    });\n",
              "}else{\n",
              "    // require.js not available: dynamically load d3 & LDAvis\n",
              "    LDAvis_load_lib(\"https://d3js.org/d3.v5.js\", function(){\n",
              "         LDAvis_load_lib(\"https://cdn.jsdelivr.net/gh/bmabey/pyLDAvis@3.4.0/pyLDAvis/js/ldavis.v3.0.0.js\", function(){\n",
              "                 new LDAvis(\"#\" + \"ldavis_el1611405022675984806376043091\", ldavis_el1611405022675984806376043091_data);\n",
              "            })\n",
              "         });\n",
              "}\n",
              "</script>"
            ]
          },
          "metadata": {},
          "execution_count": 146
        }
      ]
    },
    {
      "cell_type": "markdown",
      "source": [
        "#### Classification of the topics\n",
        "* 1: Game Scores/ Winners/ NFL\n",
        "* 2: Trades/ Goals / NBA\n",
        "* 3: Power Ranks/ Coaches/ MLB\n",
        "* 4: Football/ Athletes\n",
        "* 5: Best Plays/ Management/ NHL"
      ],
      "metadata": {
        "id": "Fg6focpSbjeX"
      },
      "id": "Fg6focpSbjeX"
    },
    {
      "cell_type": "markdown",
      "source": [
        "### Testing model on Newly Created Sports Headline"
      ],
      "metadata": {
        "id": "lWP8JMuEnd3E"
      },
      "id": "lWP8JMuEnd3E"
    },
    {
      "cell_type": "code",
      "source": [
        "unseen_headline = \"NFL implements New Playoff rules for upcoming football season\"\n",
        "\n",
        "# Data preprocessing step for the unseen document\n",
        "bow_vector = dictionary.doc2bow(preprocess(unseen_headline))\n",
        "\n",
        "for index, score in sorted(lda_model[bow_vector], key=lambda tup: -1*tup[1]):\n",
        "\n",
        "    print(\"Score: {}\\t Topic: {}\".format(score, lda_model.print_topic(index, 5)))"
      ],
      "metadata": {
        "colab": {
          "base_uri": "https://localhost:8080/"
        },
        "id": "OFdjgOedh5Pj",
        "outputId": "bbc403de-8f78-44d1-b312-62583daaab00"
      },
      "id": "OFdjgOedh5Pj",
      "execution_count": 169,
      "outputs": [
        {
          "output_type": "stream",
          "name": "stdout",
          "text": [
            "Score: 0.5208846926689148\t Topic: 0.088*\"nba\" + 0.070*\"nfl\" + 0.064*\"play\" + 0.057*\"insid\" + 0.056*\"week\"\n",
            "Score: 0.3782939612865448\t Topic: 0.069*\"win\" + 0.061*\"team\" + 0.059*\"game\" + 0.052*\"trade\" + 0.038*\"soto\"\n",
            "Score: 0.033730506896972656\t Topic: 0.099*\"score\" + 0.068*\"player\" + 0.060*\"go\" + 0.058*\"goal\" + 0.043*\"allen\"\n",
            "Score: 0.03369349241256714\t Topic: 0.063*\"nhl\" + 0.053*\"rank\" + 0.047*\"basebal\" + 0.040*\"best\" + 0.032*\"race\"\n",
            "Score: 0.03339732810854912\t Topic: 0.069*\"loss\" + 0.051*\"cowboy\" + 0.037*\"skene\" + 0.037*\"predict\" + 0.036*\"score\"\n"
          ]
        }
      ]
    },
    {
      "cell_type": "markdown",
      "source": [
        "The model classifies the headline to have the highest probabilities to belong to Topics 1 and 5 respectfully."
      ],
      "metadata": {
        "id": "O5h_6ZPxrdSU"
      },
      "id": "O5h_6ZPxrdSU"
    }
  ],
  "metadata": {
    "kernelspec": {
      "display_name": "Python 3 (ipykernel)",
      "language": "python",
      "name": "python3"
    },
    "language_info": {
      "codemirror_mode": {
        "name": "ipython",
        "version": 3
      },
      "file_extension": ".py",
      "mimetype": "text/x-python",
      "name": "python",
      "nbconvert_exporter": "python",
      "pygments_lexer": "ipython3",
      "version": "3.12.4"
    },
    "colab": {
      "provenance": [],
      "collapsed_sections": [
        "gPz8GyZ6PMOM",
        "AEbnxHkrOztO",
        "tNn53HS2Q21Q"
      ]
    }
  },
  "nbformat": 4,
  "nbformat_minor": 5
}